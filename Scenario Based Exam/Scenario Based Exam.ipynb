{
 "cells": [
  {
   "cell_type": "markdown",
   "id": "3bcedd04",
   "metadata": {},
   "source": [
    "# Scenario 1:"
   ]
  },
  {
   "cell_type": "code",
   "execution_count": 14,
   "id": "48b789c8",
   "metadata": {},
   "outputs": [
    {
     "name": "stdout",
     "output_type": "stream",
     "text": [
      "Alice, 85\n",
      "Bob, 90\n",
      "Charlie, 75\n",
      "Dave, 82\n",
      "Eve, 95\n",
      "Frank, 78\n",
      "Grace, Invalid Grade\n"
     ]
    }
   ],
   "source": [
    "with open(\"student_records.txt\", \"r\") as file:\n",
    "    student_records = file.read()\n",
    "    print(student_records)\n",
    "    "
   ]
  },
  {
   "cell_type": "code",
   "execution_count": 15,
   "id": "d44293dd",
   "metadata": {},
   "outputs": [
    {
     "data": {
      "text/plain": [
       "'Alice, 85\\nBob, 90\\nCharlie, 75\\nDave, 82\\nEve, 95\\nFrank, 78\\nGrace, Invalid Grade'"
      ]
     },
     "execution_count": 15,
     "metadata": {},
     "output_type": "execute_result"
    }
   ],
   "source": [
    "student_records"
   ]
  },
  {
   "cell_type": "code",
   "execution_count": 17,
   "id": "2a864519",
   "metadata": {},
   "outputs": [
    {
     "data": {
      "text/plain": [
       "['Alice, 85\\nBob, 90\\nCharlie, 75\\nDave, 82\\nEve, 95\\nFrank, 78\\nGrace, Invalid Grade']"
      ]
     },
     "execution_count": 17,
     "metadata": {},
     "output_type": "execute_result"
    }
   ],
   "source": [
    "student_names = [student_records]\n",
    "student_grade = []\n",
    "student_names"
   ]
  },
  {
   "cell_type": "code",
   "execution_count": null,
   "id": "5916925a",
   "metadata": {},
   "outputs": [],
   "source": []
  },
  {
   "cell_type": "code",
   "execution_count": null,
   "id": "17595676",
   "metadata": {},
   "outputs": [],
   "source": []
  },
  {
   "cell_type": "markdown",
   "id": "ff6ebf3e",
   "metadata": {},
   "source": [
    "# Scenario 2:"
   ]
  },
  {
   "cell_type": "code",
   "execution_count": 33,
   "id": "01bc043f",
   "metadata": {},
   "outputs": [],
   "source": [
    "class Vehicle():\n",
    "    def __init__(self, make, model, year):\n",
    "        self.make = make\n",
    "        self.model = model\n",
    "        self.year = year\n",
    "        \n",
    "    def start_engine_vehicle(self, time):\n",
    "        print(f\"Vehicle Engine Starts in {time} Seconds\")\n",
    "    \n",
    "    def accelerate_vehicle(self, speed):\n",
    "        print(f\"Vehicle Accelerates upto {speed} Miles/Hour\")\n",
    "    \n",
    "    def get_info_vehicle(self):\n",
    "        print(f\"Make of Vehicle is {self.make}, Model of Vehicle is {self.model}, Year of Vehicle is {self.year}\")\n",
    "    \n",
    "class Car(Vehicle):\n",
    "    def __init__(self, make, model, year, number_of_doors):\n",
    "        super().__init__(make, model, year)\n",
    "        self.number_of_doors = number_of_doors\n",
    "    \n",
    "    def start_engine_car(self, time):\n",
    "        print(f\"Car Engine Starts in {time} Seconds\")\n",
    "    \n",
    "    def accelerate_car(self, speed):\n",
    "        print(f\"Car Accelerates upto {speed} Miles/Hour\")\n",
    "    \n",
    "    def get_info_car(self):\n",
    "        print(f\"Make of Car is {self.make}, Model of Car is {self.model}, Year of Car is {self.year}, Number Of Doors in Car is {self.number_of_doors}\")\n",
    "        \n",
    "class Truck(Vehicle):\n",
    "    def __init__(self, make, model, year, cargo_capacity):\n",
    "        super().__init__(make, model, year)\n",
    "        self.cargo_capacity = cargo_capacity\n",
    "    \n",
    "    def start_engine_truck(self, time):\n",
    "        print(f\"Truck Engine Starts in {time} Seconds\")\n",
    "    \n",
    "    def accelerate_truck(self, speed):\n",
    "        print(f\"Truck Accelerates upto {speed} Miles/Hour\")\n",
    "    \n",
    "    def get_info_truck(self):\n",
    "        print(f\"Make of Truck is {self.make}, Model of Truck is {self.model}, Year of Truck is {self.year}, Cargo Capacity Of Truck is {self.cargo_capacity}\")\n",
    "\n",
    "class Motorcycle(Vehicle):\n",
    "    def __init__(self, make, model, year, type_of_drive):\n",
    "        super().__init__(make, model, year)\n",
    "        self.type_of_drive = type_of_drive\n",
    "        \n",
    "    def start_engine_motorcycle(self, time):\n",
    "        print(f\"Motorcycle Engine Starts in {time} Seconds\")\n",
    "    \n",
    "    def accelerate_motorcycle(self, speed):\n",
    "        print(f\"Motorcycle Accelerates upto {speed} Miles/Hour\")\n",
    "    \n",
    "    def get_info_motorcycle(self):\n",
    "        print(f\"Make of Motorcycle is {self.make}, Model of Motorcycle is {self.model}, Year of Motorcycle is {self.year}, Motorcycle Type of Drive is {self.type_of_drive}\")"
   ]
  },
  {
   "cell_type": "code",
   "execution_count": 34,
   "id": "db232337",
   "metadata": {},
   "outputs": [
    {
     "name": "stdout",
     "output_type": "stream",
     "text": [
      "Honda\n",
      "Mitchell\n",
      "2024\n",
      "Vehicle Accelerates upto 150 Miles/Hour\n",
      "Vehicle Engine Starts in 10 Seconds\n",
      "Make of Vehicle is Honda, Model of Vehicle is Mitchell, Year of Vehicle is 2024\n"
     ]
    }
   ],
   "source": [
    "vehicle = Vehicle(\"Honda\", \"Mitchell\", 2024)\n",
    "print(vehicle.make)\n",
    "print(vehicle.model)\n",
    "print(vehicle.year)\n",
    "vehicle.accelerate_vehicle(150)\n",
    "vehicle.start_engine_vehicle(10)\n",
    "vehicle.get_info_vehicle()"
   ]
  },
  {
   "cell_type": "code",
   "execution_count": 35,
   "id": "d89f5557",
   "metadata": {},
   "outputs": [
    {
     "name": "stdout",
     "output_type": "stream",
     "text": [
      "Honda\n",
      "Civic\n",
      "2024\n",
      "Car Accelerates upto 200 Miles/Hour\n",
      "Car Engine Starts in 8 Seconds\n",
      "Make of Car is Honda, Model of Car is Civic, Year of Car is 2024, Number Of Doors in Car is 4\n"
     ]
    }
   ],
   "source": [
    "car = Car(\"Honda\", \"Civic\", 2024, 4)\n",
    "print(car.make)\n",
    "print(car.model)\n",
    "print(car.year)\n",
    "car.accelerate_car(200)\n",
    "car.start_engine_car(8)\n",
    "car.get_info_car()"
   ]
  },
  {
   "cell_type": "code",
   "execution_count": 36,
   "id": "3842ebf6",
   "metadata": {},
   "outputs": [
    {
     "name": "stdout",
     "output_type": "stream",
     "text": [
      "Suzuki\n",
      "Shehzore\n",
      "2023\n",
      "Truck Accelerates upto 130 Miles/Hour\n",
      "Truck Engine Starts in 6 Seconds\n",
      "Make of Truck is Suzuki, Model of Truck is Shehzore, Year of Truck is 2023, Cargo Capacity Of Truck is 5 Ton\n"
     ]
    }
   ],
   "source": [
    "truck = Truck(\"Suzuki\", \"Shehzore\", 2023, \"5 Ton\")\n",
    "print(truck.make)\n",
    "print(truck.model)\n",
    "print(truck.year)\n",
    "truck.accelerate_truck(130)\n",
    "truck.start_engine_truck(6)\n",
    "truck.get_info_truck()"
   ]
  },
  {
   "cell_type": "code",
   "execution_count": 37,
   "id": "72229d6c",
   "metadata": {},
   "outputs": [
    {
     "name": "stdout",
     "output_type": "stream",
     "text": [
      "Honda\n",
      "Hayabusa\n",
      "2022\n",
      "Motorcycle Accelerates upto 110 Miles/Hour\n",
      "Motorcycle Engine Starts in 3 Seconds\n",
      "Make of Motorcycle is Honda, Model of Motorcycle is Hayabusa, Year of Motorcycle is 2022, Motorcycle Type of Drive is 2 Wheel Drive\n"
     ]
    }
   ],
   "source": [
    "motorcycle = Motorcycle(\"Honda\", \"Hayabusa\", 2022, \"2 Wheel Drive\")\n",
    "print(motorcycle.make)\n",
    "print(motorcycle.model)\n",
    "print(motorcycle.year)\n",
    "motorcycle.accelerate_motorcycle(110)\n",
    "motorcycle.start_engine_motorcycle(3)\n",
    "motorcycle.get_info_motorcycle()"
   ]
  },
  {
   "cell_type": "markdown",
   "id": "0877df2e",
   "metadata": {},
   "source": [
    "# Scenario 3:"
   ]
  },
  {
   "cell_type": "code",
   "execution_count": 57,
   "id": "c81b9464",
   "metadata": {},
   "outputs": [],
   "source": [
    "books_inventory = {}\n",
    "\n",
    "\n",
    "def add_book(id_no_of_book, book_title, author_name, quantity_of_book):\n",
    "    if id_no_of_book in inventory:\n",
    "        inventory[id_no_of_book]['quantity_of_book'] += quantity_of_book\n",
    "    else:\n",
    "        inventory[id_no_of_book] = {'title': book_title, 'author_name': author_name, 'quantity_of_book': quantity_of_book}\n",
    "\n",
    "\n",
    "def remove_book(book_id):\n",
    "    if id_no_of_book in inventory:\n",
    "        del inventory[id_no_of_book]\n",
    "\n",
    "\n",
    "def display_inventory_info():\n",
    "    print(\"Current Inventory:\")\n",
    "    for id_no_of_book, book_info in inventory.items():\n",
    "        print(f\"Book ID: {id_no_of_book}, Title: {info_of_book['title']}, Author: {info_of_book['author']}, Quantity: {info_of_book['quantity']}\")\n",
    "\n",
    "    display_inventory()\n",
    "    remove_book()\n",
    "    display_inventory_info()"
   ]
  },
  {
   "cell_type": "markdown",
   "id": "64ecbb87",
   "metadata": {},
   "source": [
    "# Scenario 4:"
   ]
  },
  {
   "cell_type": "code",
   "execution_count": 48,
   "id": "ceccd88e",
   "metadata": {},
   "outputs": [
    {
     "name": "stdout",
     "output_type": "stream",
     "text": [
      "Total: (15, 120, 3.0), Product: (15, 120, 3.0), Average: (15, 120, 3.0)\n"
     ]
    }
   ],
   "source": [
    "def perform_operations(numbers):\n",
    "    total = 0\n",
    "    product = 1\n",
    "    for num in numbers:\n",
    "        total += num\n",
    "        product *= num\n",
    "\n",
    "    average = total / len(numbers)\n",
    "    return total, product, average\n",
    "\n",
    "numbers = [1, 2, 3, 4, 5]\n",
    "total = perform_operations(numbers)\n",
    "product = perform_operations(numbers)\n",
    "average = perform_operations(numbers)\n",
    "print(f\"Total: {total}, Product: {product}, Average: {average}\")\n"
   ]
  },
  {
   "cell_type": "code",
   "execution_count": 49,
   "id": "1442a802",
   "metadata": {},
   "outputs": [
    {
     "name": "stdout",
     "output_type": "stream",
     "text": [
      "Total: 15, Product: 120, Average: 3.0\n"
     ]
    }
   ],
   "source": [
    "def perform_operations(numbers):\n",
    "    total = 0\n",
    "    product = 1\n",
    "    for num in numbers:\n",
    "        total += num\n",
    "        product *= num\n",
    "\n",
    "    average = total / len(numbers)\n",
    "    return total, product, average\n",
    "\n",
    "numbers = [1, 2, 3, 4, 5]\n",
    "total, product, average = perform_operations(numbers)\n",
    "print(f\"Total: {total}, Product: {product}, Average: {average}\")"
   ]
  },
  {
   "cell_type": "code",
   "execution_count": null,
   "id": "3fb323d4",
   "metadata": {},
   "outputs": [],
   "source": []
  }
 ],
 "metadata": {
  "kernelspec": {
   "display_name": "Python 3 (ipykernel)",
   "language": "python",
   "name": "python3"
  },
  "language_info": {
   "codemirror_mode": {
    "name": "ipython",
    "version": 3
   },
   "file_extension": ".py",
   "mimetype": "text/x-python",
   "name": "python",
   "nbconvert_exporter": "python",
   "pygments_lexer": "ipython3",
   "version": "3.11.5"
  }
 },
 "nbformat": 4,
 "nbformat_minor": 5
}
