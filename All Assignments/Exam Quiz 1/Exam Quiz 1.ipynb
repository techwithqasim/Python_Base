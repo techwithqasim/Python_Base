{
 "cells": [
  {
   "cell_type": "markdown",
   "id": "2bd38c3d",
   "metadata": {},
   "source": [
    "## Scenario 01: Employee Performance Evaluation\n",
    "\n",
    "In a large corporation, the HR department needs to evaluate the performance of employees based on their sales records and customer satisfaction ratings. They want to identify the top-performing employees based on a weighted score that combines sales performance and customer satisfaction.\n",
    "\n",
    "Hint: Use List comprehemsion & Lambda Functions\n",
    "\n",
    "#Sample data: List of tuples containing employee names, sales figures, and customer satisfaction ratings\n",
    "\n",
    "employees = [\n",
    "    (\"John\", 50000, 4.5),\n",
    "    (\"Alice\", 60000, 4.7),\n",
    "    (\"Bob\", 45000, 4.2),\n",
    "    (\"Emma\", 55000, 4.6),\n",
    "    (\"James\", 48000, 4.4)\n",
    "]\n",
    "\n",
    "#Define weights for sales performance and customer satisfaction ratings\n",
    "sales_weight = 0.6\n",
    "satisfaction_weight = 0.4"
   ]
  },
  {
   "cell_type": "code",
   "execution_count": 42,
   "id": "33c8ff89",
   "metadata": {},
   "outputs": [
    {
     "name": "stdout",
     "output_type": "stream",
     "text": [
      "Top Performing Employees:\n",
      "Name: Alice,  Score: 36001.88\n",
      "Name: Emma,  Score: 33001.84\n",
      "Name: John,  Score: 30001.8\n",
      "Name: James,  Score: 28801.76\n",
      "Name: Bob,  Score: 27001.68\n"
     ]
    }
   ],
   "source": [
    "employees = [\n",
    "    (\"John\", 50000, 4.5),\n",
    "    (\"Alice\", 60000, 4.7),\n",
    "    (\"Bob\", 45000, 4.2),\n",
    "    (\"Emma\", 55000, 4.6),\n",
    "    (\"James\", 48000, 4.4)\n",
    "]\n",
    "sales_weight = 0.6\n",
    "satisfaction_weight = 0.4\n",
    "\n",
    "sorted_weighted_scores = sorted([(employee[0],sales_weight * employee[1] + satisfaction_weight * employee[2]) for employee in employees], key=lambda x: x[1], reverse=True)\n",
    "print(\"Top Performing Employees:\")\n",
    "for employee in sorted_weighted_scores:\n",
    "    print(f\"Name: {employee[0]},  Score: {employee[1]}\")\n"
   ]
  },
  {
   "cell_type": "code",
   "execution_count": 7,
   "id": "f663dd80",
   "metadata": {},
   "outputs": [
    {
     "name": "stdout",
     "output_type": "stream",
     "text": [
      "[('John', 30001.8), ('Alice', 36001.88), ('Bob', 27001.68), ('Emma', 33001.84), ('James', 28801.76)]\n"
     ]
    }
   ],
   "source": [
    "weighted_scores = [(employee[0],sales_weight * employee[1] + satisfaction_weight * employee[2]) for employee in employees]\n",
    "print(weighted_scores)"
   ]
  },
  {
   "cell_type": "code",
   "execution_count": 4,
   "id": "8fb0986c",
   "metadata": {},
   "outputs": [
    {
     "name": "stdout",
     "output_type": "stream",
     "text": [
      "[('Alice', 36001.88), ('Emma', 33001.84), ('John', 30001.8), ('James', 28801.76), ('Bob', 27001.68)]\n"
     ]
    }
   ],
   "source": [
    "sorted_employees = sorted(weighted_scores, key=lambda x: x[1], reverse=True)\n",
    "print(sorted_employees)"
   ]
  },
  {
   "cell_type": "code",
   "execution_count": 21,
   "id": "78d1ff63",
   "metadata": {},
   "outputs": [
    {
     "name": "stdout",
     "output_type": "stream",
     "text": [
      "[('Alice', 36001.88), ('Emma', 33001.84), ('John', 30001.8), ('James', 28801.76), ('Bob', 27001.68)]\n"
     ]
    }
   ],
   "source": [
    "weighted_scores = sorted([(employee[0],sales_weight * employee[1] + satisfaction_weight * employee[2]) for employee in employees], key=lambda x: x[1], reverse=True)\n",
    "print(weighted_scores)"
   ]
  },
  {
   "cell_type": "code",
   "execution_count": 15,
   "id": "b1e4483a",
   "metadata": {},
   "outputs": [
    {
     "name": "stdout",
     "output_type": "stream",
     "text": [
      "Top Performing Employees\n",
      "Name: Alice, Score: 36001.88\n",
      "Name: Bob, Score: 27001.68\n",
      "Name: Emma, Score: 33001.84\n",
      "Name: James, Score: 28801.76\n",
      "Name: John, Score: 30001.8\n"
     ]
    }
   ],
   "source": [
    "print(\"Top Performing Employees\")\n",
    "for employee in weighted_scores:\n",
    "    print(f\"Name: {employee[0]}, Score: {employee[1]}\")"
   ]
  },
  {
   "cell_type": "markdown",
   "id": "eaa274fb",
   "metadata": {},
   "source": [
    "## Scenario 02: Calculating Square Roots of Even Numbers\n",
    "\n",
    "Imagine you're tasked with calculating the square roots of even numbers from 1 to 10 using list comprehension and lambda functions."
   ]
  },
  {
   "cell_type": "code",
   "execution_count": 41,
   "id": "3f4f1d45",
   "metadata": {},
   "outputs": [
    {
     "name": "stdout",
     "output_type": "stream",
     "text": [
      "Square Roots From 1 to 10:\n",
      "2 : 1.414\n",
      "4 : 2.0\n",
      "6 : 2.449\n",
      "8 : 2.828\n",
      "10 : 3.162\n"
     ]
    }
   ],
   "source": [
    "square_roots = [(lambda x : round(x**0.5,3)) (x) for x in range(2, 11, 2)]\n",
    "print(f\"Square Roots From 1 to 10:\\n2 : {square_roots[0]}\\n4 : {square_roots[1]}\\n6 : {square_roots[2]}\\n8 : {square_roots[3]}\\n10 : {square_roots[4]}\")"
   ]
  },
  {
   "cell_type": "code",
   "execution_count": 52,
   "id": "7f75074b",
   "metadata": {},
   "outputs": [
    {
     "name": "stdout",
     "output_type": "stream",
     "text": [
      "[1.4142135623730951, 2.0, 2.449489742783178, 2.8284271247461903, 3.1622776601683795]\n"
     ]
    }
   ],
   "source": [
    "numbers = [1,2,3,4,5,6,7,8,9,10]\n",
    "even_numbers = [num for num in numbers if num % 2 == 0]\n",
    "square_root_of_even_numbers = list(map(lambda num : num**.5, even_numbers))\n",
    "print(f\"{square_root_of_even_numbers}\")`"
   ]
  },
  {
   "cell_type": "code",
   "execution_count": 28,
   "id": "96cc41bd",
   "metadata": {},
   "outputs": [
    {
     "name": "stdout",
     "output_type": "stream",
     "text": [
      "[1, 1.41421, 3, 2.0, 5, 2.44949, 7, 2.82843, 9, 3.16228]\n"
     ]
    }
   ],
   "source": [
    "sqrt = [(lambda x : round(x**0.5,5)) (x) if x % 2 == 0 else x for x in range(1,10+1)]\n",
    "print(sqrt)"
   ]
  },
  {
   "cell_type": "code",
   "execution_count": 1,
   "id": "e3bdab1f",
   "metadata": {},
   "outputs": [
    {
     "name": "stdout",
     "output_type": "stream",
     "text": [
      "Top Performing Employees:\n",
      "1. Alice: 36001.88\n",
      "2. Emma: 33001.84\n",
      "3. John: 30001.8\n",
      "4. James: 28801.76\n",
      "5. Bob: 27001.68\n"
     ]
    }
   ],
   "source": [
    "employees = [\n",
    "    (\"John\", 50000, 4.5),\n",
    "    (\"Alice\", 60000, 4.7),\n",
    "    (\"Bob\", 45000, 4.2),\n",
    "    (\"Emma\", 55000, 4.6),\n",
    "    (\"James\", 48000, 4.4)\n",
    "]\n",
    "\n",
    "sales_weight = 0.6\n",
    "satisfaction_weight = 0.4\n",
    "\n",
    "weighted_scores = [(name, sales * sales_weight + satisfaction * satisfaction_weight) for name, sales, satisfaction in employees]\n",
    "\n",
    "top_performers = sorted(weighted_scores, key=lambda x: x[1], reverse=True)\n",
    "\n",
    "print(\"Top Performing Employees:\")\n",
    "for rank, (name, score) in enumerate(top_performers, start=1):\n",
    "    print(f\"{rank}. {name}: {score}\")\n"
   ]
  },
  {
   "cell_type": "code",
   "execution_count": 26,
   "id": "f5ad4d9a",
   "metadata": {},
   "outputs": [
    {
     "ename": "SyntaxError",
     "evalue": "leading zeros in decimal integer literals are not permitted; use an 0o prefix for octal integers (484771323.py, line 1)",
     "output_type": "error",
     "traceback": [
      "\u001b[1;36m  Cell \u001b[1;32mIn[26], line 1\u001b[1;36m\u001b[0m\n\u001b[1;33m    Scenario 02: Calculating Square Roots of Even Numbers\u001b[0m\n\u001b[1;37m             ^\u001b[0m\n\u001b[1;31mSyntaxError\u001b[0m\u001b[1;31m:\u001b[0m leading zeros in decimal integer literals are not permitted; use an 0o prefix for octal integers\n"
     ]
    }
   ],
   "source": [
    "Scenario 02: Calculating Square Roots of Even Numbers\n",
    "\n",
    "Imagine you're tasked with calculating the square roots of even numbers from 1 to 10 using list comprehension and lambda functions.\n",
    "\n",
    "numbers = [1,2,3,4,5,6,7,8,9,10]"
   ]
  },
  {
   "cell_type": "code",
   "execution_count": null,
   "id": "cd256185",
   "metadata": {},
   "outputs": [],
   "source": [
    "# Importing math module for square root calculation\n",
    "import math\n",
    "\n",
    "# List comprehension to calculate square roots of even numbers from 1 to 10\n",
    "square_roots_of_evens = [math.sqrt(x) for x in range(2, 11, 2)]\n",
    "\n",
    "# Display the square roots of even numbers\n",
    "print(\"Square roots of even numbers from 1 to 10:\")\n",
    "for i, square_root in enumerate(square_roots_of_evens, start=1):\n",
    "    print(f\"{i}. {square_root:.2f}\")\n"
   ]
  },
  {
   "cell_type": "code",
   "execution_count": 40,
   "id": "0326268c",
   "metadata": {},
   "outputs": [
    {
     "name": "stdout",
     "output_type": "stream",
     "text": [
      "Square Roots From 1 to 10:\n",
      "2 : 1.414\n",
      "4 : 2.0\n",
      "6 : 2.449\n",
      "8 : 2.828\n",
      "10 : 3.162\n"
     ]
    }
   ],
   "source": [
    "square_roots = [(lambda x : round(x**0.5,3)) (x) for x in range(2, 11, 2)]\n",
    "print(f\"Square Roots From 1 to 10:\\n2 : {square_roots[0]}\\n4 : {square_roots[1]}\\n6 : {square_roots[2]}\\n8 : {square_roots[3]}\\n10 : {square_roots[4]}\")"
   ]
  },
  {
   "cell_type": "code",
   "execution_count": null,
   "id": "cd37ee1b",
   "metadata": {},
   "outputs": [],
   "source": []
  }
 ],
 "metadata": {
  "kernelspec": {
   "display_name": "Python 3 (ipykernel)",
   "language": "python",
   "name": "python3"
  },
  "language_info": {
   "codemirror_mode": {
    "name": "ipython",
    "version": 3
   },
   "file_extension": ".py",
   "mimetype": "text/x-python",
   "name": "python",
   "nbconvert_exporter": "python",
   "pygments_lexer": "ipython3",
   "version": "3.11.5"
  }
 },
 "nbformat": 4,
 "nbformat_minor": 5
}
