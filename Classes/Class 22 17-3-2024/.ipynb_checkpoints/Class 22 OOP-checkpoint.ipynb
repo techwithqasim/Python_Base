{
 "cells": [
  {
   "cell_type": "markdown",
   "id": "a71b93f9",
   "metadata": {},
   "source": [
    "## ENCAPSULATION"
   ]
  },
  {
   "cell_type": "code",
   "execution_count": 1,
   "id": "468f02a4",
   "metadata": {},
   "outputs": [],
   "source": [
    "class Saylani:\n",
    "    \n",
    "    def __init__(self):\n",
    "        self.helpline = \"021-123456-9\"\n",
    "        self.faculty_no = \"0300-789456\"\n",
    "        self.admission = \"Python Programming\"\n",
    "        \n",
    "    def details(self):\n",
    "        print(f\"for {self.admission} please contact helpline {self.helpline} or {self.faculty_no}\")"
   ]
  },
  {
   "cell_type": "code",
   "execution_count": 2,
   "id": "57d72ce1",
   "metadata": {},
   "outputs": [],
   "source": [
    "obj = Saylani()"
   ]
  },
  {
   "cell_type": "code",
   "execution_count": 3,
   "id": "97659d69",
   "metadata": {},
   "outputs": [
    {
     "name": "stdout",
     "output_type": "stream",
     "text": [
      "for Python Programming please contact helpline 021-123456-9 or 0300-789456\n"
     ]
    }
   ],
   "source": [
    "obj.details()"
   ]
  },
  {
   "cell_type": "code",
   "execution_count": 6,
   "id": "afa82958",
   "metadata": {},
   "outputs": [
    {
     "data": {
      "text/plain": [
       "'Python Programming'"
      ]
     },
     "execution_count": 6,
     "metadata": {},
     "output_type": "execute_result"
    }
   ],
   "source": [
    "obj.admission"
   ]
  },
  {
   "cell_type": "code",
   "execution_count": 7,
   "id": "787dcc46",
   "metadata": {},
   "outputs": [
    {
     "data": {
      "text/plain": [
       "'021-123456-9'"
      ]
     },
     "execution_count": 7,
     "metadata": {},
     "output_type": "execute_result"
    }
   ],
   "source": [
    "obj.helpline"
   ]
  },
  {
   "cell_type": "code",
   "execution_count": 8,
   "id": "cd94770d",
   "metadata": {},
   "outputs": [
    {
     "data": {
      "text/plain": [
       "'0300-789456'"
      ]
     },
     "execution_count": 8,
     "metadata": {},
     "output_type": "execute_result"
    }
   ],
   "source": [
    "obj.faculty_no"
   ]
  },
  {
   "cell_type": "code",
   "execution_count": 9,
   "id": "8f83353f",
   "metadata": {},
   "outputs": [],
   "source": [
    "class Saylani:\n",
    "    \n",
    "    def __init__(self):\n",
    "        self.helpline = \"021-123456-9\" #public\n",
    "        self._faculty_no = \"0300-789456\" #protected\n",
    "        self.__admission = \"Python Programming\" #private\n",
    "        \n",
    "    def details(self):\n",
    "        print(f\"for {self.__admission} please contact helpline {self.helpline} or {self._faculty_no}\")"
   ]
  },
  {
   "cell_type": "code",
   "execution_count": 10,
   "id": "8f3e7ced",
   "metadata": {},
   "outputs": [],
   "source": [
    "obj = Saylani()"
   ]
  },
  {
   "cell_type": "code",
   "execution_count": 12,
   "id": "1f030511",
   "metadata": {},
   "outputs": [
    {
     "name": "stdout",
     "output_type": "stream",
     "text": [
      "for Python Programming please contact helpline 021-123456-9 or 0300-789456\n"
     ]
    }
   ],
   "source": [
    "obj.details()"
   ]
  },
  {
   "cell_type": "code",
   "execution_count": 13,
   "id": "2ab8388d",
   "metadata": {},
   "outputs": [
    {
     "data": {
      "text/plain": [
       "'021-123456-9'"
      ]
     },
     "execution_count": 13,
     "metadata": {},
     "output_type": "execute_result"
    }
   ],
   "source": [
    "obj.helpline"
   ]
  },
  {
   "cell_type": "code",
   "execution_count": 14,
   "id": "192ead31",
   "metadata": {},
   "outputs": [
    {
     "ename": "AttributeError",
     "evalue": "'Saylani' object has no attribute '_admission'",
     "output_type": "error",
     "traceback": [
      "\u001b[1;31m---------------------------------------------------------------------------\u001b[0m",
      "\u001b[1;31mAttributeError\u001b[0m                            Traceback (most recent call last)",
      "Cell \u001b[1;32mIn[14], line 1\u001b[0m\n\u001b[1;32m----> 1\u001b[0m obj\u001b[38;5;241m.\u001b[39m_admission\n",
      "\u001b[1;31mAttributeError\u001b[0m: 'Saylani' object has no attribute '_admission'"
     ]
    }
   ],
   "source": [
    "obj._admission"
   ]
  },
  {
   "cell_type": "code",
   "execution_count": 15,
   "id": "dbfc3458",
   "metadata": {},
   "outputs": [
    {
     "ename": "AttributeError",
     "evalue": "'Saylani' object has no attribute '__admission'",
     "output_type": "error",
     "traceback": [
      "\u001b[1;31m---------------------------------------------------------------------------\u001b[0m",
      "\u001b[1;31mAttributeError\u001b[0m                            Traceback (most recent call last)",
      "Cell \u001b[1;32mIn[15], line 1\u001b[0m\n\u001b[1;32m----> 1\u001b[0m obj\u001b[38;5;241m.\u001b[39m__admission\n",
      "\u001b[1;31mAttributeError\u001b[0m: 'Saylani' object has no attribute '__admission'"
     ]
    }
   ],
   "source": [
    "obj.__admission"
   ]
  },
  {
   "cell_type": "code",
   "execution_count": 16,
   "id": "c67a0b21",
   "metadata": {},
   "outputs": [
    {
     "data": {
      "text/plain": [
       "'Python Programming'"
      ]
     },
     "execution_count": 16,
     "metadata": {},
     "output_type": "execute_result"
    }
   ],
   "source": [
    "obj._Saylani__admission"
   ]
  },
  {
   "cell_type": "code",
   "execution_count": 21,
   "id": "708398dc",
   "metadata": {},
   "outputs": [
    {
     "data": {
      "text/plain": [
       "'0300-789456'"
      ]
     },
     "execution_count": 21,
     "metadata": {},
     "output_type": "execute_result"
    }
   ],
   "source": [
    "obj._faculty_no"
   ]
  },
  {
   "cell_type": "code",
   "execution_count": 24,
   "id": "2b9c3a3a",
   "metadata": {},
   "outputs": [],
   "source": [
    "class StudentLogin():\n",
    "    \n",
    "    def __init__(self):\n",
    "        self.__user_name = \"User\" #private\n",
    "        self.__password = \"Password\" #private\n",
    "        \n",
    "    def studentlogin(self, user, pass1):\n",
    "        if (self.__user_name == user) and (self.__password == pass1):\n",
    "            return \"Valid User\"\n",
    "        else:\n",
    "            return \"Invalid User\"\n",
    "        \n",
    "    def details(self):\n",
    "        print(f\"Hello, {self.__user_name} with your credentials {self.__password}\")"
   ]
  },
  {
   "cell_type": "code",
   "execution_count": 26,
   "id": "f6982dba",
   "metadata": {},
   "outputs": [
    {
     "name": "stdout",
     "output_type": "stream",
     "text": [
      "Hello, User with your credentials Password\n"
     ]
    }
   ],
   "source": [
    "login = StudentLogin()\n",
    "\n",
    "login.studentlogin(\"User\", \"Password\")\n",
    "\n",
    "login.details()"
   ]
  },
  {
   "cell_type": "code",
   "execution_count": null,
   "id": "31b24f07",
   "metadata": {
    "collapsed": true
   },
   "outputs": [],
   "source": [
    "login."
   ]
  },
  {
   "cell_type": "code",
   "execution_count": 30,
   "id": "757d4611",
   "metadata": {},
   "outputs": [],
   "source": [
    "class StudentLogin():\n",
    "    \n",
    "    def __init__(self):\n",
    "        self.__user_name = \"User\" #private\n",
    "        self.__password = \"Password\" #private\n",
    "        \n",
    "    def __dbconnectivity(self, user, pass1):\n",
    "        print(f\"Succesfully Connected with Database\")\n",
    "        if (self.__user_name == user) and (self.__password == pass1):\n",
    "            return \"Valid User\"\n",
    "        else:\n",
    "            return \"Invalid User\"\n",
    "        \n",
    "    def studentlogin(self, user, pass1):\n",
    "        message = self.__dbconnectivity(user, pass1)\n",
    "        print(message)\n",
    "        \n",
    "    def details(self):\n",
    "        print(f\"Hello, {self.__user_name} with your credentials {self.__password}\")"
   ]
  },
  {
   "cell_type": "code",
   "execution_count": 31,
   "id": "e8324ade",
   "metadata": {},
   "outputs": [],
   "source": [
    "login = StudentLogin()"
   ]
  },
  {
   "cell_type": "code",
   "execution_count": 32,
   "id": "08814a28",
   "metadata": {},
   "outputs": [
    {
     "name": "stdout",
     "output_type": "stream",
     "text": [
      "Succesfully Connected with Database\n"
     ]
    },
    {
     "data": {
      "text/plain": [
       "'Valid User'"
      ]
     },
     "execution_count": 32,
     "metadata": {},
     "output_type": "execute_result"
    }
   ],
   "source": [
    "login._StudentLogin__dbconnectivity(\"User\", \"Password\")"
   ]
  },
  {
   "cell_type": "code",
   "execution_count": 33,
   "id": "4c869cbb",
   "metadata": {},
   "outputs": [
    {
     "name": "stdout",
     "output_type": "stream",
     "text": [
      "Succesfully Connected with Database\n",
      "Valid User\n"
     ]
    }
   ],
   "source": [
    "login.studentlogin(\"User\", \"Password\")"
   ]
  },
  {
   "cell_type": "code",
   "execution_count": 34,
   "id": "9b12fac5",
   "metadata": {},
   "outputs": [
    {
     "name": "stdout",
     "output_type": "stream",
     "text": [
      "Succesfully Connected with Database\n",
      "Valid User\n",
      "Hello, User with your credentials Password\n"
     ]
    }
   ],
   "source": [
    "login = StudentLogin()\n",
    "\n",
    "login.studentlogin(\"User\", \"Password\")\n",
    "\n",
    "login.details()"
   ]
  },
  {
   "cell_type": "raw",
   "id": "d84966fd",
   "metadata": {},
   "source": [
    "1- create a class with name SaylaniAdmissions\n",
    "2- class should have three dynamic variables i:e., courses_launch, faculty_memebers & timings\n",
    "3- create constructor with required attribute that you think are required \n",
    "   for class but should be at least 2\n",
    "4- create a method that ask salyani administration to dynamically update the courses_launch,\n",
    "   faculty_members & timings for latest batch.\n",
    "5- class should have method that can print the latest course launch with their faculty & timings\n",
    "6- create a method that calculate the budget for new addmission based on the \n",
    "   total_number of registration keeping in min that per student expense is 523.75"
   ]
  },
  {
   "cell_type": "code",
   "execution_count": 42,
   "id": "bbc422b2",
   "metadata": {},
   "outputs": [],
   "source": [
    "class SaylaniAdmissions():\n",
    "    \n",
    "    def __init__(self, courses_launch, faculty_members, timings):\n",
    "        self.courses_launch = courses_launch\n",
    "        self.faculty_members = faculty_members\n",
    "        self.timings = timings\n",
    "        \n",
    "    def update_batch_info(self, new_courses_launch, new_faculty_members, new_timings):\n",
    "        self.courses_launch = new_courses_launch\n",
    "        self.faculty_members = new_faculty_members\n",
    "        self.timings = new_timings\n",
    "        \n",
    "    def latest_batch_details(self):\n",
    "        print(\"Latest Batch Information\")\n",
    "        print(f\"Courses Launch {self.courses_launch}, Faculty Members {self.faculty_members} , Timings {self.timings}\")\n",
    "        \n",
    "    def calculate_budget(self, total_registrations):\n",
    "        per_student_expense = 523.75\n",
    "        total_budget = total_registrations * per_student_expense\n",
    "        print(f\"Total Budget for {total_registrations} Registrations: Rs. {total_budget}\")"
   ]
  },
  {
   "cell_type": "code",
   "execution_count": 43,
   "id": "005e5ba8",
   "metadata": {},
   "outputs": [],
   "source": [
    "saylani_admission = SaylaniAdmissions([\"Python Programming\", \"Web Development\"], [\"Sir Qasim\", \"Sir Ghous\"], [\"Sat-Sun 9pm to 11pm\", \"Mon-Thurs 5pm to 7pm\"])"
   ]
  },
  {
   "cell_type": "code",
   "execution_count": 44,
   "id": "8c5c5327",
   "metadata": {},
   "outputs": [
    {
     "data": {
      "text/plain": [
       "['Python Programming', 'Web Development']"
      ]
     },
     "execution_count": 44,
     "metadata": {},
     "output_type": "execute_result"
    }
   ],
   "source": [
    "saylani_admission.courses_launch"
   ]
  },
  {
   "cell_type": "code",
   "execution_count": 45,
   "id": "76c5926e",
   "metadata": {},
   "outputs": [
    {
     "data": {
      "text/plain": [
       "['Sir Qasim', 'Sir Ghous']"
      ]
     },
     "execution_count": 45,
     "metadata": {},
     "output_type": "execute_result"
    }
   ],
   "source": [
    "saylani_admission.faculty_members"
   ]
  },
  {
   "cell_type": "code",
   "execution_count": 46,
   "id": "3c9d4a2f",
   "metadata": {},
   "outputs": [
    {
     "data": {
      "text/plain": [
       "['Sat-Sun 9pm to 11pm', 'Mon-Thurs 5pm to 7pm']"
      ]
     },
     "execution_count": 46,
     "metadata": {},
     "output_type": "execute_result"
    }
   ],
   "source": [
    "saylani_admission.timings"
   ]
  },
  {
   "cell_type": "code",
   "execution_count": 47,
   "id": "889d8024",
   "metadata": {},
   "outputs": [
    {
     "name": "stdout",
     "output_type": "stream",
     "text": [
      "Latest Batch Information\n",
      "Courses Launch ['Python Programming', 'Web Development'], Faculty Members ['Sir Qasim', 'Sir Ghous'] , Timings ['Sat-Sun 9pm to 11pm', 'Mon-Thurs 5pm to 7pm']\n"
     ]
    }
   ],
   "source": [
    "saylani_admission.latest_batch_details()"
   ]
  },
  {
   "cell_type": "code",
   "execution_count": 48,
   "id": "131c499c",
   "metadata": {},
   "outputs": [
    {
     "name": "stdout",
     "output_type": "stream",
     "text": [
      "Total Budget for 100 Registrations: Rs. 52375.0\n"
     ]
    }
   ],
   "source": [
    "saylani_admission.calculate_budget(100)"
   ]
  },
  {
   "cell_type": "code",
   "execution_count": 49,
   "id": "2d95fb80",
   "metadata": {},
   "outputs": [],
   "source": [
    "saylani_admission.update_batch_info([\"Python Programming\", \"Web Development\", \"Bike Repairing\", \"Laptop Repairing\"], [\"Sir Qasim\", \"Sir Ghous\", \"Sir Alam\", \"Sir Ahmed\"], [\"Sat-Sun 9pm to 11pm\", \"Mon-Thurs 5pm to 7pm\", \"Tue-Wed 3pm to 5pm\", \"Tue-Fri 5pm to 7pm\"])"
   ]
  },
  {
   "cell_type": "code",
   "execution_count": 50,
   "id": "a32fb33b",
   "metadata": {},
   "outputs": [
    {
     "name": "stdout",
     "output_type": "stream",
     "text": [
      "Latest Batch Information\n",
      "Courses Launch ['Python Programming', 'Web Development', 'Bike Repairing', 'Laptop Repairing'], Faculty Members ['Sir Qasim', 'Sir Ghous', 'Sir Alam', 'Sir Ahmed'] , Timings ['Sat-Sun 9pm to 11pm', 'Mon-Thurs 5pm to 7pm', 'Tue-Wed 3pm to 5pm', 'Tue-Fri 5pm to 7pm']\n"
     ]
    }
   ],
   "source": [
    "saylani_admission.latest_batch_details()"
   ]
  },
  {
   "cell_type": "code",
   "execution_count": null,
   "id": "02a32d3e",
   "metadata": {},
   "outputs": [],
   "source": []
  }
 ],
 "metadata": {
  "kernelspec": {
   "display_name": "Python 3 (ipykernel)",
   "language": "python",
   "name": "python3"
  },
  "language_info": {
   "codemirror_mode": {
    "name": "ipython",
    "version": 3
   },
   "file_extension": ".py",
   "mimetype": "text/x-python",
   "name": "python",
   "nbconvert_exporter": "python",
   "pygments_lexer": "ipython3",
   "version": "3.11.5"
  }
 },
 "nbformat": 4,
 "nbformat_minor": 5
}
