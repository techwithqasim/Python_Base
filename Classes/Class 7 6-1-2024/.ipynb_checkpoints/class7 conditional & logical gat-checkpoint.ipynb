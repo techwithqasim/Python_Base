{
 "cells": [
  {
   "cell_type": "code",
   "execution_count": 3,
   "id": "e6afbfc5",
   "metadata": {},
   "outputs": [
    {
     "name": "stdout",
     "output_type": "stream",
     "text": [
      "Enter Vegetable Type (Fresh/Not Fresh): Not Fresh\n",
      "Enter Vegetable Price (High/Low): High\n",
      "Go to Next Shop\n",
      "0\n"
     ]
    }
   ],
   "source": [
    "importance = 0\n",
    "veg_type = input(\"Enter Vegetable Type (Fresh/Not Fresh): \")\n",
    "veg_price = input(\"Enter Vegetable Price (High/Low): \")\n",
    "\n",
    "if veg_type == \"Fresh\":\n",
    "    importance = 10\n",
    "elif veg_price == \"Low\":\n",
    "    importance = 7\n",
    "else:\n",
    "    print('Go to Next Shop')\n",
    "\n",
    "print(importance)"
   ]
  },
  {
   "cell_type": "markdown",
   "id": "b5962aa4",
   "metadata": {},
   "source": [
    "1- AND\n",
    "\n",
    "2- OR\n",
    "\n",
    "3- NOT"
   ]
  },
  {
   "cell_type": "code",
   "execution_count": 16,
   "id": "7354470a",
   "metadata": {},
   "outputs": [
    {
     "name": "stdout",
     "output_type": "stream",
     "text": [
      "Enter Number: 12\n"
     ]
    }
   ],
   "source": [
    "num1 = int(input(\"Enter Number: \"))"
   ]
  },
  {
   "cell_type": "code",
   "execution_count": 17,
   "id": "cbf161d7",
   "metadata": {},
   "outputs": [
    {
     "data": {
      "text/plain": [
       "True"
      ]
     },
     "execution_count": 17,
     "metadata": {},
     "output_type": "execute_result"
    }
   ],
   "source": [
    "12 > 10"
   ]
  },
  {
   "cell_type": "code",
   "execution_count": 14,
   "id": "ac17b01f",
   "metadata": {},
   "outputs": [
    {
     "data": {
      "text/plain": [
       "False"
      ]
     },
     "execution_count": 14,
     "metadata": {},
     "output_type": "execute_result"
    }
   ],
   "source": [
    "num1 > 10"
   ]
  },
  {
   "cell_type": "code",
   "execution_count": 20,
   "id": "a77aeef3",
   "metadata": {},
   "outputs": [
    {
     "data": {
      "text/plain": [
       "False"
      ]
     },
     "execution_count": 20,
     "metadata": {},
     "output_type": "execute_result"
    }
   ],
   "source": [
    "12 == 15"
   ]
  },
  {
   "cell_type": "code",
   "execution_count": 19,
   "id": "4d730de6",
   "metadata": {},
   "outputs": [
    {
     "data": {
      "text/plain": [
       "True"
      ]
     },
     "execution_count": 19,
     "metadata": {},
     "output_type": "execute_result"
    }
   ],
   "source": [
    "num1 != 15"
   ]
  },
  {
   "cell_type": "code",
   "execution_count": 11,
   "id": "95471fe7",
   "metadata": {},
   "outputs": [
    {
     "data": {
      "text/plain": [
       "True"
      ]
     },
     "execution_count": 11,
     "metadata": {},
     "output_type": "execute_result"
    }
   ],
   "source": [
    "(num1 > 10) and (num1 != 15)"
   ]
  },
  {
   "cell_type": "markdown",
   "id": "61504262",
   "metadata": {},
   "source": [
    "AND Operators\n",
    "\n",
    "True , True => True\n",
    "\n",
    "False , False => False\n",
    "\n",
    "True , False => False\n",
    "\n",
    "False , True => False\n",
    "\n",
    "\n",
    "\n",
    "OR Operators\n",
    "\n",
    "True , True => True\n",
    "\n",
    "False , False => False\n",
    "\n",
    "True , False => True\n",
    "\n",
    "False , True => True"
   ]
  },
  {
   "cell_type": "code",
   "execution_count": 34,
   "id": "c0a3bcea",
   "metadata": {},
   "outputs": [
    {
     "data": {
      "text/plain": [
       "False"
      ]
     },
     "execution_count": 34,
     "metadata": {},
     "output_type": "execute_result"
    }
   ],
   "source": [
    "not True"
   ]
  },
  {
   "cell_type": "code",
   "execution_count": 35,
   "id": "7658182b",
   "metadata": {},
   "outputs": [
    {
     "data": {
      "text/plain": [
       "True"
      ]
     },
     "execution_count": 35,
     "metadata": {},
     "output_type": "execute_result"
    }
   ],
   "source": [
    "not False"
   ]
  },
  {
   "cell_type": "code",
   "execution_count": 21,
   "id": "eee8e67d",
   "metadata": {},
   "outputs": [
    {
     "data": {
      "text/plain": [
       "False"
      ]
     },
     "execution_count": 21,
     "metadata": {},
     "output_type": "execute_result"
    }
   ],
   "source": [
    "15 != 15"
   ]
  },
  {
   "cell_type": "code",
   "execution_count": 36,
   "id": "6457ce89",
   "metadata": {},
   "outputs": [
    {
     "name": "stdout",
     "output_type": "stream",
     "text": [
      "Enter your country: Turkey\n",
      "What is your height: 6\n",
      "Mehmood is Agreed\n"
     ]
    }
   ],
   "source": [
    "country = input(\"Enter your country: \")\n",
    "height = float(input(\"What is your height: \")) # height can be in floats\n",
    "\n",
    "if (not country == \"Pakistan\") and (height > 5):\n",
    "    print(\"Mehmood is Agreed\")\n",
    "else:\n",
    "    print(\"Conditions not matched\")"
   ]
  },
  {
   "cell_type": "code",
   "execution_count": null,
   "id": "5125d322",
   "metadata": {},
   "outputs": [],
   "source": [
    "'''\n",
    " Multi line comments\n",
    " yes, this is multiline comments\n",
    " Ok, I Know\n",
    "'''"
   ]
  },
  {
   "cell_type": "code",
   "execution_count": 30,
   "id": "ee46f06f",
   "metadata": {},
   "outputs": [
    {
     "name": "stdout",
     "output_type": "stream",
     "text": [
      "enter num1: 3\n",
      "enter num2: 3\n",
      "enter num3: 4\n",
      "enter num4: 4\n",
      "checking next condition\n",
      "second condition not meet\n"
     ]
    }
   ],
   "source": [
    "num1 = int(input(\"enter num1: \"))\n",
    "num2 = int(input(\"enter num2: \"))\n",
    "\n",
    "if num1 == num2:\n",
    "    print(\"checking next condition\")\n",
    "    num3 = int(input(\"enter num3: \"))\n",
    "    num4 = int(input(\"enter num4: \"))\n",
    "    # second line comment\n",
    "    if num3 > num4:\n",
    "        print(\"yes all conditions meet\")\n",
    "    else:\n",
    "        print(\"second condition not meet\")\n",
    "else:\n",
    "    print(\"num1 & num2 are not equal\")"
   ]
  },
  {
   "cell_type": "code",
   "execution_count": 32,
   "id": "8e38478e",
   "metadata": {},
   "outputs": [
    {
     "name": "stdout",
     "output_type": "stream",
     "text": [
      "Hello, world!\n"
     ]
    }
   ],
   "source": [
    "'''\n",
    "This is a comment.\n",
    "This is another comment.\n",
    "Python ignores these comments.\n",
    "The code that Python executes is next, on line\n",
    "'''\n",
    "print(\"Hello, world!\")"
   ]
  },
  {
   "cell_type": "code",
   "execution_count": 33,
   "id": "ca9cbbd8",
   "metadata": {},
   "outputs": [
    {
     "data": {
      "text/plain": [
       "2"
      ]
     },
     "execution_count": 33,
     "metadata": {},
     "output_type": "execute_result"
    }
   ],
   "source": [
    "num = 2\n",
    "num"
   ]
  },
  {
   "cell_type": "markdown",
   "id": "eecbb0d4",
   "metadata": {},
   "source": [
    "### 1 Lists"
   ]
  },
  {
   "cell_type": "code",
   "execution_count": 37,
   "id": "db1e34f6",
   "metadata": {},
   "outputs": [],
   "source": [
    "country1 = \"Pakistan\"\n",
    "country2 = \"Turkey\"\n",
    "country3 = \"Azerbaijan\"\n",
    "country4 = \"China\""
   ]
  },
  {
   "cell_type": "code",
   "execution_count": 42,
   "id": "4d4a7ebc",
   "metadata": {},
   "outputs": [
    {
     "name": "stdout",
     "output_type": "stream",
     "text": [
      "Welcome to Azerbaijan\n"
     ]
    }
   ],
   "source": [
    "print(f\"Welcome to {country3}\")"
   ]
  },
  {
   "cell_type": "code",
   "execution_count": 38,
   "id": "96873d3e",
   "metadata": {},
   "outputs": [],
   "source": [
    "asian_countries = [\"Pakistan\",\n",
    "                   \"Turkey\",\n",
    "                   \"Azerbaijan\",\n",
    "                   \"China\"]"
   ]
  },
  {
   "cell_type": "code",
   "execution_count": 39,
   "id": "2bdbd03f",
   "metadata": {},
   "outputs": [
    {
     "data": {
      "text/plain": [
       "['Pakistan', 'Turkey', 'Azerbaijan', 'China']"
      ]
     },
     "execution_count": 39,
     "metadata": {},
     "output_type": "execute_result"
    }
   ],
   "source": [
    "asian_countries"
   ]
  },
  {
   "cell_type": "code",
   "execution_count": 40,
   "id": "27cc41d6",
   "metadata": {},
   "outputs": [
    {
     "data": {
      "text/plain": [
       "list"
      ]
     },
     "execution_count": 40,
     "metadata": {},
     "output_type": "execute_result"
    }
   ],
   "source": [
    "type(asian_countries)"
   ]
  },
  {
   "cell_type": "code",
   "execution_count": 41,
   "id": "1b90790b",
   "metadata": {},
   "outputs": [
    {
     "data": {
      "text/plain": [
       "2143421297152"
      ]
     },
     "execution_count": 41,
     "metadata": {},
     "output_type": "execute_result"
    }
   ],
   "source": [
    "id(asian_countries)"
   ]
  },
  {
   "cell_type": "code",
   "execution_count": 43,
   "id": "db644d1b",
   "metadata": {},
   "outputs": [
    {
     "name": "stdout",
     "output_type": "stream",
     "text": [
      "Welcome to Azerbaijan\n"
     ]
    }
   ],
   "source": [
    "print(f\"Welcome to {asian_countries[2]}\")"
   ]
  },
  {
   "cell_type": "code",
   "execution_count": 46,
   "id": "21947773",
   "metadata": {},
   "outputs": [],
   "source": [
    "employee_list = ['Qasim', 'Hassan', 6, '0300-2337565', False]"
   ]
  },
  {
   "cell_type": "code",
   "execution_count": null,
   "id": "ee2c1d27",
   "metadata": {},
   "outputs": [],
   "source": [
    "employee_list[3]"
   ]
  },
  {
   "cell_type": "code",
   "execution_count": 44,
   "id": "23ec4e9e",
   "metadata": {},
   "outputs": [
    {
     "data": {
      "text/plain": [
       "['Pakistan', 'Turkey', 'Azerbaijan', 'China']"
      ]
     },
     "execution_count": 44,
     "metadata": {},
     "output_type": "execute_result"
    }
   ],
   "source": [
    "# Left to right\n",
    "#    0           1          2           3\n",
    "['Pakistan', 'Turkey', 'Azerbaijan', 'China']\n",
    "# right to left\n",
    "#    -4         -3          -2         -1"
   ]
  },
  {
   "cell_type": "code",
   "execution_count": 45,
   "id": "21b26a39",
   "metadata": {},
   "outputs": [
    {
     "name": "stdout",
     "output_type": "stream",
     "text": [
      "Welcome to Azerbaijan\n"
     ]
    }
   ],
   "source": [
    "print(f\"Welcome to {asian_countries[-2]}\")"
   ]
  },
  {
   "cell_type": "code",
   "execution_count": 47,
   "id": "ae8a094d",
   "metadata": {},
   "outputs": [
    {
     "data": {
      "text/plain": [
       "'Azerbaijan'"
      ]
     },
     "execution_count": 47,
     "metadata": {},
     "output_type": "execute_result"
    }
   ],
   "source": [
    "asian_countries[2]"
   ]
  },
  {
   "cell_type": "code",
   "execution_count": 48,
   "id": "1ce778d3",
   "metadata": {},
   "outputs": [
    {
     "data": {
      "text/plain": [
       "['Pakistan', 'Turkey']"
      ]
     },
     "execution_count": 48,
     "metadata": {},
     "output_type": "execute_result"
    }
   ],
   "source": [
    "asian_countries[:2] # Start -> include , Last -> not include"
   ]
  },
  {
   "cell_type": "code",
   "execution_count": 49,
   "id": "f725b166",
   "metadata": {},
   "outputs": [
    {
     "data": {
      "text/plain": [
       "['Turkey']"
      ]
     },
     "execution_count": 49,
     "metadata": {},
     "output_type": "execute_result"
    }
   ],
   "source": [
    "asian_countries[1:2]"
   ]
  },
  {
   "cell_type": "code",
   "execution_count": 50,
   "id": "21cb4835",
   "metadata": {},
   "outputs": [
    {
     "data": {
      "text/plain": [
       "['Turkey', 'Azerbaijan', 'China']"
      ]
     },
     "execution_count": 50,
     "metadata": {},
     "output_type": "execute_result"
    }
   ],
   "source": [
    "asian_countries[1:4]"
   ]
  },
  {
   "cell_type": "code",
   "execution_count": 51,
   "id": "380be232",
   "metadata": {},
   "outputs": [
    {
     "data": {
      "text/plain": [
       "['Turkey', 'Azerbaijan', 'China']"
      ]
     },
     "execution_count": 51,
     "metadata": {},
     "output_type": "execute_result"
    }
   ],
   "source": [
    "asian_countries[1:]"
   ]
  },
  {
   "cell_type": "code",
   "execution_count": 52,
   "id": "ff996983",
   "metadata": {},
   "outputs": [
    {
     "data": {
      "text/plain": [
       "['Pakistan', 'Turkey', 'Azerbaijan', 'China']"
      ]
     },
     "execution_count": 52,
     "metadata": {},
     "output_type": "execute_result"
    }
   ],
   "source": [
    "asian_countries[:]"
   ]
  },
  {
   "cell_type": "code",
   "execution_count": 53,
   "id": "940466f0",
   "metadata": {},
   "outputs": [
    {
     "data": {
      "text/plain": [
       "'baijan'"
      ]
     },
     "execution_count": 53,
     "metadata": {},
     "output_type": "execute_result"
    }
   ],
   "source": [
    "asian_countries[2][4:]"
   ]
  },
  {
   "cell_type": "code",
   "execution_count": null,
   "id": "dacec02f",
   "metadata": {},
   "outputs": [],
   "source": []
  }
 ],
 "metadata": {
  "kernelspec": {
   "display_name": "Python 3 (ipykernel)",
   "language": "python",
   "name": "python3"
  },
  "language_info": {
   "codemirror_mode": {
    "name": "ipython",
    "version": 3
   },
   "file_extension": ".py",
   "mimetype": "text/x-python",
   "name": "python",
   "nbconvert_exporter": "python",
   "pygments_lexer": "ipython3",
   "version": "3.11.5"
  }
 },
 "nbformat": 4,
 "nbformat_minor": 5
}
