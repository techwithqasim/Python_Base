{
 "cells": [
  {
   "cell_type": "code",
   "execution_count": 1,
   "id": "316885ab",
   "metadata": {},
   "outputs": [],
   "source": [
    "fruits_list = ['Apple', 'Banana', 'Orange']"
   ]
  },
  {
   "cell_type": "code",
   "execution_count": 2,
   "id": "74220b67",
   "metadata": {},
   "outputs": [],
   "source": [
    "fruits_list = fruits_list + ['Grapes', 'Mango']"
   ]
  },
  {
   "cell_type": "code",
   "execution_count": 3,
   "id": "e18add2c",
   "metadata": {},
   "outputs": [
    {
     "data": {
      "text/plain": [
       "['Apple', 'Banana', 'Orange', 'Grapes', 'Mango']"
      ]
     },
     "execution_count": 3,
     "metadata": {},
     "output_type": "execute_result"
    }
   ],
   "source": [
    "fruits_list"
   ]
  },
  {
   "cell_type": "code",
   "execution_count": 4,
   "id": "ec683a80",
   "metadata": {},
   "outputs": [],
   "source": [
    "fruits_list_new = ['Apple', 'Banana', 'Orange']"
   ]
  },
  {
   "cell_type": "code",
   "execution_count": 5,
   "id": "67a0aa50",
   "metadata": {},
   "outputs": [
    {
     "data": {
      "text/plain": [
       "['Apple', 'Banana', 'Orange']"
      ]
     },
     "execution_count": 5,
     "metadata": {},
     "output_type": "execute_result"
    }
   ],
   "source": [
    "fruits_list_new"
   ]
  },
  {
   "cell_type": "code",
   "execution_count": 6,
   "id": "9360ea1a",
   "metadata": {},
   "outputs": [],
   "source": [
    "fruits_list_new.extend(['Grapes', 'Mango'])"
   ]
  },
  {
   "cell_type": "code",
   "execution_count": 7,
   "id": "1f6bb83f",
   "metadata": {},
   "outputs": [
    {
     "data": {
      "text/plain": [
       "['Apple', 'Banana', 'Orange', 'Grapes', 'Mango']"
      ]
     },
     "execution_count": 7,
     "metadata": {},
     "output_type": "execute_result"
    }
   ],
   "source": [
    "fruits_list_new"
   ]
  },
  {
   "cell_type": "code",
   "execution_count": 8,
   "id": "c9c22849",
   "metadata": {},
   "outputs": [],
   "source": [
    "fruits_list_new.reverse()"
   ]
  },
  {
   "cell_type": "code",
   "execution_count": 9,
   "id": "b683057d",
   "metadata": {},
   "outputs": [
    {
     "data": {
      "text/plain": [
       "['Mango', 'Grapes', 'Orange', 'Banana', 'Apple']"
      ]
     },
     "execution_count": 9,
     "metadata": {},
     "output_type": "execute_result"
    }
   ],
   "source": [
    "fruits_list_new"
   ]
  },
  {
   "cell_type": "code",
   "execution_count": null,
   "id": "6127a441",
   "metadata": {},
   "outputs": [],
   "source": [
    "'madam' # palendrom (words having same meaning from left and right)"
   ]
  },
  {
   "cell_type": "code",
   "execution_count": 10,
   "id": "f519fe0d",
   "metadata": {},
   "outputs": [],
   "source": [
    "var = 'madam'"
   ]
  },
  {
   "cell_type": "code",
   "execution_count": null,
   "id": "93b66862",
   "metadata": {},
   "outputs": [],
   "source": [
    "var == var[::-1]"
   ]
  },
  {
   "cell_type": "markdown",
   "id": "69c03280",
   "metadata": {},
   "source": [
    "### Dictionaries"
   ]
  },
  {
   "cell_type": "code",
   "execution_count": null,
   "id": "1bc8548f",
   "metadata": {},
   "outputs": [],
   "source": [
    "['first_name', 'last_name', 'phone_number', 'weight', 'age']"
   ]
  },
  {
   "cell_type": "code",
   "execution_count": 15,
   "id": "f78fdad7",
   "metadata": {},
   "outputs": [],
   "source": [
    "customer1 = ['Qasim', 'Hassan', '03002546874', 74 , 19]"
   ]
  },
  {
   "cell_type": "code",
   "execution_count": 16,
   "id": "002b38f5",
   "metadata": {},
   "outputs": [
    {
     "data": {
      "text/plain": [
       "['Qasim', 'Hassan', '03002546874', 74, 19]"
      ]
     },
     "execution_count": 16,
     "metadata": {},
     "output_type": "execute_result"
    }
   ],
   "source": [
    "customer1"
   ]
  },
  {
   "cell_type": "code",
   "execution_count": 17,
   "id": "cb9f9f4d",
   "metadata": {},
   "outputs": [
    {
     "ename": "TypeError",
     "evalue": "list indices must be integers or slices, not str",
     "output_type": "error",
     "traceback": [
      "\u001b[1;31m---------------------------------------------------------------------------\u001b[0m",
      "\u001b[1;31mTypeError\u001b[0m                                 Traceback (most recent call last)",
      "Cell \u001b[1;32mIn[17], line 1\u001b[0m\n\u001b[1;32m----> 1\u001b[0m customer1[\u001b[38;5;124m'\u001b[39m\u001b[38;5;124mHassan\u001b[39m\u001b[38;5;124m'\u001b[39m] \u001b[38;5;241m=\u001b[39m \u001b[38;5;124m'\u001b[39m\u001b[38;5;124mHassaan\u001b[39m\u001b[38;5;124m'\u001b[39m\n",
      "\u001b[1;31mTypeError\u001b[0m: list indices must be integers or slices, not str"
     ]
    }
   ],
   "source": [
    "customer1['Hassan'] = 'Hassaan'"
   ]
  },
  {
   "cell_type": "code",
   "execution_count": 18,
   "id": "fe88a0b7",
   "metadata": {},
   "outputs": [],
   "source": [
    "customer1[1] = 'Hassaan'"
   ]
  },
  {
   "cell_type": "code",
   "execution_count": 19,
   "id": "63db4534",
   "metadata": {},
   "outputs": [],
   "source": [
    "customer1.insert(1, 'Hassaan')"
   ]
  },
  {
   "cell_type": "code",
   "execution_count": 11,
   "id": "bc3095a7",
   "metadata": {},
   "outputs": [],
   "source": [
    "customer1_dict = {'first_name': 'Qasim',\n",
    "                  'last_name': 'Hassan',\n",
    "                  'phone_number': '03030000032',\n",
    "                  'weight': 74,\n",
    "                  'age': 19\n",
    "                 }"
   ]
  },
  {
   "cell_type": "code",
   "execution_count": 12,
   "id": "33b0f642",
   "metadata": {},
   "outputs": [
    {
     "data": {
      "text/plain": [
       "{'first_name': 'Qasim',\n",
       " 'last_name': 'Hassan',\n",
       " 'phone_number': '03030000032',\n",
       " 'weight': 74,\n",
       " 'age': 19}"
      ]
     },
     "execution_count": 12,
     "metadata": {},
     "output_type": "execute_result"
    }
   ],
   "source": [
    "customer1_dict"
   ]
  },
  {
   "cell_type": "code",
   "execution_count": 13,
   "id": "dde6ba08",
   "metadata": {},
   "outputs": [
    {
     "data": {
      "text/plain": [
       "dict"
      ]
     },
     "execution_count": 13,
     "metadata": {},
     "output_type": "execute_result"
    }
   ],
   "source": [
    "type(customer1_dict)"
   ]
  },
  {
   "cell_type": "code",
   "execution_count": 14,
   "id": "f50ebc0d",
   "metadata": {},
   "outputs": [
    {
     "data": {
      "text/plain": [
       "2125770122752"
      ]
     },
     "execution_count": 14,
     "metadata": {},
     "output_type": "execute_result"
    }
   ],
   "source": [
    "id(customer1_dict)"
   ]
  },
  {
   "cell_type": "code",
   "execution_count": 20,
   "id": "8025c9b0",
   "metadata": {},
   "outputs": [],
   "source": [
    "customer1_dict['phone_number'] = '03002546874'"
   ]
  },
  {
   "cell_type": "code",
   "execution_count": 21,
   "id": "4e8414cd",
   "metadata": {},
   "outputs": [
    {
     "data": {
      "text/plain": [
       "{'first_name': 'Qasim',\n",
       " 'last_name': 'Hassan',\n",
       " 'phone_number': '03002546874',\n",
       " 'weight': 74,\n",
       " 'age': 19}"
      ]
     },
     "execution_count": 21,
     "metadata": {},
     "output_type": "execute_result"
    }
   ],
   "source": [
    "customer1_dict"
   ]
  },
  {
   "cell_type": "code",
   "execution_count": 30,
   "id": "cc83a510",
   "metadata": {},
   "outputs": [],
   "source": [
    "del(customer1_dict['phone_number'])"
   ]
  },
  {
   "cell_type": "code",
   "execution_count": 23,
   "id": "7e7cb7e5",
   "metadata": {},
   "outputs": [
    {
     "data": {
      "text/plain": [
       "{'first_name': 'Qasim', 'last_name': 'Hassan', 'weight': 74, 'age': 19}"
      ]
     },
     "execution_count": 23,
     "metadata": {},
     "output_type": "execute_result"
    }
   ],
   "source": [
    "customer1_dict"
   ]
  },
  {
   "cell_type": "code",
   "execution_count": 27,
   "id": "66a3eeb0",
   "metadata": {},
   "outputs": [],
   "source": [
    "customer1_dict_new = customer1_dict.copy()"
   ]
  },
  {
   "cell_type": "code",
   "execution_count": 31,
   "id": "77631fad",
   "metadata": {},
   "outputs": [],
   "source": [
    "customer1_dict['phone_number'] = '03002546874'"
   ]
  },
  {
   "cell_type": "code",
   "execution_count": 32,
   "id": "da6fd6de",
   "metadata": {},
   "outputs": [
    {
     "data": {
      "text/plain": [
       "{'first_name': 'Qasim',\n",
       " 'last_name': 'Hassan',\n",
       " 'weight': 74,\n",
       " 'age': 19,\n",
       " 'phone_number': '03002546874'}"
      ]
     },
     "execution_count": 32,
     "metadata": {},
     "output_type": "execute_result"
    }
   ],
   "source": [
    "customer1_dict"
   ]
  },
  {
   "cell_type": "code",
   "execution_count": 33,
   "id": "35399802",
   "metadata": {},
   "outputs": [
    {
     "data": {
      "text/plain": [
       "dict_items([('first_name', 'Qasim'), ('last_name', 'Hassan'), ('weight', 74), ('age', 19), ('phone_number', '03002546874')])"
      ]
     },
     "execution_count": 33,
     "metadata": {},
     "output_type": "execute_result"
    }
   ],
   "source": [
    "customer1_dict.items() # convert dict to list of tuples"
   ]
  },
  {
   "cell_type": "raw",
   "id": "02076fcc",
   "metadata": {},
   "source": [
    "dict_items(\n",
    "    [('first_name', 'Qasim'),\n",
    "     ('last_name', 'Hassan'), \n",
    "     ('weight', 74), \n",
    "     ('age', 19), \n",
    "     ('phone_number', '03002546874')])"
   ]
  },
  {
   "cell_type": "code",
   "execution_count": null,
   "id": "a323ecc6",
   "metadata": {},
   "outputs": [],
   "source": [
    "[1,2,3,4,5,6,7]"
   ]
  },
  {
   "cell_type": "code",
   "execution_count": 34,
   "id": "cc743448",
   "metadata": {},
   "outputs": [
    {
     "name": "stdout",
     "output_type": "stream",
     "text": [
      "first_name --> Qasim\n",
      "last_name --> Hassan\n",
      "weight --> 74\n",
      "age --> 19\n",
      "phone_number --> 03002546874\n"
     ]
    }
   ],
   "source": [
    "for key, value in customer1_dict.items():\n",
    "    print(f\"{key} --> {value}\")"
   ]
  },
  {
   "cell_type": "code",
   "execution_count": 35,
   "id": "aaf3a23e",
   "metadata": {},
   "outputs": [
    {
     "name": "stdout",
     "output_type": "stream",
     "text": [
      "first_name --> Qasim\n",
      "last_name --> Hassan\n",
      "weight --> 74\n",
      "age --> 19\n",
      "phone_number --> 03002546874\n"
     ]
    }
   ],
   "source": [
    "for temp, temp1 in customer1_dict.items():\n",
    "    print(f\"{temp} --> {temp1}\")"
   ]
  },
  {
   "cell_type": "code",
   "execution_count": 39,
   "id": "31c671c2",
   "metadata": {},
   "outputs": [
    {
     "name": "stdout",
     "output_type": "stream",
     "text": [
      "('first_name', 'Qasim')\n",
      "('last_name', 'Hassan')\n",
      "('weight', 74)\n",
      "('age', 19)\n",
      "('phone_number', '03002546874')\n"
     ]
    }
   ],
   "source": [
    "for temp in customer1_dict.items():\n",
    "    print(f\"{temp}\")"
   ]
  },
  {
   "cell_type": "code",
   "execution_count": 40,
   "id": "bf0f80f8",
   "metadata": {},
   "outputs": [
    {
     "name": "stdout",
     "output_type": "stream",
     "text": [
      "first_name\n",
      "last_name\n",
      "weight\n",
      "age\n",
      "phone_number\n"
     ]
    }
   ],
   "source": [
    "for temp in customer1_dict.items():\n",
    "    print(f\"{temp[0]}\")"
   ]
  },
  {
   "cell_type": "code",
   "execution_count": 41,
   "id": "5935e82c",
   "metadata": {},
   "outputs": [
    {
     "data": {
      "text/plain": [
       "dict_keys(['first_name', 'last_name', 'weight', 'age', 'phone_number'])"
      ]
     },
     "execution_count": 41,
     "metadata": {},
     "output_type": "execute_result"
    }
   ],
   "source": [
    "customer1_dict.keys()"
   ]
  },
  {
   "cell_type": "code",
   "execution_count": 42,
   "id": "b62f4612",
   "metadata": {},
   "outputs": [
    {
     "data": {
      "text/plain": [
       "dict_values(['Qasim', 'Hassan', 74, 19, '03002546874'])"
      ]
     },
     "execution_count": 42,
     "metadata": {},
     "output_type": "execute_result"
    }
   ],
   "source": [
    "customer1_dict.values()"
   ]
  },
  {
   "cell_type": "code",
   "execution_count": 44,
   "id": "3300d51d",
   "metadata": {},
   "outputs": [
    {
     "name": "stdout",
     "output_type": "stream",
     "text": [
      "first_name\n",
      "last_name\n",
      "weight\n",
      "age\n",
      "phone_number\n"
     ]
    }
   ],
   "source": [
    "for keys in customer1_dict.keys():\n",
    "    print(f\"{keys}\")"
   ]
  },
  {
   "cell_type": "code",
   "execution_count": 45,
   "id": "d5ec7b13",
   "metadata": {},
   "outputs": [
    {
     "name": "stdout",
     "output_type": "stream",
     "text": [
      "Qasim\n",
      "Hassan\n",
      "74\n",
      "19\n",
      "03002546874\n"
     ]
    }
   ],
   "source": [
    "for value in customer1_dict.values():\n",
    "    print(f\"{value}\")"
   ]
  },
  {
   "cell_type": "code",
   "execution_count": null,
   "id": "2acc5951",
   "metadata": {},
   "outputs": [],
   "source": [
    "customer1_dict.fromkeys()"
   ]
  },
  {
   "cell_type": "code",
   "execution_count": null,
   "id": "39319118",
   "metadata": {},
   "outputs": [],
   "source": []
  },
  {
   "cell_type": "code",
   "execution_count": null,
   "id": "1c94551a",
   "metadata": {},
   "outputs": [],
   "source": [
    "customer1_dict.keys()"
   ]
  },
  {
   "cell_type": "code",
   "execution_count": 46,
   "id": "06d44365",
   "metadata": {},
   "outputs": [
    {
     "data": {
      "text/plain": [
       "{'first_name': 'Qasim',\n",
       " 'last_name': 'Hassan',\n",
       " 'weight': 74,\n",
       " 'age': 19,\n",
       " 'phone_number': '03002546874'}"
      ]
     },
     "execution_count": 46,
     "metadata": {},
     "output_type": "execute_result"
    }
   ],
   "source": [
    "customer1_dict"
   ]
  },
  {
   "cell_type": "code",
   "execution_count": 47,
   "id": "832e4825",
   "metadata": {},
   "outputs": [
    {
     "data": {
      "text/plain": [
       "'Qasim'"
      ]
     },
     "execution_count": 47,
     "metadata": {},
     "output_type": "execute_result"
    }
   ],
   "source": [
    "customer1_dict.get('first_name')"
   ]
  },
  {
   "cell_type": "code",
   "execution_count": 48,
   "id": "bf80a245",
   "metadata": {},
   "outputs": [],
   "source": [
    "customer1_dict.get('address')"
   ]
  },
  {
   "cell_type": "code",
   "execution_count": 49,
   "id": "7f944960",
   "metadata": {},
   "outputs": [
    {
     "data": {
      "text/plain": [
       "'No Address Found'"
      ]
     },
     "execution_count": 49,
     "metadata": {},
     "output_type": "execute_result"
    }
   ],
   "source": [
    "customer1_dict.get('address', 'No Address Found')"
   ]
  },
  {
   "cell_type": "code",
   "execution_count": 50,
   "id": "a4307cbb",
   "metadata": {},
   "outputs": [
    {
     "data": {
      "text/plain": [
       "'Hassan'"
      ]
     },
     "execution_count": 50,
     "metadata": {},
     "output_type": "execute_result"
    }
   ],
   "source": [
    "customer1_dict.get('last_name', 'not available')"
   ]
  },
  {
   "cell_type": "code",
   "execution_count": 51,
   "id": "8bd6b9d5",
   "metadata": {},
   "outputs": [],
   "source": [
    "set_x = {'a', 'b', 'c'}\n",
    "set_y = {0}"
   ]
  },
  {
   "cell_type": "code",
   "execution_count": 52,
   "id": "b2d99959",
   "metadata": {},
   "outputs": [],
   "source": [
    "new = dict.fromkeys(set_x, set_y)"
   ]
  },
  {
   "cell_type": "code",
   "execution_count": 53,
   "id": "57ca4012",
   "metadata": {},
   "outputs": [
    {
     "data": {
      "text/plain": [
       "{'a': {0}, 'b': {0}, 'c': {0}}"
      ]
     },
     "execution_count": 53,
     "metadata": {},
     "output_type": "execute_result"
    }
   ],
   "source": [
    "new"
   ]
  },
  {
   "cell_type": "code",
   "execution_count": 54,
   "id": "75f632e9",
   "metadata": {},
   "outputs": [
    {
     "data": {
      "text/plain": [
       "set"
      ]
     },
     "execution_count": 54,
     "metadata": {},
     "output_type": "execute_result"
    }
   ],
   "source": [
    "type(set_x)"
   ]
  },
  {
   "cell_type": "code",
   "execution_count": null,
   "id": "daf3427f",
   "metadata": {},
   "outputs": [],
   "source": [
    "set_x = {'a', 'b', 'c'}\n",
    "set_y = {0, 1, 2}"
   ]
  },
  {
   "cell_type": "code",
   "execution_count": 55,
   "id": "318e76be",
   "metadata": {},
   "outputs": [],
   "source": [
    "dict_with_key_num = {1: 'Qasim',\n",
    "                     2: 'Hassan',\n",
    "                     3: 74,\n",
    "                     4: 19,\n",
    "                     5: '03002546874'}"
   ]
  },
  {
   "cell_type": "code",
   "execution_count": 56,
   "id": "fa8bb7f8",
   "metadata": {},
   "outputs": [
    {
     "data": {
      "text/plain": [
       "'Qasim'"
      ]
     },
     "execution_count": 56,
     "metadata": {},
     "output_type": "execute_result"
    }
   ],
   "source": [
    "dict_with_key_num[1]"
   ]
  },
  {
   "cell_type": "code",
   "execution_count": 57,
   "id": "e9f8bc6b",
   "metadata": {},
   "outputs": [
    {
     "data": {
      "text/plain": [
       "{1: 'Qasim', 2: 'Hassan', 3: 74, 4: 19, 5: '03002546874'}"
      ]
     },
     "execution_count": 57,
     "metadata": {},
     "output_type": "execute_result"
    }
   ],
   "source": [
    "dict_with_key_num"
   ]
  },
  {
   "cell_type": "code",
   "execution_count": 58,
   "id": "dfdf2ffa",
   "metadata": {},
   "outputs": [],
   "source": [
    "dict_with_key_num[6] = 'Stadium Road'"
   ]
  },
  {
   "cell_type": "code",
   "execution_count": 59,
   "id": "d79fbd19",
   "metadata": {},
   "outputs": [
    {
     "data": {
      "text/plain": [
       "{1: 'Qasim', 2: 'Hassan', 3: 74, 4: 19, 5: '03002546874', 6: 'Stadium Road'}"
      ]
     },
     "execution_count": 59,
     "metadata": {},
     "output_type": "execute_result"
    }
   ],
   "source": [
    "dict_with_key_num"
   ]
  },
  {
   "cell_type": "code",
   "execution_count": 60,
   "id": "f5e647a5",
   "metadata": {},
   "outputs": [],
   "source": [
    "del(dict_with_key_num[6])"
   ]
  },
  {
   "cell_type": "code",
   "execution_count": 61,
   "id": "4111f310",
   "metadata": {},
   "outputs": [
    {
     "data": {
      "text/plain": [
       "{1: 'Qasim', 2: 'Hassan', 3: 74, 4: 19, 5: '03002546874'}"
      ]
     },
     "execution_count": 61,
     "metadata": {},
     "output_type": "execute_result"
    }
   ],
   "source": [
    "dict_with_key_num"
   ]
  },
  {
   "cell_type": "code",
   "execution_count": 62,
   "id": "db3fd519",
   "metadata": {},
   "outputs": [],
   "source": [
    "dict_with_key_num[5] = '123'"
   ]
  },
  {
   "cell_type": "code",
   "execution_count": 63,
   "id": "3dbd1a80",
   "metadata": {},
   "outputs": [
    {
     "data": {
      "text/plain": [
       "{1: 'Qasim', 2: 'Hassan', 3: 74, 4: 19, 5: '123'}"
      ]
     },
     "execution_count": 63,
     "metadata": {},
     "output_type": "execute_result"
    }
   ],
   "source": [
    "dict_with_key_num"
   ]
  },
  {
   "cell_type": "code",
   "execution_count": 64,
   "id": "bb838098",
   "metadata": {},
   "outputs": [
    {
     "ename": "SyntaxError",
     "evalue": "expression expected after dictionary key and ':' (4027431569.py, line 5)",
     "output_type": "error",
     "traceback": [
      "\u001b[1;36m  Cell \u001b[1;32mIn[64], line 5\u001b[1;36m\u001b[0m\n\u001b[1;33m    'phone_number': }\u001b[0m\n\u001b[1;37m                  ^\u001b[0m\n\u001b[1;31mSyntaxError\u001b[0m\u001b[1;31m:\u001b[0m expression expected after dictionary key and ':'\n"
     ]
    }
   ],
   "source": [
    "{'first_name': 'Qasim',\n",
    " 'last_name': 'Hassan',\n",
    " 'weight': 74,\n",
    " 'age': 19,\n",
    " 'phone_number': }"
   ]
  },
  {
   "cell_type": "raw",
   "id": "ed576e6f",
   "metadata": {},
   "source": [
    "TASKS:\n",
    "\n",
    "-- How to create dictionary\n",
    "-- Adding values in dictionary\n",
    "-- Update values in dictionary\n",
    "-- Deleting values in dictionary\n",
    "-- Get '.get()' in dictionary\n",
    "-- .items()\n",
    "-- .keys()\n",
    "-- .values()\n",
    "-- .fromkeys()"
   ]
  },
  {
   "cell_type": "code",
   "execution_count": 69,
   "id": "bd544735",
   "metadata": {},
   "outputs": [],
   "source": [
    "self_dict = {'Name': 'Qasim',\n",
    "            'Father Name': 'Iqbal',\n",
    "            'ID': '423032135114654',\n",
    "            'Course': 'Python 9to11'}"
   ]
  },
  {
   "cell_type": "code",
   "execution_count": 70,
   "id": "d578bb6a",
   "metadata": {},
   "outputs": [
    {
     "data": {
      "text/plain": [
       "{'Name': 'Qasim',\n",
       " 'Father Name': 'Iqbal',\n",
       " 'ID': '423032135114654',\n",
       " 'Course': 'Python 9to11'}"
      ]
     },
     "execution_count": 70,
     "metadata": {},
     "output_type": "execute_result"
    }
   ],
   "source": [
    "self_dict"
   ]
  },
  {
   "cell_type": "code",
   "execution_count": 71,
   "id": "d839da8b",
   "metadata": {},
   "outputs": [],
   "source": [
    "self_dict['Area'] = 'Stadium Road'"
   ]
  },
  {
   "cell_type": "code",
   "execution_count": 72,
   "id": "33e09efc",
   "metadata": {},
   "outputs": [
    {
     "data": {
      "text/plain": [
       "{'Name': 'Qasim',\n",
       " 'Father Name': 'Iqbal',\n",
       " 'ID': '423032135114654',\n",
       " 'Course': 'Python 9to11',\n",
       " 'Area': 'Stadium Road'}"
      ]
     },
     "execution_count": 72,
     "metadata": {},
     "output_type": "execute_result"
    }
   ],
   "source": [
    "#self_dict"
   ]
  },
  {
   "cell_type": "code",
   "execution_count": 79,
   "id": "6be2b5b2",
   "metadata": {},
   "outputs": [],
   "source": [
    "self_dict['Area'] = 'Stadium Roundabout'"
   ]
  },
  {
   "cell_type": "code",
   "execution_count": 82,
   "id": "2b997f2d",
   "metadata": {},
   "outputs": [
    {
     "data": {
      "text/plain": [
       "{'Name': 'Qasim',\n",
       " 'Father Name': 'Iqbal',\n",
       " 'ID': '423032135114654',\n",
       " 'Course': 'Python 9to11',\n",
       " 'Area': 'Stadium Roundabout'}"
      ]
     },
     "execution_count": 82,
     "metadata": {},
     "output_type": "execute_result"
    }
   ],
   "source": [
    "self_dict"
   ]
  },
  {
   "cell_type": "code",
   "execution_count": 83,
   "id": "dd3132db",
   "metadata": {},
   "outputs": [],
   "source": [
    "del(self_dict[\"Area\"])"
   ]
  },
  {
   "cell_type": "code",
   "execution_count": 84,
   "id": "010b857e",
   "metadata": {},
   "outputs": [
    {
     "data": {
      "text/plain": [
       "{'Name': 'Qasim',\n",
       " 'Father Name': 'Iqbal',\n",
       " 'ID': '423032135114654',\n",
       " 'Course': 'Python 9to11'}"
      ]
     },
     "execution_count": 84,
     "metadata": {},
     "output_type": "execute_result"
    }
   ],
   "source": [
    "self_dict"
   ]
  },
  {
   "cell_type": "code",
   "execution_count": 85,
   "id": "3034e1cc",
   "metadata": {},
   "outputs": [],
   "source": [
    "# list of ditionaries\n",
    "\n",
    "customers = [{\"customer id\": 0, \n",
    "              \"first name\":\"John\", \n",
    "              \"last name\": \"Ogden\", \n",
    "              \"address\": \"301 Arbor Rd.\"},\n",
    "             {\"customer id\": 1,\n",
    "              \"first name\":\"Ann\",\n",
    "              \"last name\": \"Sattermyer\",\n",
    "              \"address\": \"PO Box 1145\"\n",
    "             }\n",
    "            ]"
   ]
  },
  {
   "cell_type": "code",
   "execution_count": 86,
   "id": "97facaf1",
   "metadata": {},
   "outputs": [
    {
     "data": {
      "text/plain": [
       "{'customer id': 0,\n",
       " 'first name': 'John',\n",
       " 'last name': 'Ogden',\n",
       " 'address': '301 Arbor Rd.'}"
      ]
     },
     "execution_count": 86,
     "metadata": {},
     "output_type": "execute_result"
    }
   ],
   "source": [
    "customers[0]"
   ]
  },
  {
   "cell_type": "code",
   "execution_count": 87,
   "id": "57f51b3a",
   "metadata": {},
   "outputs": [
    {
     "data": {
      "text/plain": [
       "dict"
      ]
     },
     "execution_count": 87,
     "metadata": {},
     "output_type": "execute_result"
    }
   ],
   "source": [
    "type(customers[0])"
   ]
  },
  {
   "cell_type": "code",
   "execution_count": null,
   "id": "8b366fe8",
   "metadata": {},
   "outputs": [],
   "source": [
    "# dict of list\n",
    "\n",
    "\n"
   ]
  }
 ],
 "metadata": {
  "kernelspec": {
   "display_name": "Python 3 (ipykernel)",
   "language": "python",
   "name": "python3"
  },
  "language_info": {
   "codemirror_mode": {
    "name": "ipython",
    "version": 3
   },
   "file_extension": ".py",
   "mimetype": "text/x-python",
   "name": "python",
   "nbconvert_exporter": "python",
   "pygments_lexer": "ipython3",
   "version": "3.11.5"
  }
 },
 "nbformat": 4,
 "nbformat_minor": 5
}
