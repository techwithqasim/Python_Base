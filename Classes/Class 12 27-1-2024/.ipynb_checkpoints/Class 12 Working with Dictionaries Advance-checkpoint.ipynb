{
 "cells": [
  {
   "cell_type": "code",
   "execution_count": 1,
   "id": "f20c92f6",
   "metadata": {},
   "outputs": [
    {
     "name": "stdout",
     "output_type": "stream",
     "text": [
      "Enter the number of voters: 5\n",
      "Candidates:\n",
      "1. Candidate A\n",
      "2. Candidate B\n",
      "3. Candidate C\n",
      "Enter the number corresponding to your vote: 1\n",
      "Vote for Candidate A recorded.\n",
      "Candidates:\n",
      "1. Candidate A\n",
      "2. Candidate B\n",
      "3. Candidate C\n",
      "Enter the number corresponding to your vote: 2\n",
      "Vote for Candidate B recorded.\n",
      "Candidates:\n",
      "1. Candidate A\n",
      "2. Candidate B\n",
      "3. Candidate C\n",
      "Enter the number corresponding to your vote: 3\n",
      "Vote for Candidate C recorded.\n",
      "Candidates:\n",
      "1. Candidate A\n",
      "2. Candidate B\n",
      "3. Candidate C\n",
      "Enter the number corresponding to your vote: 1\n",
      "Vote for Candidate A recorded.\n",
      "Candidates:\n",
      "1. Candidate A\n",
      "2. Candidate B\n",
      "3. Candidate C\n",
      "Enter the number corresponding to your vote: 2\n",
      "Vote for Candidate B recorded.\n",
      "\n",
      "Voting Results\n",
      "Candidate A: 2 votes\n",
      "Candidate B: 2 votes\n",
      "Candidate C: 1 votes\n"
     ]
    }
   ],
   "source": [
    "candidates = [\"Candidate A\", \"Candidate B\", \"Candidate C\"]\n",
    "votes = {candidate: 0 for candidate in candidates}\n",
    "\n",
    "num_voters = int(input(\"Enter the number of voters: \"))\n",
    "\n",
    "for _ in range(num_voters):\n",
    "    print(\"Candidates:\")\n",
    "    for i, candidate in enumerate(candidates, start=1):\n",
    "        print(f\"{i}. {candidate}\")\n",
    "        \n",
    "    vote = int(input(\"Enter the number corresponding to your vote: \"))\n",
    "    \n",
    "    if 1 <= vote <= len(candidates):\n",
    "        selected_candidate = candidates[vote - 1]\n",
    "        votes[selected_candidate] += 1\n",
    "        print(f\"Vote for {selected_candidate} recorded.\")\n",
    "    else:\n",
    "        print(\"Invalid Vote. Please choose a valid candidate.\")\n",
    "        \n",
    "        \n",
    "print(\"\\nVoting Results\")\n",
    "for candidate, vote_count in votes.items():\n",
    "    print(f\"{candidate}: {vote_count} votes\")"
   ]
  },
  {
   "cell_type": "code",
   "execution_count": 2,
   "id": "28ba777f",
   "metadata": {},
   "outputs": [],
   "source": [
    "customers = [\n",
    "    {\n",
    "        \"customer id\": 0,\n",
    "        \"first name\":\"John\",\n",
    "        \"last name\": \"Ogden\",\n",
    "        \"address\": \"301 Arbor Rd.\",\n",
    "    },\n",
    "    {\n",
    "        \"customer id\": 1,\n",
    "        \"first name\":\"Ann\",\n",
    "        \"last name\": \"Sattermyer\",\n",
    "        \"address\": \"PO Box 1145\",\n",
    "    },\n",
    "    {\n",
    "        \"customer id\": 2,\n",
    "        \"first name\":\"Jill\",\n",
    "        \"last name\": \"Somers\",\n",
    "        \"address\": \"3 Main St.\",\n",
    "    },\n",
    "]"
   ]
  },
  {
   "cell_type": "code",
   "execution_count": 4,
   "id": "65ebf545",
   "metadata": {},
   "outputs": [],
   "source": [
    "dict_of_dict = {\n",
    "    \"customer 1\": {\"customer id\": 0,\n",
    "                   \"first name\":\"John\",\n",
    "                   \"last name\": \"Ogden\",\n",
    "                   \"address\": \"301 Arbor Rd.\",},\n",
    "    \"customer 2\": {\"customer id\": 1,\n",
    "                   \"first name\":\"Ann\",\n",
    "                   \"last name\": \"Sattermyer\",\n",
    "                   \"address\": \"PO Box 1145\",},\n",
    "    \"customer 3\": {\"customer id\": 2,\n",
    "                   \"first name\":\"Jill\",\n",
    "                   \"last name\": \"Somers\",\n",
    "                   \"address\": \"3 Main St.\",},\n",
    "}"
   ]
  },
  {
   "cell_type": "code",
   "execution_count": 12,
   "id": "9900ae59",
   "metadata": {},
   "outputs": [
    {
     "data": {
      "text/plain": [
       "{'customer id': 0,\n",
       " 'first name': 'John',\n",
       " 'last name': 'Ogden',\n",
       " 'address': '301 Arbor Rd.'}"
      ]
     },
     "execution_count": 12,
     "metadata": {},
     "output_type": "execute_result"
    }
   ],
   "source": [
    "dict_of_dict[\"customer 1\"]"
   ]
  },
  {
   "cell_type": "code",
   "execution_count": 13,
   "id": "02011c7d",
   "metadata": {},
   "outputs": [
    {
     "data": {
      "text/plain": [
       "'301 Arbor Rd.'"
      ]
     },
     "execution_count": 13,
     "metadata": {},
     "output_type": "execute_result"
    }
   ],
   "source": [
    "dict_of_dict[\"customer 1\"][\"address\"]"
   ]
  },
  {
   "cell_type": "code",
   "execution_count": 14,
   "id": "8afbf622",
   "metadata": {},
   "outputs": [
    {
     "ename": "TypeError",
     "evalue": "unhashable type: 'slice'",
     "output_type": "error",
     "traceback": [
      "\u001b[1;31m---------------------------------------------------------------------------\u001b[0m",
      "\u001b[1;31mTypeError\u001b[0m                                 Traceback (most recent call last)",
      "Cell \u001b[1;32mIn[14], line 1\u001b[0m\n\u001b[1;32m----> 1\u001b[0m dict_of_dict[\u001b[38;5;124m\"\u001b[39m\u001b[38;5;124mcustomer 1\u001b[39m\u001b[38;5;124m\"\u001b[39m][:]\n",
      "\u001b[1;31mTypeError\u001b[0m: unhashable type: 'slice'"
     ]
    }
   ],
   "source": [
    "dict_of_dict[\"customer 1\"][:]"
   ]
  },
  {
   "cell_type": "code",
   "execution_count": 5,
   "id": "7b95b98f",
   "metadata": {},
   "outputs": [
    {
     "name": "stdout",
     "output_type": "stream",
     "text": [
      "0\n",
      "John\n",
      "Ogden\n",
      "301 Arbor Rd.\n"
     ]
    }
   ],
   "source": [
    "for value in dict_of_dict[\"customer 1\"].keys():\n",
    "    print(dict_of_dict[\"customer 1\"][value])"
   ]
  },
  {
   "cell_type": "code",
   "execution_count": 9,
   "id": "e67b40ab",
   "metadata": {},
   "outputs": [
    {
     "ename": "KeyError",
     "evalue": "'customer 1'",
     "output_type": "error",
     "traceback": [
      "\u001b[1;31m---------------------------------------------------------------------------\u001b[0m",
      "\u001b[1;31mKeyError\u001b[0m                                  Traceback (most recent call last)",
      "Cell \u001b[1;32mIn[9], line 4\u001b[0m\n\u001b[0;32m      2\u001b[0m \u001b[38;5;28;01mif\u001b[39;00m value \u001b[38;5;241m==\u001b[39m \u001b[38;5;241m1\u001b[39m:\n\u001b[0;32m      3\u001b[0m     \u001b[38;5;28;01mcontinue\u001b[39;00m\n\u001b[1;32m----> 4\u001b[0m \u001b[38;5;28mprint\u001b[39m(dict_of_dict[\u001b[38;5;124m\"\u001b[39m\u001b[38;5;124mcustomer 1\u001b[39m\u001b[38;5;124m\"\u001b[39m][value])\n",
      "\u001b[1;31mKeyError\u001b[0m: 'customer 1'"
     ]
    }
   ],
   "source": [
    "for value in dict_of_dict.keys():\n",
    "    if value == 1:\n",
    "        continue\n",
    "    print(dict_of_dict[\"customer 1\"][value])"
   ]
  },
  {
   "cell_type": "code",
   "execution_count": 11,
   "id": "a5f4a578",
   "metadata": {},
   "outputs": [
    {
     "data": {
      "text/plain": [
       "['John', 'Ogden', '301 Arbor Rd.']"
      ]
     },
     "execution_count": 11,
     "metadata": {},
     "output_type": "execute_result"
    }
   ],
   "source": [
    "list(dict_of_dict[\"customer 1\"].values())[1:]"
   ]
  },
  {
   "cell_type": "markdown",
   "id": "a339c257",
   "metadata": {},
   "source": [
    "# FUNCTIONS"
   ]
  },
  {
   "cell_type": "code",
   "execution_count": 15,
   "id": "269a08ee",
   "metadata": {},
   "outputs": [
    {
     "data": {
      "text/plain": [
       "5"
      ]
     },
     "execution_count": 15,
     "metadata": {},
     "output_type": "execute_result"
    }
   ],
   "source": [
    "2 + 3"
   ]
  },
  {
   "cell_type": "code",
   "execution_count": 16,
   "id": "75c9addb",
   "metadata": {},
   "outputs": [
    {
     "name": "stdout",
     "output_type": "stream",
     "text": [
      "Enter Number 1: 2\n",
      "Enter Number 2: 3\n"
     ]
    },
    {
     "data": {
      "text/plain": [
       "5"
      ]
     },
     "execution_count": 16,
     "metadata": {},
     "output_type": "execute_result"
    }
   ],
   "source": [
    "num1 = int(input(\"Enter Number 1: \"))\n",
    "num2 = int(input(\"Enter Number 2: \"))\n",
    "\n",
    "num1+num2"
   ]
  },
  {
   "cell_type": "code",
   "execution_count": null,
   "id": "d5322e65",
   "metadata": {},
   "outputs": [],
   "source": [
    "bio = int(input(\"Enter Marks Bio: \"))\n",
    "chem = int(input(\"Enter Marks Chem: \"))\n",
    "eng = int(input(\"Enter Marks Eng: \"))\n",
    "phy = int(input(\"Enter Marks Phy: \"))\n",
    "\n",
    "total_marks = 400\n",
    "obtain_marks = bio+chem+eng+phy\n",
    "percentage = (obtain_marks * 100) / total_marks"
   ]
  },
  {
   "cell_type": "raw",
   "id": "df7c086f",
   "metadata": {},
   "source": [
    "def <function_name>(<parameters>):\n",
    "    <function_body>"
   ]
  },
  {
   "cell_type": "code",
   "execution_count": 24,
   "id": "fdcff8cd",
   "metadata": {},
   "outputs": [],
   "source": [
    "def calc_percentage_no_params():\n",
    "    bio = int(input(\"Enter Marks Bio: \"))\n",
    "    chem = int(input(\"Enter Marks Chem: \"))\n",
    "    eng = int(input(\"Enter Marks Eng: \"))\n",
    "    phy = int(input(\"Enter Marks Phy: \"))\n",
    "    \n",
    "    total_marks = 400\n",
    "    obtain_marks = bio+chem+eng+phy\n",
    "    percentage = (obtain_marks * 100) / total_marks\n",
    "    print(f\"Your Pecentage is {percentage}\")"
   ]
  },
  {
   "cell_type": "code",
   "execution_count": 25,
   "id": "9f1c4611",
   "metadata": {},
   "outputs": [
    {
     "name": "stdout",
     "output_type": "stream",
     "text": [
      "Enter Marks Bio: 45\n",
      "Enter Marks Chem: 45\n",
      "Enter Marks Eng: 45\n",
      "Enter Marks Phy: 45\n",
      "Your Pecentage is 45.0\n"
     ]
    }
   ],
   "source": [
    "calc_percentage_no_params()"
   ]
  },
  {
   "cell_type": "code",
   "execution_count": 22,
   "id": "2dce6e0c",
   "metadata": {},
   "outputs": [],
   "source": [
    "def calculate_percentage(bio, chem, eng, phy):\n",
    "    total_marks = 400\n",
    "    obtain_marks = bio+chem+eng+phy\n",
    "    percentage = (obtain_marks * 100) / total_marks\n",
    "    print(f\"Your Pecentage is {percentage}\")"
   ]
  },
  {
   "cell_type": "code",
   "execution_count": 19,
   "id": "0008da18",
   "metadata": {},
   "outputs": [
    {
     "name": "stdout",
     "output_type": "stream",
     "text": [
      "36.75\n"
     ]
    }
   ],
   "source": [
    "calculate_percentage(23, 24, 45, 55)"
   ]
  },
  {
   "cell_type": "code",
   "execution_count": 20,
   "id": "d0a2f816",
   "metadata": {},
   "outputs": [
    {
     "name": "stdout",
     "output_type": "stream",
     "text": [
      "51.75\n"
     ]
    }
   ],
   "source": [
    "calculate_percentage(53, 54, 45, 55)"
   ]
  },
  {
   "cell_type": "code",
   "execution_count": 23,
   "id": "3cae5d59",
   "metadata": {},
   "outputs": [
    {
     "name": "stdout",
     "output_type": "stream",
     "text": [
      "Enter Marks Bio: 23\n",
      "Enter Marks Chem: 24\n",
      "Enter Marks Eng: 45\n",
      "Enter Marks Phy: 55\n",
      "Your Pecentage is 36.75\n"
     ]
    }
   ],
   "source": [
    "bio = int(input(\"Enter Marks Bio: \"))\n",
    "chem = int(input(\"Enter Marks Chem: \"))\n",
    "eng = int(input(\"Enter Marks Eng: \"))\n",
    "phy = int(input(\"Enter Marks Phy: \"))\n",
    "\n",
    "calculate_percentage(bio, chem, eng, phy)"
   ]
  },
  {
   "cell_type": "code",
   "execution_count": 32,
   "id": "766e5ccb",
   "metadata": {},
   "outputs": [],
   "source": [
    "def calc_area_of_square():\n",
    "    length = int(input(\"Enter Length of Square(cm): \"))\n",
    "    area_of_square = length * length\n",
    "    print(f\"The Area of Your Square is {area_of_square} cm\")"
   ]
  },
  {
   "cell_type": "code",
   "execution_count": 33,
   "id": "ad9a9b0f",
   "metadata": {},
   "outputs": [
    {
     "name": "stdout",
     "output_type": "stream",
     "text": [
      "Enter Length of Square(cm): 5\n",
      "The Area of Your Square is 25 cm\n"
     ]
    }
   ],
   "source": [
    "calc_area_of_square()"
   ]
  },
  {
   "cell_type": "code",
   "execution_count": 35,
   "id": "10413abe",
   "metadata": {},
   "outputs": [],
   "source": [
    "def calc_volume_of_cube(length, breadth, height):\n",
    "    vol = length * breadth * height\n",
    "    print(f\"The Volume of Your Cube is {vol}\")"
   ]
  },
  {
   "cell_type": "code",
   "execution_count": 36,
   "id": "1a09b778",
   "metadata": {},
   "outputs": [
    {
     "name": "stdout",
     "output_type": "stream",
     "text": [
      "The Volume of Your Cube is 210\n"
     ]
    }
   ],
   "source": [
    "calc_volume_of_cube(6, 7, 5)"
   ]
  },
  {
   "cell_type": "code",
   "execution_count": 37,
   "id": "b2113aca",
   "metadata": {},
   "outputs": [],
   "source": [
    "def calc_volume_of_cube(length, breadth, height):\n",
    "    vol = length * breadth * height\n",
    "    return vol"
   ]
  },
  {
   "cell_type": "code",
   "execution_count": 39,
   "id": "f7bf3982",
   "metadata": {},
   "outputs": [
    {
     "name": "stdout",
     "output_type": "stream",
     "text": [
      "The Volume of Cube is 137149\n"
     ]
    }
   ],
   "source": [
    "print(f\"The Volume of Cube is {calc_volume_of_cube(23, 67, 89)}\")"
   ]
  },
  {
   "cell_type": "code",
   "execution_count": 46,
   "id": "8f7519d3",
   "metadata": {},
   "outputs": [],
   "source": [
    "def calc_volume_of_cube(length, breadth, height):\n",
    "    vol = length * breadth * height\n",
    "    return vol"
   ]
  },
  {
   "cell_type": "code",
   "execution_count": 45,
   "id": "f928d0d6",
   "metadata": {},
   "outputs": [
    {
     "ename": "NameError",
     "evalue": "name 'vol' is not defined",
     "output_type": "error",
     "traceback": [
      "\u001b[1;31m---------------------------------------------------------------------------\u001b[0m",
      "\u001b[1;31mNameError\u001b[0m                                 Traceback (most recent call last)",
      "Cell \u001b[1;32mIn[45], line 1\u001b[0m\n\u001b[1;32m----> 1\u001b[0m \u001b[38;5;28mprint\u001b[39m(vol)\n",
      "\u001b[1;31mNameError\u001b[0m: name 'vol' is not defined"
     ]
    }
   ],
   "source": [
    "print(vol)"
   ]
  },
  {
   "cell_type": "code",
   "execution_count": null,
   "id": "04a11198",
   "metadata": {},
   "outputs": [],
   "source": []
  },
  {
   "cell_type": "code",
   "execution_count": 49,
   "id": "ad811eca",
   "metadata": {},
   "outputs": [
    {
     "name": "stdout",
     "output_type": "stream",
     "text": [
      "The Volume of Cube is 0\n"
     ]
    }
   ],
   "source": [
    "print(f\"The Volume of Cube is {0}\".format(calc_volume_of_cube(23, 67, 89)))"
   ]
  },
  {
   "cell_type": "code",
   "execution_count": 50,
   "id": "fe2cbbb6",
   "metadata": {},
   "outputs": [],
   "source": [
    "def complete_name(first_name, last_name, middle_name= \"\"):\n",
    "    return f\"{first_name} {middle_name} {last_name}\""
   ]
  },
  {
   "cell_type": "code",
   "execution_count": 51,
   "id": "b15182a6",
   "metadata": {},
   "outputs": [
    {
     "data": {
      "text/plain": [
       "'Qasim  Hassan'"
      ]
     },
     "execution_count": 51,
     "metadata": {},
     "output_type": "execute_result"
    }
   ],
   "source": [
    "complete_name(\"Qasim\", \"Hassan\")"
   ]
  },
  {
   "cell_type": "code",
   "execution_count": 53,
   "id": "cc36bb20",
   "metadata": {},
   "outputs": [
    {
     "data": {
      "text/plain": [
       "'Mehmood Ul Hassan'"
      ]
     },
     "execution_count": 53,
     "metadata": {},
     "output_type": "execute_result"
    }
   ],
   "source": [
    "complete_name(\"Mehmood\", \"Hassan\", \"Ul\")"
   ]
  },
  {
   "cell_type": "code",
   "execution_count": 58,
   "id": "91220a91",
   "metadata": {},
   "outputs": [
    {
     "data": {
      "text/plain": [
       "'Qasim Ul Hassan'"
      ]
     },
     "execution_count": 58,
     "metadata": {},
     "output_type": "execute_result"
    }
   ],
   "source": [
    "complete_name(middle_name=\"Ul\", last_name=\"Hassan\", first_name=\"Qasim\")"
   ]
  },
  {
   "cell_type": "code",
   "execution_count": null,
   "id": "d4a5dc5f",
   "metadata": {},
   "outputs": [],
   "source": [
    "first_name =\n",
    "middle_name =\n",
    "last_name =\n",
    "\n",
    "def complete_name(first_name, last_name, middle_name= \"\"):\n",
    "    return f\"{first_name} {middle_name} {last_name}\""
   ]
  },
  {
   "cell_type": "code",
   "execution_count": 54,
   "id": "f69899a2",
   "metadata": {},
   "outputs": [],
   "source": [
    "def calc_tax(sales_total=101.37, tax_rate=.05):\n",
    "    return sales_total * tax_rate"
   ]
  },
  {
   "cell_type": "code",
   "execution_count": 56,
   "id": "d3276b35",
   "metadata": {},
   "outputs": [
    {
     "data": {
      "text/plain": [
       "5.0685"
      ]
     },
     "execution_count": 56,
     "metadata": {},
     "output_type": "execute_result"
    }
   ],
   "source": [
    "calc_tax()"
   ]
  },
  {
   "cell_type": "code",
   "execution_count": 57,
   "id": "9755246f",
   "metadata": {},
   "outputs": [
    {
     "data": {
      "text/plain": [
       "9.1233"
      ]
     },
     "execution_count": 57,
     "metadata": {},
     "output_type": "execute_result"
    }
   ],
   "source": [
    "calc_tax(tax_rate= .09)"
   ]
  },
  {
   "cell_type": "raw",
   "id": "e88e1998",
   "metadata": {},
   "source": [
    "- Create a Function\n",
    "- Without Parameter\n",
    "- With Parameter\n",
    "- return\n",
    "- default parameters\n",
    "- positional argument"
   ]
  }
 ],
 "metadata": {
  "kernelspec": {
   "display_name": "Python 3 (ipykernel)",
   "language": "python",
   "name": "python3"
  },
  "language_info": {
   "codemirror_mode": {
    "name": "ipython",
    "version": 3
   },
   "file_extension": ".py",
   "mimetype": "text/x-python",
   "name": "python",
   "nbconvert_exporter": "python",
   "pygments_lexer": "ipython3",
   "version": "3.11.5"
  }
 },
 "nbformat": 4,
 "nbformat_minor": 5
}
