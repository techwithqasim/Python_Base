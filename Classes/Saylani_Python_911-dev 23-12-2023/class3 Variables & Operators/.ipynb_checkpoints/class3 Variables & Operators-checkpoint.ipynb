{
 "cells": [
  {
   "cell_type": "code",
   "execution_count": 1,
   "id": "c129663c",
   "metadata": {},
   "outputs": [],
   "source": [
    "name = \"Qasim\""
   ]
  },
  {
   "cell_type": "code",
   "execution_count": 2,
   "id": "f2bee010",
   "metadata": {},
   "outputs": [
    {
     "name": "stdout",
     "output_type": "stream",
     "text": [
      "Qasim\n"
     ]
    }
   ],
   "source": [
    "print(name)"
   ]
  },
  {
   "cell_type": "code",
   "execution_count": 3,
   "id": "84b4f5a0",
   "metadata": {},
   "outputs": [],
   "source": [
    "name = \"Hassan\""
   ]
  },
  {
   "cell_type": "code",
   "execution_count": 15,
   "id": "19fa1014",
   "metadata": {},
   "outputs": [
    {
     "name": "stdout",
     "output_type": "stream",
     "text": [
      "Hassan\n"
     ]
    }
   ],
   "source": [
    "print(name)"
   ]
  },
  {
   "cell_type": "code",
   "execution_count": 22,
   "id": "60401d34",
   "metadata": {},
   "outputs": [],
   "source": [
    "first_name = \"Qasim\"\n",
    "\n",
    "facebook = \"Qasim\""
   ]
  },
  {
   "cell_type": "code",
   "execution_count": 17,
   "id": "585257d3",
   "metadata": {},
   "outputs": [
    {
     "name": "stdout",
     "output_type": "stream",
     "text": [
      "Qasim\n"
     ]
    }
   ],
   "source": [
    "print(facebook)"
   ]
  },
  {
   "cell_type": "code",
   "execution_count": 19,
   "id": "b28cfb3e",
   "metadata": {},
   "outputs": [],
   "source": [
    "my_first_name_is = \"Qasim\""
   ]
  },
  {
   "cell_type": "code",
   "execution_count": 20,
   "id": "7215b620",
   "metadata": {},
   "outputs": [
    {
     "name": "stdout",
     "output_type": "stream",
     "text": [
      "Qasim\n"
     ]
    }
   ],
   "source": [
    "print(my_first_name_is)"
   ]
  },
  {
   "cell_type": "code",
   "execution_count": 23,
   "id": "a3acb2d0",
   "metadata": {},
   "outputs": [
    {
     "name": "stdout",
     "output_type": "stream",
     "text": [
      "Qasim\n"
     ]
    }
   ],
   "source": [
    "print(first_name)"
   ]
  },
  {
   "cell_type": "code",
   "execution_count": 24,
   "id": "d0db0345",
   "metadata": {},
   "outputs": [],
   "source": [
    "last_name = \"Hassan\"\n",
    "city_of_origin = \"New Orleans\"\n",
    "aussie_greeting = \"g'Day\""
   ]
  },
  {
   "cell_type": "code",
   "execution_count": 25,
   "id": "581872af",
   "metadata": {},
   "outputs": [
    {
     "name": "stdout",
     "output_type": "stream",
     "text": [
      "g'Day\n"
     ]
    }
   ],
   "source": [
    "print(aussie_greeting)"
   ]
  },
  {
   "cell_type": "code",
   "execution_count": 26,
   "id": "b122b7b3",
   "metadata": {},
   "outputs": [
    {
     "ename": "SyntaxError",
     "evalue": "unterminated string literal (detected at line 1) (1405314756.py, line 1)",
     "output_type": "error",
     "traceback": [
      "\u001b[1;36m  Cell \u001b[1;32mIn[26], line 1\u001b[1;36m\u001b[0m\n\u001b[1;33m    aussie_greeting = \"g\"Day\"\u001b[0m\n\u001b[1;37m                            ^\u001b[0m\n\u001b[1;31mSyntaxError\u001b[0m\u001b[1;31m:\u001b[0m unterminated string literal (detected at line 1)\n"
     ]
    }
   ],
   "source": [
    "aussie_greeting = \"g\"Day\""
   ]
  },
  {
   "cell_type": "code",
   "execution_count": 31,
   "id": "c4ce87ff",
   "metadata": {},
   "outputs": [],
   "source": [
    "greeting = 'g\"Day'"
   ]
  },
  {
   "cell_type": "code",
   "execution_count": 32,
   "id": "19a29693",
   "metadata": {},
   "outputs": [
    {
     "name": "stdout",
     "output_type": "stream",
     "text": [
      "g\"Day\n"
     ]
    }
   ],
   "source": [
    "print(greeting)"
   ]
  },
  {
   "cell_type": "code",
   "execution_count": 29,
   "id": "16a11ce7",
   "metadata": {},
   "outputs": [],
   "source": [
    "greetings_double = \"g\\\"Day\""
   ]
  },
  {
   "cell_type": "code",
   "execution_count": 30,
   "id": "ee0d21fe",
   "metadata": {},
   "outputs": [
    {
     "name": "stdout",
     "output_type": "stream",
     "text": [
      "g\"Day\n"
     ]
    }
   ],
   "source": [
    "print(greetings_double)"
   ]
  },
  {
   "cell_type": "code",
   "execution_count": null,
   "id": "f83434f6",
   "metadata": {},
   "outputs": [],
   "source": []
  }
 ],
 "metadata": {
  "kernelspec": {
   "display_name": "Python 3 (ipykernel)",
   "language": "python",
   "name": "python3"
  },
  "language_info": {
   "codemirror_mode": {
    "name": "ipython",
    "version": 3
   },
   "file_extension": ".py",
   "mimetype": "text/x-python",
   "name": "python",
   "nbconvert_exporter": "python",
   "pygments_lexer": "ipython3",
   "version": "3.11.5"
  }
 },
 "nbformat": 4,
 "nbformat_minor": 5
}
