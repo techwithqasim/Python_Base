{
 "cells": [
  {
   "cell_type": "markdown",
   "id": "06853f70",
   "metadata": {},
   "source": [
    "## 1 Variables"
   ]
  },
  {
   "cell_type": "code",
   "execution_count": 1,
   "id": "f21e7ff1",
   "metadata": {},
   "outputs": [],
   "source": [
    "name = \"Qasim\""
   ]
  },
  {
   "cell_type": "code",
   "execution_count": 2,
   "id": "8bd4edd9",
   "metadata": {},
   "outputs": [
    {
     "name": "stdout",
     "output_type": "stream",
     "text": [
      "Qasim\n"
     ]
    }
   ],
   "source": [
    "print(name)"
   ]
  },
  {
   "cell_type": "code",
   "execution_count": 3,
   "id": "b2c491c5",
   "metadata": {},
   "outputs": [],
   "source": [
    "name = \"Hassan\""
   ]
  },
  {
   "cell_type": "code",
   "execution_count": 15,
   "id": "d4db90fe",
   "metadata": {},
   "outputs": [
    {
     "name": "stdout",
     "output_type": "stream",
     "text": [
      "Hassan\n"
     ]
    }
   ],
   "source": [
    "print(name)"
   ]
  },
  {
   "cell_type": "code",
   "execution_count": 22,
   "id": "783b68cd",
   "metadata": {},
   "outputs": [],
   "source": [
    "first_name = \"Qasim\"\n",
    "\n",
    "facebook = \"Qasim\""
   ]
  },
  {
   "cell_type": "code",
   "execution_count": 17,
   "id": "c39b2ebc",
   "metadata": {},
   "outputs": [
    {
     "name": "stdout",
     "output_type": "stream",
     "text": [
      "Qasim\n"
     ]
    }
   ],
   "source": [
    "print(facebook)"
   ]
  },
  {
   "cell_type": "code",
   "execution_count": 19,
   "id": "42176b01",
   "metadata": {},
   "outputs": [],
   "source": [
    "my_first_name_is = \"Qasim\""
   ]
  },
  {
   "cell_type": "code",
   "execution_count": 20,
   "id": "a32db5ec",
   "metadata": {},
   "outputs": [
    {
     "name": "stdout",
     "output_type": "stream",
     "text": [
      "Qasim\n"
     ]
    }
   ],
   "source": [
    "print(my_first_name_is)"
   ]
  },
  {
   "cell_type": "code",
   "execution_count": 23,
   "id": "af1ceaa9",
   "metadata": {},
   "outputs": [
    {
     "name": "stdout",
     "output_type": "stream",
     "text": [
      "Qasim\n"
     ]
    }
   ],
   "source": [
    "print(first_name)"
   ]
  },
  {
   "cell_type": "code",
   "execution_count": 24,
   "id": "287f46ab",
   "metadata": {},
   "outputs": [],
   "source": [
    "last_name = \"Hassan\"\n",
    "city_of_origin = \"New Orleans\"\n",
    "aussie_greeting = \"g'Day\""
   ]
  },
  {
   "cell_type": "code",
   "execution_count": 25,
   "id": "95b4261d",
   "metadata": {},
   "outputs": [
    {
     "name": "stdout",
     "output_type": "stream",
     "text": [
      "g'Day\n"
     ]
    }
   ],
   "source": [
    "print(aussie_greeting)"
   ]
  },
  {
   "cell_type": "code",
   "execution_count": 26,
   "id": "3cbc0acd",
   "metadata": {},
   "outputs": [
    {
     "ename": "SyntaxError",
     "evalue": "unterminated string literal (detected at line 1) (1405314756.py, line 1)",
     "output_type": "error",
     "traceback": [
      "\u001b[1;36m  Cell \u001b[1;32mIn[26], line 1\u001b[1;36m\u001b[0m\n\u001b[1;33m    aussie_greeting = \"g\"Day\"\u001b[0m\n\u001b[1;37m                            ^\u001b[0m\n\u001b[1;31mSyntaxError\u001b[0m\u001b[1;31m:\u001b[0m unterminated string literal (detected at line 1)\n"
     ]
    }
   ],
   "source": [
    "aussie_greeting = \"g\"Day\""
   ]
  },
  {
   "cell_type": "code",
   "execution_count": 31,
   "id": "e369625f",
   "metadata": {},
   "outputs": [],
   "source": [
    "greeting = 'g\"Day'"
   ]
  },
  {
   "cell_type": "code",
   "execution_count": 32,
   "id": "75d2ad28",
   "metadata": {},
   "outputs": [
    {
     "name": "stdout",
     "output_type": "stream",
     "text": [
      "g\"Day\n"
     ]
    }
   ],
   "source": [
    "print(greeting)"
   ]
  },
  {
   "cell_type": "code",
   "execution_count": 29,
   "id": "92c9e1ec",
   "metadata": {},
   "outputs": [],
   "source": [
    "greetings_double = \"g\\\"Day\""
   ]
  },
  {
   "cell_type": "code",
   "execution_count": 30,
   "id": "035db757",
   "metadata": {
    "scrolled": true
   },
   "outputs": [
    {
     "name": "stdout",
     "output_type": "stream",
     "text": [
      "g\"Day\n"
     ]
    }
   ],
   "source": [
    "print(greetings_double)"
   ]
  },
  {
   "cell_type": "markdown",
   "id": "9aac9c48",
   "metadata": {},
   "source": [
    "# 1.1 Shortcut Commands\n",
    "\n",
    "- CTRL + ENTER = run cell while staying at same cell\n",
    "- SHIFT + ENTER = run cell while moving to the next / new cell\n",
    "\n",
    "- ESC + A => cell created above\n",
    "- ESC + B => cell created below\n",
    "- ESC + M => cell converted markdown\n",
    "- ESC + DD => to delete the cell in which we are rightnoe\n",
    "- ESC + 1 => cell will create level 1 heading (2-5)"
   ]
  },
  {
   "cell_type": "markdown",
   "id": "47055113",
   "metadata": {},
   "source": [
    "## 2 Variables for Numbers"
   ]
  },
  {
   "cell_type": "code",
   "execution_count": 37,
   "id": "588c57fb",
   "metadata": {},
   "outputs": [],
   "source": [
    "age = 18"
   ]
  },
  {
   "cell_type": "code",
   "execution_count": 39,
   "id": "956648c7",
   "metadata": {},
   "outputs": [
    {
     "name": "stdout",
     "output_type": "stream",
     "text": [
      "18\n"
     ]
    }
   ],
   "source": [
    "print(age)"
   ]
  },
  {
   "cell_type": "code",
   "execution_count": 38,
   "id": "7063a586",
   "metadata": {},
   "outputs": [
    {
     "data": {
      "text/plain": [
       "19"
      ]
     },
     "execution_count": 38,
     "metadata": {},
     "output_type": "execute_result"
    }
   ],
   "source": [
    "age + 1"
   ]
  },
  {
   "cell_type": "code",
   "execution_count": 40,
   "id": "dd27e662",
   "metadata": {},
   "outputs": [],
   "source": [
    "new_age = age + 2"
   ]
  },
  {
   "cell_type": "code",
   "execution_count": 41,
   "id": "ca6032a3",
   "metadata": {},
   "outputs": [],
   "source": [
    "weight  = 150"
   ]
  },
  {
   "cell_type": "code",
   "execution_count": 42,
   "id": "33b68320",
   "metadata": {},
   "outputs": [
    {
     "name": "stdout",
     "output_type": "stream",
     "text": [
      "150\n"
     ]
    }
   ],
   "source": [
    "print(weight)"
   ]
  },
  {
   "cell_type": "code",
   "execution_count": 43,
   "id": "89373dea",
   "metadata": {},
   "outputs": [
    {
     "name": "stdout",
     "output_type": "stream",
     "text": [
      "151\n"
     ]
    }
   ],
   "source": [
    "print(weight + 1)"
   ]
  },
  {
   "cell_type": "code",
   "execution_count": 44,
   "id": "9582186e",
   "metadata": {},
   "outputs": [],
   "source": [
    "weight+=1"
   ]
  },
  {
   "cell_type": "code",
   "execution_count": 45,
   "id": "db4120ce",
   "metadata": {},
   "outputs": [
    {
     "name": "stdout",
     "output_type": "stream",
     "text": [
      "151\n"
     ]
    }
   ],
   "source": [
    "print(weight)"
   ]
  },
  {
   "cell_type": "code",
   "execution_count": 46,
   "id": "c686a64b",
   "metadata": {},
   "outputs": [],
   "source": [
    "weight = weight + 1"
   ]
  },
  {
   "cell_type": "code",
   "execution_count": 47,
   "id": "034140ab",
   "metadata": {},
   "outputs": [
    {
     "name": "stdout",
     "output_type": "stream",
     "text": [
      "152\n"
     ]
    }
   ],
   "source": [
    "print(weight)"
   ]
  },
  {
   "cell_type": "code",
   "execution_count": 48,
   "id": "0eb0be48",
   "metadata": {},
   "outputs": [
    {
     "ename": "TypeError",
     "evalue": "'weight' is an invalid keyword argument for print()",
     "output_type": "error",
     "traceback": [
      "\u001b[1;31m---------------------------------------------------------------------------\u001b[0m",
      "\u001b[1;31mTypeError\u001b[0m                                 Traceback (most recent call last)",
      "Cell \u001b[1;32mIn[48], line 1\u001b[0m\n\u001b[1;32m----> 1\u001b[0m \u001b[38;5;28mprint\u001b[39m(weight \u001b[38;5;241m=\u001b[39m weight \u001b[38;5;241m+\u001b[39m \u001b[38;5;241m1\u001b[39m)\n",
      "\u001b[1;31mTypeError\u001b[0m: 'weight' is an invalid keyword argument for print()"
     ]
    }
   ],
   "source": [
    "print(weight = weight + 1)"
   ]
  },
  {
   "cell_type": "code",
   "execution_count": 49,
   "id": "955d8020",
   "metadata": {},
   "outputs": [
    {
     "data": {
      "text/plain": [
       "18"
      ]
     },
     "execution_count": 49,
     "metadata": {},
     "output_type": "execute_result"
    }
   ],
   "source": [
    "age"
   ]
  },
  {
   "cell_type": "code",
   "execution_count": 50,
   "id": "85ac21c0",
   "metadata": {},
   "outputs": [],
   "source": [
    "age+=1"
   ]
  },
  {
   "cell_type": "code",
   "execution_count": 51,
   "id": "1d59f5e3",
   "metadata": {},
   "outputs": [
    {
     "data": {
      "text/plain": [
       "19"
      ]
     },
     "execution_count": 51,
     "metadata": {},
     "output_type": "execute_result"
    }
   ],
   "source": [
    "age"
   ]
  },
  {
   "cell_type": "code",
   "execution_count": 52,
   "id": "d53532c1",
   "metadata": {},
   "outputs": [
    {
     "data": {
      "text/plain": [
       "152"
      ]
     },
     "execution_count": 52,
     "metadata": {},
     "output_type": "execute_result"
    }
   ],
   "source": [
    "weight"
   ]
  },
  {
   "cell_type": "code",
   "execution_count": 53,
   "id": "3f5e4d0d",
   "metadata": {},
   "outputs": [],
   "source": [
    "weight+=1"
   ]
  },
  {
   "cell_type": "code",
   "execution_count": 54,
   "id": "ce0a4ccc",
   "metadata": {},
   "outputs": [
    {
     "data": {
      "text/plain": [
       "153"
      ]
     },
     "execution_count": 54,
     "metadata": {},
     "output_type": "execute_result"
    }
   ],
   "source": [
    "weight"
   ]
  },
  {
   "cell_type": "code",
   "execution_count": 55,
   "id": "0863ef75",
   "metadata": {},
   "outputs": [],
   "source": [
    "age_plus_weight = age + weight"
   ]
  },
  {
   "cell_type": "code",
   "execution_count": 56,
   "id": "900239b0",
   "metadata": {},
   "outputs": [
    {
     "data": {
      "text/plain": [
       "172"
      ]
     },
     "execution_count": 56,
     "metadata": {},
     "output_type": "execute_result"
    }
   ],
   "source": [
    "age_plus_weight"
   ]
  },
  {
   "cell_type": "code",
   "execution_count": 57,
   "id": "5b13e87c",
   "metadata": {},
   "outputs": [
    {
     "data": {
      "text/plain": [
       "'153kg'"
      ]
     },
     "execution_count": 57,
     "metadata": {},
     "output_type": "execute_result"
    }
   ],
   "source": [
    "str(weight) + \"kg\""
   ]
  },
  {
   "cell_type": "markdown",
   "id": "683957e8",
   "metadata": {},
   "source": [
    "## Math Expressions"
   ]
  },
  {
   "cell_type": "code",
   "execution_count": 59,
   "id": "b5093244",
   "metadata": {},
   "outputs": [
    {
     "data": {
      "text/plain": [
       "15"
      ]
     },
     "execution_count": 59,
     "metadata": {},
     "output_type": "execute_result"
    }
   ],
   "source": [
    "5*3"
   ]
  },
  {
   "cell_type": "code",
   "execution_count": 61,
   "id": "d8aa2548",
   "metadata": {},
   "outputs": [
    {
     "data": {
      "text/plain": [
       "3.25"
      ]
     },
     "execution_count": 61,
     "metadata": {},
     "output_type": "execute_result"
    }
   ],
   "source": [
    "6.5/2 # simple value"
   ]
  },
  {
   "cell_type": "code",
   "execution_count": 62,
   "id": "17940a19",
   "metadata": {},
   "outputs": [
    {
     "data": {
      "text/plain": [
       "3.0"
      ]
     },
     "execution_count": 62,
     "metadata": {},
     "output_type": "execute_result"
    }
   ],
   "source": [
    "6.5//2"
   ]
  },
  {
   "cell_type": "code",
   "execution_count": 64,
   "id": "28159540",
   "metadata": {},
   "outputs": [
    {
     "data": {
      "text/plain": [
       "3"
      ]
     },
     "execution_count": 64,
     "metadata": {},
     "output_type": "execute_result"
    }
   ],
   "source": [
    "int(7.2//2)"
   ]
  },
  {
   "cell_type": "code",
   "execution_count": 78,
   "id": "26a64d89",
   "metadata": {},
   "outputs": [
    {
     "data": {
      "text/plain": [
       "4.0"
      ]
     },
     "execution_count": 78,
     "metadata": {},
     "output_type": "execute_result"
    }
   ],
   "source": [
    "-(-7.2//2)"
   ]
  },
  {
   "cell_type": "code",
   "execution_count": 63,
   "id": "1df20d2d",
   "metadata": {},
   "outputs": [
    {
     "data": {
      "text/plain": [
       "9"
      ]
     },
     "execution_count": 63,
     "metadata": {},
     "output_type": "execute_result"
    }
   ],
   "source": [
    "3**2"
   ]
  },
  {
   "cell_type": "markdown",
   "id": "7443e8b6",
   "metadata": {},
   "source": [
    "## Variable Names Legal and Illegal"
   ]
  },
  {
   "cell_type": "code",
   "execution_count": 65,
   "id": "30dbe31b",
   "metadata": {},
   "outputs": [],
   "source": [
    "yes = True"
   ]
  },
  {
   "cell_type": "code",
   "execution_count": 66,
   "id": "446b6aee",
   "metadata": {},
   "outputs": [
    {
     "data": {
      "text/plain": [
       "True"
      ]
     },
     "execution_count": 66,
     "metadata": {},
     "output_type": "execute_result"
    }
   ],
   "source": [
    "yes"
   ]
  },
  {
   "cell_type": "code",
   "execution_count": 67,
   "id": "af721ec6",
   "metadata": {},
   "outputs": [
    {
     "ename": "SyntaxError",
     "evalue": "cannot assign to True (3517257450.py, line 1)",
     "output_type": "error",
     "traceback": [
      "\u001b[1;36m  Cell \u001b[1;32mIn[67], line 1\u001b[1;36m\u001b[0m\n\u001b[1;33m    True = \"yes\"\u001b[0m\n\u001b[1;37m    ^\u001b[0m\n\u001b[1;31mSyntaxError\u001b[0m\u001b[1;31m:\u001b[0m cannot assign to True\n"
     ]
    }
   ],
   "source": [
    "True = \"yes\""
   ]
  },
  {
   "cell_type": "markdown",
   "id": "0e74afe3",
   "metadata": {},
   "source": [
    "## 5 Math expressions: Unfamiliar operators"
   ]
  },
  {
   "cell_type": "code",
   "execution_count": 68,
   "id": "8587bf5e",
   "metadata": {},
   "outputs": [
    {
     "data": {
      "text/plain": [
       "1"
      ]
     },
     "execution_count": 68,
     "metadata": {},
     "output_type": "execute_result"
    }
   ],
   "source": [
    "10 % 3"
   ]
  },
  {
   "cell_type": "code",
   "execution_count": 69,
   "id": "e7e36617",
   "metadata": {},
   "outputs": [
    {
     "data": {
      "text/plain": [
       "19"
      ]
     },
     "execution_count": 69,
     "metadata": {},
     "output_type": "execute_result"
    }
   ],
   "source": [
    "age"
   ]
  },
  {
   "cell_type": "code",
   "execution_count": 70,
   "id": "787f9265",
   "metadata": {},
   "outputs": [],
   "source": [
    "age = age + 1"
   ]
  },
  {
   "cell_type": "code",
   "execution_count": 71,
   "id": "f81bf905",
   "metadata": {},
   "outputs": [
    {
     "data": {
      "text/plain": [
       "20"
      ]
     },
     "execution_count": 71,
     "metadata": {},
     "output_type": "execute_result"
    }
   ],
   "source": [
    "age"
   ]
  },
  {
   "cell_type": "code",
   "execution_count": 72,
   "id": "2bb288ad",
   "metadata": {},
   "outputs": [],
   "source": [
    "age+=3"
   ]
  },
  {
   "cell_type": "code",
   "execution_count": 73,
   "id": "91109154",
   "metadata": {},
   "outputs": [
    {
     "data": {
      "text/plain": [
       "23"
      ]
     },
     "execution_count": 73,
     "metadata": {},
     "output_type": "execute_result"
    }
   ],
   "source": [
    "age"
   ]
  },
  {
   "cell_type": "code",
   "execution_count": 74,
   "id": "028223fc",
   "metadata": {},
   "outputs": [],
   "source": [
    "age -=2"
   ]
  },
  {
   "cell_type": "code",
   "execution_count": 75,
   "id": "3608e7e6",
   "metadata": {},
   "outputs": [
    {
     "data": {
      "text/plain": [
       "21"
      ]
     },
     "execution_count": 75,
     "metadata": {},
     "output_type": "execute_result"
    }
   ],
   "source": [
    "age"
   ]
  },
  {
   "cell_type": "code",
   "execution_count": 76,
   "id": "4cbddaf6",
   "metadata": {},
   "outputs": [],
   "source": [
    "age *= 3"
   ]
  },
  {
   "cell_type": "code",
   "execution_count": 77,
   "id": "466bc823",
   "metadata": {},
   "outputs": [
    {
     "data": {
      "text/plain": [
       "63"
      ]
     },
     "execution_count": 77,
     "metadata": {},
     "output_type": "execute_result"
    }
   ],
   "source": [
    "age"
   ]
  },
  {
   "cell_type": "markdown",
   "id": "decdae16",
   "metadata": {},
   "source": [
    "## 6 Math expressions: Eliminating ambiguity\n",
    "\n",
    "BODMAS"
   ]
  },
  {
   "cell_type": "code",
   "execution_count": 79,
   "id": "a5eac559",
   "metadata": {},
   "outputs": [
    {
     "data": {
      "text/plain": [
       "5"
      ]
     },
     "execution_count": 79,
     "metadata": {},
     "output_type": "execute_result"
    }
   ],
   "source": [
    "1 +2 +2"
   ]
  },
  {
   "cell_type": "code",
   "execution_count": 80,
   "id": "7edfe647",
   "metadata": {},
   "outputs": [
    {
     "data": {
      "text/plain": [
       "5"
      ]
     },
     "execution_count": 80,
     "metadata": {},
     "output_type": "execute_result"
    }
   ],
   "source": [
    "1 +2 *2"
   ]
  },
  {
   "cell_type": "code",
   "execution_count": 81,
   "id": "3e8601b3",
   "metadata": {},
   "outputs": [
    {
     "data": {
      "text/plain": [
       "0"
      ]
     },
     "execution_count": 81,
     "metadata": {},
     "output_type": "execute_result"
    }
   ],
   "source": [
    "1 + (3 - 4)"
   ]
  },
  {
   "cell_type": "markdown",
   "id": "3453c5e1",
   "metadata": {},
   "source": [
    "= ((2 * 4) *4) + 2\n",
    "\n",
    "= (8 * 4) + 2\n",
    "\n",
    "= 32 + 2\n",
    "\n",
    "= 34"
   ]
  },
  {
   "cell_type": "code",
   "execution_count": 82,
   "id": "d12546d0",
   "metadata": {},
   "outputs": [
    {
     "data": {
      "text/plain": [
       "34"
      ]
     },
     "execution_count": 82,
     "metadata": {},
     "output_type": "execute_result"
    }
   ],
   "source": [
    "((2 * 4) *4) + 2"
   ]
  },
  {
   "cell_type": "markdown",
   "id": "9ff26eff",
   "metadata": {},
   "source": [
    "= (2 * 4) * (4 + 2)\n",
    "\n",
    "= 8 * 8\n",
    "\n",
    "= 48"
   ]
  },
  {
   "cell_type": "code",
   "execution_count": 83,
   "id": "ee3f089d",
   "metadata": {},
   "outputs": [
    {
     "data": {
      "text/plain": [
       "48"
      ]
     },
     "execution_count": 83,
     "metadata": {},
     "output_type": "execute_result"
    }
   ],
   "source": [
    "(2 * 4) * (4 + 2)"
   ]
  },
  {
   "cell_type": "code",
   "execution_count": null,
   "id": "3bf5e6b1",
   "metadata": {},
   "outputs": [],
   "source": []
  }
 ],
 "metadata": {
  "kernelspec": {
   "display_name": "Python 3 (ipykernel)",
   "language": "python",
   "name": "python3"
  },
  "language_info": {
   "codemirror_mode": {
    "name": "ipython",
    "version": 3
   },
   "file_extension": ".py",
   "mimetype": "text/x-python",
   "name": "python",
   "nbconvert_exporter": "python",
   "pygments_lexer": "ipython3",
   "version": "3.11.5"
  }
 },
 "nbformat": 4,
 "nbformat_minor": 5
}
