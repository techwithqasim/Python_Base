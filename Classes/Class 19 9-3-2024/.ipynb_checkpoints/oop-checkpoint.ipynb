{
 "cells": [
  {
   "cell_type": "code",
   "execution_count": 29,
   "id": "905f3e44",
   "metadata": {},
   "outputs": [],
   "source": [
    "class Teacher():\n",
    "    #class variable:\n",
    "    counter = 0\n",
    "    \n",
    "    #constructor\n",
    "    def __init__(self, teach_name, teach_id):\n",
    "        self.teach_name = teach_name\n",
    "        self.teach_id = teach_id\n",
    "        self.institue = \"SMIT\"\n",
    "        \n",
    "        Teacher.counter+=1 # increment in class variable\n",
    "     \n",
    "    #methods\n",
    "    def teaching(self, subject):\n",
    "        print(f\"{self.teach_name} is teaching {subject}\")\n",
    "        \n",
    "    \n",
    "    def skill(self, teach_skill):\n",
    "        print(f\"{self.teach_name} skill is {teach_skill}\")\n",
    "        \n",
    "     "
   ]
  },
  {
   "cell_type": "code",
   "execution_count": 30,
   "id": "66bef70e",
   "metadata": {},
   "outputs": [],
   "source": [
    "obj = Teacher(\"ahsan\", 1)\n"
   ]
  },
  {
   "cell_type": "code",
   "execution_count": 33,
   "id": "6b744391",
   "metadata": {},
   "outputs": [
    {
     "name": "stdout",
     "output_type": "stream",
     "text": [
      "1\n",
      "1\n",
      "ahsan\n",
      "1\n",
      "SMIT\n",
      "ahsan is teaching python\n",
      "ahsan skill is Data enginnering\n",
      "1\n"
     ]
    }
   ],
   "source": [
    "#class varibale\n",
    "print(Teacher.counter)\n",
    "print(obj.counter)\n",
    "\n",
    "# contructor variable\n",
    "print(obj.teach_name)\n",
    "print(obj.teach_id)\n",
    "print(obj.institue)\n",
    "\n",
    "#Method calling\n",
    "obj.teaching(\"python\")\n",
    "obj.skill(\"Data enginnering\")"
   ]
  },
  {
   "cell_type": "code",
   "execution_count": 78,
   "id": "aca44120",
   "metadata": {},
   "outputs": [],
   "source": [
    "class Teacher():\n",
    "    #class variable:\n",
    "    teacher_id = 0  # class varible\n",
    "    contact_no = '34324324' # static calss variable\n",
    "    \n",
    "    #constructor\n",
    "    def __init__(self, teach_name):\n",
    "        self.teach_name = teach_name\n",
    "        self.institue = \"SMIT\"\n",
    "        Teacher.teacher_id += 1 \n",
    "    \n",
    "    @staticmethod # in static method we does not required a self and object initialization it is within a class\n",
    "    def attendance_percentage(present, total):\n",
    "        return (present*100)/total\n",
    "     \n",
    "    #methods\n",
    "    def teaching(self, subject):\n",
    "        print(f\"{self.teach_name} is teaching {subject}\")\n",
    "        \n",
    "    \n",
    "    def skill(self, teach_skill):\n",
    "        print(f\"{self.teach_name} skill is {teach_skill}\")\n",
    "        \n",
    "     "
   ]
  },
  {
   "cell_type": "code",
   "execution_count": 79,
   "id": "8ee7cb52",
   "metadata": {},
   "outputs": [],
   "source": [
    "class_percentage = Teacher.attendance_percentage(50,100)"
   ]
  },
  {
   "cell_type": "code",
   "execution_count": 80,
   "id": "52ee372e",
   "metadata": {},
   "outputs": [
    {
     "data": {
      "text/plain": [
       "50.0"
      ]
     },
     "execution_count": 80,
     "metadata": {},
     "output_type": "execute_result"
    }
   ],
   "source": [
    "class_percentage"
   ]
  },
  {
   "cell_type": "code",
   "execution_count": 81,
   "id": "139dfbd4",
   "metadata": {},
   "outputs": [],
   "source": [
    " obj1 = Teacher(\"Qasim\")"
   ]
  },
  {
   "cell_type": "code",
   "execution_count": 82,
   "id": "29eacf41",
   "metadata": {},
   "outputs": [
    {
     "name": "stdout",
     "output_type": "stream",
     "text": [
      "1\n",
      "1\n",
      "Qasim\n",
      "SMIT\n",
      "Qasim is teaching python\n",
      "Qasim skill is Data enginnering\n"
     ]
    }
   ],
   "source": [
    "#class varibale\n",
    "print(Teacher.teacher_id)\n",
    "print(obj1.teacher_id)\n",
    "\n",
    "# contructor variable\n",
    "print(obj1.teach_name)\n",
    "\n",
    "print(obj1.institue)\n",
    "\n",
    "#Method calling\n",
    "obj1.teaching(\"python\")\n",
    "obj1.skill(\"Data enginnering\")"
   ]
  },
  {
   "cell_type": "code",
   "execution_count": 83,
   "id": "288e94b7",
   "metadata": {},
   "outputs": [],
   "source": [
    " obj2 = Teacher(\"ahsan\")"
   ]
  },
  {
   "cell_type": "code",
   "execution_count": 84,
   "id": "0ca3ae62",
   "metadata": {},
   "outputs": [
    {
     "name": "stdout",
     "output_type": "stream",
     "text": [
      "2\n",
      "2\n",
      "static class variable 34324324\n",
      "static class variable 34324324\n",
      "ahsan\n",
      "SMIT\n",
      "ahsan is teaching python\n",
      "ahsan skill is Data enginnering\n"
     ]
    }
   ],
   "source": [
    "print(Teacher.teacher_id)\n",
    "print(obj2.teacher_id)\n",
    "print(f\"static class variable {Teacher.contact_no}\")\n",
    "print(f\"static class variable {obj2.contact_no}\")\n",
    "\n",
    "# contructor variable\n",
    "print(obj2.teach_name)\n",
    "\n",
    "print(obj2.institue)\n",
    "\n",
    "#Method calling\n",
    "obj2.teaching(\"python\")\n",
    "obj2.skill(\"Data enginnering\")\n"
   ]
  },
  {
   "cell_type": "code",
   "execution_count": 55,
   "id": "a1e52c14",
   "metadata": {},
   "outputs": [
    {
     "data": {
      "text/plain": [
       "['contact_no', 'institue', 'skill', 'teach_name', 'teacher_id', 'teaching']"
      ]
     },
     "execution_count": 55,
     "metadata": {},
     "output_type": "execute_result"
    }
   ],
   "source": [
    "# [i for i in dir(obj1) if \"__\" not in i]"
   ]
  },
  {
   "cell_type": "code",
   "execution_count": 58,
   "id": "48dcb675",
   "metadata": {},
   "outputs": [
    {
     "data": {
      "text/plain": [
       "['__class__',\n",
       " '__delattr__',\n",
       " '__dict__',\n",
       " '__dir__',\n",
       " '__doc__',\n",
       " '__eq__',\n",
       " '__format__',\n",
       " '__ge__',\n",
       " '__getattribute__',\n",
       " '__getstate__',\n",
       " '__gt__',\n",
       " '__hash__',\n",
       " '__init__',\n",
       " '__init_subclass__',\n",
       " '__le__',\n",
       " '__lt__',\n",
       " '__module__',\n",
       " '__ne__',\n",
       " '__new__',\n",
       " '__reduce__',\n",
       " '__reduce_ex__',\n",
       " '__repr__',\n",
       " '__setattr__',\n",
       " '__sizeof__',\n",
       " '__str__',\n",
       " '__subclasshook__',\n",
       " '__weakref__',\n",
       " 'contact_no',\n",
       " 'institue',\n",
       " 'skill',\n",
       " 'teach_name',\n",
       " 'teacher_id',\n",
       " 'teaching']"
      ]
     },
     "execution_count": 58,
     "metadata": {},
     "output_type": "execute_result"
    }
   ],
   "source": [
    "# dir(obj1)"
   ]
  },
  {
   "cell_type": "markdown",
   "id": "b2230a85",
   "metadata": {},
   "source": [
    "## OOP(Object Oriented Programming)\n",
    "\n",
    "- Inheritance\n",
    "- Abstraction [ Class(abstract/blueprint) ) --> Class --> Object]\n",
    "- Polymorphism\n",
    "- Encapsulation"
   ]
  },
  {
   "cell_type": "code",
   "execution_count": 1,
   "id": "f3560991",
   "metadata": {},
   "outputs": [],
   "source": [
    "class Parents(): # what it has & what it can do\n",
    "    def __init__(self):\n",
    "        self.eye_color = \"Brown\"\n",
    "        self.hair_color = \"black\"\n",
    "\n",
    "    def speak(self, words):\n",
    "        print(f\"Parent method speak: {words}\")\n",
    "\n",
    "    def watching(sef, object_name):\n",
    "        print(f\"You are looking {object_name}!\")\n",
    "\n",
    "\n",
    "class Child(Parents):\n",
    "    pass"
   ]
  },
  {
   "cell_type": "code",
   "execution_count": 2,
   "id": "21092f4b",
   "metadata": {},
   "outputs": [],
   "source": [
    "parent = Parents()"
   ]
  },
  {
   "cell_type": "code",
   "execution_count": 3,
   "id": "8edb338c",
   "metadata": {},
   "outputs": [
    {
     "name": "stdout",
     "output_type": "stream",
     "text": [
      "Brown\n",
      "black\n",
      "Parent method speak: Go to SMIT\n",
      "None\n",
      "You are looking re:invent!\n",
      "None\n"
     ]
    }
   ],
   "source": [
    "# parent class\n",
    "print(parent.eye_color)\n",
    "print(parent.hair_color)\n",
    "print(parent.speak(\"Go to SMIT\"))\n",
    "print(parent.watching(\"re:invent\"))"
   ]
  },
  {
   "cell_type": "code",
   "execution_count": 4,
   "id": "7fef6369",
   "metadata": {},
   "outputs": [
    {
     "name": "stdout",
     "output_type": "stream",
     "text": [
      "Brown\n",
      "black\n",
      "Parent method speak: Go to SMIT\n",
      "You are looking re:invent!\n"
     ]
    }
   ],
   "source": [
    "# parent class\n",
    "print(parent.eye_color)\n",
    "print(parent.hair_color)\n",
    "parent.speak(\"Go to SMIT\")\n",
    "parent.watching(\"re:invent\")"
   ]
  },
  {
   "cell_type": "code",
   "execution_count": 14,
   "id": "7aaaf941",
   "metadata": {},
   "outputs": [],
   "source": [
    "child = Child() # Inherited from Parents"
   ]
  },
  {
   "cell_type": "code",
   "execution_count": 15,
   "id": "e33f2756",
   "metadata": {},
   "outputs": [
    {
     "name": "stdout",
     "output_type": "stream",
     "text": [
      "Brown\n",
      "black\n",
      "Parent method speak: Go to SMIT\n",
      "You are looking re:invent!\n"
     ]
    }
   ],
   "source": [
    "# child class\n",
    "print(child.eye_color)\n",
    "print(child.hair_color)\n",
    "child.speak(\"Go to SMIT\")\n",
    "child.watching(\"re:invent\")"
   ]
  },
  {
   "cell_type": "code",
   "execution_count": 16,
   "id": "5159f1f3",
   "metadata": {},
   "outputs": [],
   "source": [
    "class Parents(): # what it has & what it can do\n",
    "    def __init__(self):\n",
    "        self.eye_color = \"Brown\"\n",
    "        self.hair_color = \"black\"\n",
    "\n",
    "    def speak(self, words):\n",
    "        print(f\"Parent method speak: {words}\")\n",
    "\n",
    "    def watching(sef, object_name):\n",
    "        print(f\"You are looking {object_name}!\")\n",
    "\n",
    "\n",
    "class Child(Parents):\n",
    "    def drive(self, drive):\n",
    "        print(f\"Child can Drive {drive}\")"
   ]
  },
  {
   "cell_type": "code",
   "execution_count": 18,
   "id": "7664579d",
   "metadata": {},
   "outputs": [],
   "source": [
    "child = Child()"
   ]
  },
  {
   "cell_type": "code",
   "execution_count": 20,
   "id": "68120672",
   "metadata": {},
   "outputs": [
    {
     "name": "stdout",
     "output_type": "stream",
     "text": [
      "Brown\n",
      "black\n",
      "Parent method speak: Go to SMIT\n",
      "You are looking re:invent!\n",
      "Child can Drive Mehran\n"
     ]
    }
   ],
   "source": [
    "# child class\n",
    "print(child.eye_color)\n",
    "print(child.hair_color)\n",
    "child.speak(\"Go to SMIT\")\n",
    "child.watching(\"re:invent\")\n",
    "child.drive(\"Mehran\")"
   ]
  },
  {
   "cell_type": "markdown",
   "id": "c5f95d65",
   "metadata": {},
   "source": [
    "## Example: 2"
   ]
  },
  {
   "cell_type": "code",
   "execution_count": 42,
   "id": "7f7e0935",
   "metadata": {},
   "outputs": [],
   "source": [
    "class Employee():\n",
    "    \n",
    "    def __init__(self, name, organization):\n",
    "        self.name = name\n",
    "        self.organization = organization\n",
    "    \n",
    "    def print_details(self):\n",
    "        print(f\"Employee name is {self.name} & organization is {self.organization}\")\n",
    "\n",
    "class Designer(Employee):\n",
    "    \n",
    "    def __init__(self, name, organization, title):\n",
    "        super().__init__(name, organization)\n",
    "        self.title = title\n",
    "\n",
    "class Developer(Employee):\n",
    "    def __init__(self, title, name, organization):\n",
    "        super().__init__(name, organization)\n",
    "        self.title = title\n",
    "        self.programming_skills = [\"python\"]"
   ]
  },
  {
   "cell_type": "code",
   "execution_count": 43,
   "id": "88f8cbf2",
   "metadata": {},
   "outputs": [],
   "source": [
    "designer = Designer(\"Mehmood\", \"SMIT\", \"Artist\")"
   ]
  },
  {
   "cell_type": "code",
   "execution_count": 46,
   "id": "1d07ab8d",
   "metadata": {},
   "outputs": [
    {
     "name": "stdout",
     "output_type": "stream",
     "text": [
      "Mehmood\n",
      "SMIT\n",
      "Artist\n",
      "Employee name is Mehmood & organization is SMIT\n"
     ]
    }
   ],
   "source": [
    "print(designer.name)\n",
    "print(designer.organization)\n",
    "print(designer.title)\n",
    "designer.print_details()"
   ]
  },
  {
   "cell_type": "code",
   "execution_count": 47,
   "id": "d46019be",
   "metadata": {},
   "outputs": [
    {
     "name": "stdout",
     "output_type": "stream",
     "text": [
      "object height 6 Feet\n",
      "object eye color blue\n",
      "Father Speaking function: Pakistan zinda bad\n"
     ]
    }
   ],
   "source": [
    "class Mother:\n",
    "    def __init__(self,name):\n",
    "        self.name = name\n",
    "        self.eye_color = \"blue\"\n",
    "    \n",
    "    def speaking(self, words):\n",
    "        return f\"Monther Speaking function: {words}\"\n",
    "\n",
    "class Father:\n",
    "    def __init__(self, name):\n",
    "        self.name = name\n",
    "        self.height = \"6 Feet\"\n",
    "\n",
    "    def speaking(self, words):\n",
    "        return f\"Father Speaking function: {words}\"\n",
    "\n",
    "class Child(Father, Mother):\n",
    "    def __init__(self, father_name, mother_name, child_name):\n",
    "        Father.__init__(self, father_name)\n",
    "        Mother.__init__(self, mother_name)\n",
    "        self.child_name = child_name\n",
    "\n",
    "qasim= Child(\"Hassan Khan\", \"Bakth Un Nissa\", \"Qasim Hassan\")\n",
    "\n",
    "print(f\"object height {qasim.height}\")\n",
    "print(f\"object eye color {qasim.eye_color}\")\n",
    "print(qasim.speaking(\"Pakistan zinda bad\"))"
   ]
  },
  {
   "cell_type": "code",
   "execution_count": null,
   "id": "bb9af9a0",
   "metadata": {},
   "outputs": [],
   "source": []
  }
 ],
 "metadata": {
  "kernelspec": {
   "display_name": "Python 3 (ipykernel)",
   "language": "python",
   "name": "python3"
  },
  "language_info": {
   "codemirror_mode": {
    "name": "ipython",
    "version": 3
   },
   "file_extension": ".py",
   "mimetype": "text/x-python",
   "name": "python",
   "nbconvert_exporter": "python",
   "pygments_lexer": "ipython3",
   "version": "3.11.5"
  }
 },
 "nbformat": 4,
 "nbformat_minor": 5
}
