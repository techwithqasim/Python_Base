{
 "cells": [
  {
   "cell_type": "code",
   "execution_count": 47,
   "id": "7562832f",
   "metadata": {},
   "outputs": [],
   "source": [
    "class Teacher():\n",
    "    \n",
    "    teacher_id = 0 # class variable\n",
    "    help_contact = '0300-7662354' #staticvariable\n",
    "    \n",
    "    #constructor\n",
    "    def __init__(self, teacher_name):\n",
    "        self.teacher_name = teacher_name\n",
    "        self.institue = \"SMIT\"\n",
    "        Teacher.teacher_id +=1 #increment in class varibale\n",
    "    \n",
    "    @staticmethod\n",
    "    def attendance_percentage(present, total):\n",
    "        return (present*100)/total\n",
    "    \n",
    "    #method1\n",
    "    def teaching(self, subject):\n",
    "        print(f\"{self.teacher_name} is teaching {subject}\")\n",
    "    \n",
    "    #method2\n",
    "    def skill(self, tech_skill):\n",
    "        print(f\"{self.teacher_name} skill is {tech_skill}\")"
   ]
  },
  {
   "cell_type": "code",
   "execution_count": 48,
   "id": "7d372b5e",
   "metadata": {},
   "outputs": [
    {
     "name": "stdout",
     "output_type": "stream",
     "text": [
      "0\n",
      "Static Variable or class variable: 0300-7662354\n",
      "precentage of present students is 90.0\n"
     ]
    }
   ],
   "source": [
    "# class varibale\n",
    "print(Teacher.teacher_id)\n",
    "class_precentage = Teacher.attendance_percentage(45, 50)\n",
    "print(f\"Static Variable or class variable: {Teacher.help_contact}\")\n",
    "print(f\"precentage of present students is {class_precentage}\")"
   ]
  },
  {
   "cell_type": "code",
   "execution_count": 49,
   "id": "45a42589",
   "metadata": {},
   "outputs": [],
   "source": [
    "obje1 = Teacher('Qasim') # object initialization/ instantiation"
   ]
  },
  {
   "cell_type": "code",
   "execution_count": 52,
   "id": "e24fa527",
   "metadata": {},
   "outputs": [
    {
     "data": {
      "text/plain": [
       "['__class__',\n",
       " '__delattr__',\n",
       " '__dict__',\n",
       " '__dir__',\n",
       " '__doc__',\n",
       " '__eq__',\n",
       " '__format__',\n",
       " '__ge__',\n",
       " '__getattribute__',\n",
       " '__getstate__',\n",
       " '__gt__',\n",
       " '__hash__',\n",
       " '__init__',\n",
       " '__init_subclass__',\n",
       " '__le__',\n",
       " '__lt__',\n",
       " '__module__',\n",
       " '__ne__',\n",
       " '__new__',\n",
       " '__reduce__',\n",
       " '__reduce_ex__',\n",
       " '__repr__',\n",
       " '__setattr__',\n",
       " '__sizeof__',\n",
       " '__str__',\n",
       " '__subclasshook__',\n",
       " '__weakref__',\n",
       " 'attendance_percentage',\n",
       " 'help_contact',\n",
       " 'institue',\n",
       " 'skill',\n",
       " 'teacher_id',\n",
       " 'teacher_name',\n",
       " 'teaching']"
      ]
     },
     "execution_count": 52,
     "metadata": {},
     "output_type": "execute_result"
    }
   ],
   "source": [
    "dir(obje1)"
   ]
  },
  {
   "cell_type": "code",
   "execution_count": 50,
   "id": "07533c0f",
   "metadata": {},
   "outputs": [
    {
     "data": {
      "text/plain": [
       "['attendance_percentage',\n",
       " 'help_contact',\n",
       " 'institue',\n",
       " 'skill',\n",
       " 'teacher_id',\n",
       " 'teacher_name',\n",
       " 'teaching']"
      ]
     },
     "execution_count": 50,
     "metadata": {},
     "output_type": "execute_result"
    }
   ],
   "source": [
    "[i for i in dir(obje1) if '__' not in i] "
   ]
  },
  {
   "cell_type": "code",
   "execution_count": 51,
   "id": "43bd7ce6",
   "metadata": {},
   "outputs": [
    {
     "name": "stdout",
     "output_type": "stream",
     "text": [
      "1\n",
      "Qasim\n",
      "SMIT\n",
      "Qasim is teaching Python Programming\n",
      "Qasim skill is Data Engineering\n"
     ]
    }
   ],
   "source": [
    "# constructor variables\n",
    "print(obje1.teacher_id)\n",
    "print(obje1.teacher_name)\n",
    "print(obje1.institue)\n",
    "\n",
    "# Methods Calling\n",
    "obje1.teaching(\"Python Programming\")\n",
    "obje1.skill(\"Data Engineering\")"
   ]
  },
  {
   "cell_type": "code",
   "execution_count": 39,
   "id": "7ecf82b1",
   "metadata": {},
   "outputs": [],
   "source": [
    "obje2 = Teacher('Mehmood')"
   ]
  },
  {
   "cell_type": "code",
   "execution_count": 26,
   "id": "e620ff45",
   "metadata": {},
   "outputs": [
    {
     "name": "stdout",
     "output_type": "stream",
     "text": [
      "2\n",
      "2\n"
     ]
    }
   ],
   "source": [
    "# class varibale\n",
    "print(Teacher.teacher_id)\n",
    "print(obje2.teacher_id)"
   ]
  },
  {
   "cell_type": "code",
   "execution_count": 45,
   "id": "c23e892d",
   "metadata": {},
   "outputs": [],
   "source": [
    "def attendance_percentage(present, total):\n",
    "    return (present*100)/total"
   ]
  },
  {
   "cell_type": "code",
   "execution_count": 46,
   "id": "93bf8b47",
   "metadata": {},
   "outputs": [
    {
     "data": {
      "text/plain": [
       "90.0"
      ]
     },
     "execution_count": 46,
     "metadata": {},
     "output_type": "execute_result"
    }
   ],
   "source": [
    "attendance_percentage(45, 50)"
   ]
  },
  {
   "cell_type": "markdown",
   "id": "8e5137bb",
   "metadata": {},
   "source": [
    "## OOP (Object Oriented Programming)\n",
    "\n",
    "- Inheritance\n",
    "- Abstraction [class(abstract/blueprint)--> class --> object]\n",
    "- Polymorphism\n",
    "- Encapsulation\n"
   ]
  },
  {
   "cell_type": "markdown",
   "id": "e9909dc6",
   "metadata": {},
   "source": [
    "#### Inhertance"
   ]
  },
  {
   "cell_type": "code",
   "execution_count": 61,
   "id": "fa652419",
   "metadata": {},
   "outputs": [],
   "source": [
    "class Parents(): # what it has & what it can do\n",
    "    \n",
    "    def __init__(self):\n",
    "        self.eye_color = \"Brown\"\n",
    "        self.hair_color = \"black\"\n",
    "\n",
    "    def speak(self, words):\n",
    "        print(f\"Parent method speak: {words}\")\n",
    "\n",
    "    def watching(sef, object_name):\n",
    "        print(f\"You are looking {object_name}!\")\n",
    "\n",
    "class Child(Parents):\n",
    "    \n",
    "    def drive(self, vehicle):\n",
    "        print(f\"Child can drive Vehicle: {vehicle}\")"
   ]
  },
  {
   "cell_type": "code",
   "execution_count": 62,
   "id": "e073e4c4",
   "metadata": {},
   "outputs": [],
   "source": [
    "parent = Parents()"
   ]
  },
  {
   "cell_type": "code",
   "execution_count": 63,
   "id": "4df08dc0",
   "metadata": {},
   "outputs": [
    {
     "name": "stdout",
     "output_type": "stream",
     "text": [
      "Brown\n",
      "black\n",
      "Parent method speak: Got to SMIT\n",
      "You are looking re:invernt!\n"
     ]
    }
   ],
   "source": [
    "# parent class\n",
    "print(parent.eye_color)\n",
    "print(parent.hair_color)\n",
    "parent.speak(\"Got to SMIT\")\n",
    "parent.watching('re:invernt')"
   ]
  },
  {
   "cell_type": "code",
   "execution_count": 64,
   "id": "2dafbca7",
   "metadata": {},
   "outputs": [],
   "source": [
    "chlid = Child()"
   ]
  },
  {
   "cell_type": "code",
   "execution_count": 65,
   "id": "8156e4d5",
   "metadata": {},
   "outputs": [
    {
     "name": "stdout",
     "output_type": "stream",
     "text": [
      "Brown\n",
      "black\n",
      "Parent method speak: Got to SMIT\n",
      "You are looking re:invernt!\n",
      "Child can drive Vehicle: Mehran\n"
     ]
    }
   ],
   "source": [
    "# parent class\n",
    "print(chlid.eye_color)\n",
    "print(chlid.hair_color)\n",
    "chlid.speak(\"Got to SMIT\")\n",
    "chlid.watching('re:invernt')\n",
    "chlid.drive(\"Mehran\")"
   ]
  },
  {
   "cell_type": "markdown",
   "id": "73440124",
   "metadata": {},
   "source": [
    "## Example: 2\n",
    "\n",
    "single parent class to multiple chlid classes"
   ]
  },
  {
   "cell_type": "code",
   "execution_count": 68,
   "id": "0c001a4f",
   "metadata": {},
   "outputs": [],
   "source": [
    "class Employee():\n",
    "    \n",
    "    def __init__(self, name, organization):\n",
    "        self.name = name\n",
    "        self.organization = organization\n",
    "    \n",
    "    def print_details(self):\n",
    "        print(f\"Employe name is {self.name} & organziation is {self.organization}\")\n",
    "\n",
    "class Desginer(Employee):\n",
    "    def __init__(self, name, organization, title):\n",
    "        super().__init__(name, organization)\n",
    "        self.title = title\n",
    "\n",
    "class Developer(Employee):\n",
    "    def __init__(self, title, name, organization):\n",
    "        super().__init__(name, organization)\n",
    "        self.title = title\n",
    "        self.programming_skills = [\"python\"]"
   ]
  },
  {
   "cell_type": "code",
   "execution_count": 69,
   "id": "d9925cce",
   "metadata": {},
   "outputs": [],
   "source": [
    "desinger = Desginer('Mehmood', 'SMIT', 'Artist')"
   ]
  },
  {
   "cell_type": "code",
   "execution_count": 71,
   "id": "20b0252a",
   "metadata": {},
   "outputs": [
    {
     "name": "stdout",
     "output_type": "stream",
     "text": [
      "Mehmood\n",
      "SMIT\n",
      "Artist\n",
      "Employe name is Mehmood & organziation is SMIT\n"
     ]
    }
   ],
   "source": [
    "print(desinger.name)\n",
    "print(desinger.organization)\n",
    "print(desinger.title)\n",
    "desinger.print_details()"
   ]
  },
  {
   "cell_type": "code",
   "execution_count": 72,
   "id": "0a73ffb4",
   "metadata": {},
   "outputs": [],
   "source": [
    "developer = Developer('Data Engineer', 'Qasim', 'RC')"
   ]
  },
  {
   "cell_type": "code",
   "execution_count": 73,
   "id": "9cc9d749",
   "metadata": {},
   "outputs": [
    {
     "name": "stdout",
     "output_type": "stream",
     "text": [
      "Qasim\n",
      "RC\n",
      "Data Engineer\n",
      "['python']\n",
      "Employe name is Qasim & organziation is RC\n"
     ]
    }
   ],
   "source": [
    "print(developer.name)\n",
    "print(developer.organization)\n",
    "print(developer.title)\n",
    "print(developer.programming_skills)\n",
    "developer.print_details()"
   ]
  },
  {
   "cell_type": "code",
   "execution_count": 75,
   "id": "de6b03d8",
   "metadata": {},
   "outputs": [
    {
     "name": "stdout",
     "output_type": "stream",
     "text": [
      "object height 6 Feet\n",
      "object eye color blue\n",
      "Father Speaking function: Pakistan zinda bad\n"
     ]
    }
   ],
   "source": [
    "class Mother:\n",
    "    def __init__(self,name):\n",
    "        self.name = name\n",
    "        self.eye_color = \"blue\"\n",
    "    \n",
    "    def speaking(self, words):\n",
    "        return f\"Monther Speaking function: {words}\"\n",
    "\n",
    "class Father:\n",
    "    def __init__(self, name):\n",
    "        self.name = name\n",
    "        self.height = \"6 Feet\"\n",
    "\n",
    "    def speaking(self, words):\n",
    "        return f\"Father Speaking function: {words}\"\n",
    "\n",
    "class Child(Father, Mother):\n",
    "    \n",
    "    def __init__(self, father_name, mother_name, child_name):\n",
    "        Father.__init__(self, father_name)\n",
    "        Mother.__init__(self, mother_name)\n",
    "        self.child_name = child_name\n",
    "        \n",
    "\n",
    "qasim= Child(\"Hassan Khan\", \"Bakth Un Nissa\",\"Qasim Hassan\")\n",
    "\n",
    "print(f\"object height {qasim.height}\")\n",
    "print(f\"object eye color {qasim.eye_color}\")\n",
    "print(qasim.speaking(\"Pakistan zinda bad\"))"
   ]
  },
  {
   "cell_type": "code",
   "execution_count": null,
   "id": "bee4b863",
   "metadata": {},
   "outputs": [],
   "source": []
  }
 ],
 "metadata": {
  "kernelspec": {
   "display_name": "Python 3 (ipykernel)",
   "language": "python",
   "name": "python3"
  },
  "language_info": {
   "codemirror_mode": {
    "name": "ipython",
    "version": 3
   },
   "file_extension": ".py",
   "mimetype": "text/x-python",
   "name": "python",
   "nbconvert_exporter": "python",
   "pygments_lexer": "ipython3",
   "version": "3.11.5"
  }
 },
 "nbformat": 4,
 "nbformat_minor": 5
}
