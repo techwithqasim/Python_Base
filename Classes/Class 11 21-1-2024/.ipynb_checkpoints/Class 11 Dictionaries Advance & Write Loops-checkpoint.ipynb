{
 "cells": [
  {
   "cell_type": "code",
   "execution_count": null,
   "id": "aefcd97f",
   "metadata": {},
   "outputs": [],
   "source": [
    "(key: value)\n",
    "{'first_name': 'Qasim',\n",
    " 'last_name': 'Hassan'}\n",
    "\n",
    ".keys()\n",
    ".values()\n",
    ".items() --> tuple ('last_name': 'Hassan') key , value\n",
    "{}."
   ]
  },
  {
   "cell_type": "code",
   "execution_count": 1,
   "id": "cc9a4bd3",
   "metadata": {},
   "outputs": [],
   "source": [
    "data = {'first_name': 'Qasim',\n",
    "        'last_name': 'Hassan'}"
   ]
  },
  {
   "cell_type": "code",
   "execution_count": 2,
   "id": "0238ead2",
   "metadata": {},
   "outputs": [],
   "source": [
    "data.update({'age': 22})"
   ]
  },
  {
   "cell_type": "code",
   "execution_count": 3,
   "id": "3fde401d",
   "metadata": {},
   "outputs": [
    {
     "data": {
      "text/plain": [
       "{'first_name': 'Qasim', 'last_name': 'Hassan', 'age': 22}"
      ]
     },
     "execution_count": 3,
     "metadata": {},
     "output_type": "execute_result"
    }
   ],
   "source": [
    "data"
   ]
  },
  {
   "cell_type": "code",
   "execution_count": 4,
   "id": "f11d11e2",
   "metadata": {},
   "outputs": [],
   "source": [
    "data.update({'last_name': 'Iqbal'})"
   ]
  },
  {
   "cell_type": "code",
   "execution_count": 5,
   "id": "ff838049",
   "metadata": {},
   "outputs": [
    {
     "data": {
      "text/plain": [
       "{'first_name': 'Qasim', 'last_name': 'Iqbal', 'age': 22}"
      ]
     },
     "execution_count": 5,
     "metadata": {},
     "output_type": "execute_result"
    }
   ],
   "source": [
    "data"
   ]
  },
  {
   "cell_type": "code",
   "execution_count": 6,
   "id": "2ffdc739",
   "metadata": {},
   "outputs": [],
   "source": [
    "customers = [\n",
    "    {\"customer id\": 0,\n",
    "     \"first name\":\"John\",\n",
    "     \"last name\": \"Ogden\",\n",
    "     \"address\": \"301 Arbor Rd.\",\n",
    "    },\n",
    "    {\"customer id\": 2,\n",
    "     \"first name\":\"Jill\",\n",
    "     \"last name\": \"Somers\",\n",
    "     \"address\": \"3 Main St.\",\n",
    "    },\n",
    "]"
   ]
  },
  {
   "cell_type": "code",
   "execution_count": 7,
   "id": "6fa64172",
   "metadata": {},
   "outputs": [
    {
     "data": {
      "text/plain": [
       "[{'customer id': 0,\n",
       "  'first name': 'John',\n",
       "  'last name': 'Ogden',\n",
       "  'address': '301 Arbor Rd.'},\n",
       " {'customer id': 2,\n",
       "  'first name': 'Jill',\n",
       "  'last name': 'Somers',\n",
       "  'address': '3 Main St.'}]"
      ]
     },
     "execution_count": 7,
     "metadata": {},
     "output_type": "execute_result"
    }
   ],
   "source": [
    "customers"
   ]
  },
  {
   "cell_type": "code",
   "execution_count": 8,
   "id": "c401c889",
   "metadata": {},
   "outputs": [
    {
     "data": {
      "text/plain": [
       "{'customer id': 0,\n",
       " 'first name': 'John',\n",
       " 'last name': 'Ogden',\n",
       " 'address': '301 Arbor Rd.'}"
      ]
     },
     "execution_count": 8,
     "metadata": {},
     "output_type": "execute_result"
    }
   ],
   "source": [
    "customers[0]"
   ]
  },
  {
   "cell_type": "code",
   "execution_count": 9,
   "id": "e5f9e836",
   "metadata": {},
   "outputs": [
    {
     "data": {
      "text/plain": [
       "{'customer id': 2,\n",
       " 'first name': 'Jill',\n",
       " 'last name': 'Somers',\n",
       " 'address': '3 Main St.'}"
      ]
     },
     "execution_count": 9,
     "metadata": {},
     "output_type": "execute_result"
    }
   ],
   "source": [
    "customers[1]"
   ]
  },
  {
   "cell_type": "code",
   "execution_count": 10,
   "id": "13b82a21",
   "metadata": {},
   "outputs": [
    {
     "ename": "KeyError",
     "evalue": "0",
     "output_type": "error",
     "traceback": [
      "\u001b[1;31m---------------------------------------------------------------------------\u001b[0m",
      "\u001b[1;31mKeyError\u001b[0m                                  Traceback (most recent call last)",
      "Cell \u001b[1;32mIn[10], line 1\u001b[0m\n\u001b[1;32m----> 1\u001b[0m customers[\u001b[38;5;241m1\u001b[39m][\u001b[38;5;241m0\u001b[39m]\n",
      "\u001b[1;31mKeyError\u001b[0m: 0"
     ]
    }
   ],
   "source": [
    "customers[1][0]"
   ]
  },
  {
   "cell_type": "code",
   "execution_count": 11,
   "id": "9d413716",
   "metadata": {},
   "outputs": [
    {
     "data": {
      "text/plain": [
       "2"
      ]
     },
     "execution_count": 11,
     "metadata": {},
     "output_type": "execute_result"
    }
   ],
   "source": [
    "customers[1]['customer id']"
   ]
  },
  {
   "cell_type": "code",
   "execution_count": 12,
   "id": "ae83205a",
   "metadata": {},
   "outputs": [],
   "source": [
    "new_customer = {\"customer id\": 1,\n",
    "                \"first name\":\"Ann\",\n",
    "                \"last name\": \"Sattermyer\",\n",
    "                \"address\": \"PO Box 1145\",\n",
    "               }"
   ]
  },
  {
   "cell_type": "code",
   "execution_count": 13,
   "id": "f5ca442b",
   "metadata": {},
   "outputs": [
    {
     "data": {
      "text/plain": [
       "{'customer id': 1,\n",
       " 'first name': 'Ann',\n",
       " 'last name': 'Sattermyer',\n",
       " 'address': 'PO Box 1145'}"
      ]
     },
     "execution_count": 13,
     "metadata": {},
     "output_type": "execute_result"
    }
   ],
   "source": [
    "new_customer"
   ]
  },
  {
   "cell_type": "code",
   "execution_count": 14,
   "id": "40545a06",
   "metadata": {},
   "outputs": [],
   "source": [
    "customers.append(new_customer)"
   ]
  },
  {
   "cell_type": "code",
   "execution_count": 15,
   "id": "1f4a1163",
   "metadata": {},
   "outputs": [
    {
     "data": {
      "text/plain": [
       "[{'customer id': 0,\n",
       "  'first name': 'John',\n",
       "  'last name': 'Ogden',\n",
       "  'address': '301 Arbor Rd.'},\n",
       " {'customer id': 2,\n",
       "  'first name': 'Jill',\n",
       "  'last name': 'Somers',\n",
       "  'address': '3 Main St.'},\n",
       " {'customer id': 1,\n",
       "  'first name': 'Ann',\n",
       "  'last name': 'Sattermyer',\n",
       "  'address': 'PO Box 1145'}]"
      ]
     },
     "execution_count": 15,
     "metadata": {},
     "output_type": "execute_result"
    }
   ],
   "source": [
    "customers"
   ]
  },
  {
   "cell_type": "code",
   "execution_count": 16,
   "id": "f5275a74",
   "metadata": {},
   "outputs": [],
   "source": [
    "customer_index = customers[0]"
   ]
  },
  {
   "cell_type": "code",
   "execution_count": 17,
   "id": "86e4a5ae",
   "metadata": {},
   "outputs": [
    {
     "data": {
      "text/plain": [
       "'301 Arbor Rd.'"
      ]
     },
     "execution_count": 17,
     "metadata": {},
     "output_type": "execute_result"
    }
   ],
   "source": [
    "customer_index['address']"
   ]
  },
  {
   "cell_type": "markdown",
   "id": "f4058eeb",
   "metadata": {},
   "source": [
    "# Creating a dictionary that contains lists"
   ]
  },
  {
   "cell_type": "code",
   "execution_count": 19,
   "id": "116a7f2e",
   "metadata": {},
   "outputs": [],
   "source": [
    "customers = [\n",
    "    {\"customer id\": 0,\n",
    "     \"first name\":\"John\",\n",
    "     \"last name\": \"Ogden\",\n",
    "     \"address\": \"301 Arbor Rd.\",\n",
    "     \"discounts\": [\"standard\", \"volume\", \"loyalty\"],\n",
    "    },\n",
    "    {\"customer id\": 2,\n",
    "     \"first name\":\"Jill\",\n",
    "     \"last name\": \"Somers\",\n",
    "     \"address\": \"3 Main St.\",\n",
    "     'discounts': []\n",
    "    },\n",
    "]"
   ]
  },
  {
   "cell_type": "code",
   "execution_count": null,
   "id": "be1d6ed3",
   "metadata": {},
   "outputs": [],
   "source": []
  }
 ],
 "metadata": {
  "kernelspec": {
   "display_name": "Python 3 (ipykernel)",
   "language": "python",
   "name": "python3"
  },
  "language_info": {
   "codemirror_mode": {
    "name": "ipython",
    "version": 3
   },
   "file_extension": ".py",
   "mimetype": "text/x-python",
   "name": "python",
   "nbconvert_exporter": "python",
   "pygments_lexer": "ipython3",
   "version": "3.11.5"
  }
 },
 "nbformat": 4,
 "nbformat_minor": 5
}
