{
 "cells": [
  {
   "cell_type": "code",
   "execution_count": null,
   "id": "24e1a2d2",
   "metadata": {},
   "outputs": [],
   "source": [
    "{key: value}\n",
    "{\"first_name\": 'Qasim',\n",
    " \"last_name\": 'Hassan'}\n",
    "\n",
    ".keys()\n",
    ".values()\n",
    ".items() --> tuple ('last_name', 'Hassan') key , value\n",
    "{}."
   ]
  },
  {
   "cell_type": "code",
   "execution_count": 1,
   "id": "b20f54c1",
   "metadata": {},
   "outputs": [],
   "source": [
    "data = {\"first_name\": 'Qasim',\n",
    "        \"last_name\": 'Hassan'}"
   ]
  },
  {
   "cell_type": "code",
   "execution_count": 2,
   "id": "dfa4f32b",
   "metadata": {},
   "outputs": [],
   "source": [
    "data.update({\"first_name\":\"Ahsan\"})"
   ]
  },
  {
   "cell_type": "code",
   "execution_count": 3,
   "id": "f8d29489",
   "metadata": {},
   "outputs": [
    {
     "data": {
      "text/plain": [
       "{'first_name': 'Ahsan', 'last_name': 'Hassan'}"
      ]
     },
     "execution_count": 3,
     "metadata": {},
     "output_type": "execute_result"
    }
   ],
   "source": [
    "data"
   ]
  },
  {
   "cell_type": "code",
   "execution_count": 4,
   "id": "7e5aa8fc",
   "metadata": {},
   "outputs": [],
   "source": [
    "data.update({\"middle_name\":\"ul\"})"
   ]
  },
  {
   "cell_type": "code",
   "execution_count": 5,
   "id": "36a32137",
   "metadata": {},
   "outputs": [
    {
     "data": {
      "text/plain": [
       "{'first_name': 'Ahsan', 'last_name': 'Hassan', 'middle_name': 'ul'}"
      ]
     },
     "execution_count": 5,
     "metadata": {},
     "output_type": "execute_result"
    }
   ],
   "source": [
    "data"
   ]
  },
  {
   "cell_type": "code",
   "execution_count": 9,
   "id": "ca807bb5",
   "metadata": {},
   "outputs": [],
   "source": [
    "customers = [\n",
    "    {\"customer id\": 0,\n",
    "     \"first name\":\"John\",\n",
    "     \"last name\": \"Ogden\",\n",
    "     \"address\": \"301 Arbor Rd.\",\n",
    "    },\n",
    "    {\"customer id\": 2,\n",
    "     \"first name\":\"Jill\",\n",
    "     \"last name\": \"Somers\",\n",
    "     \"address\": \"3 Main St.\",\n",
    "    },\n",
    "]"
   ]
  },
  {
   "cell_type": "code",
   "execution_count": 7,
   "id": "68bb8a2d",
   "metadata": {},
   "outputs": [
    {
     "data": {
      "text/plain": [
       "[{'customer id': 0,\n",
       "  'first name': 'John',\n",
       "  'last name': 'Ogden',\n",
       "  'address': '301 Arbor Rd.'},\n",
       " {'customer id': 2,\n",
       "  'first name': 'Jill',\n",
       "  'last name': 'Somers',\n",
       "  'address': '3 Main St.'}]"
      ]
     },
     "execution_count": 7,
     "metadata": {},
     "output_type": "execute_result"
    }
   ],
   "source": [
    "customers"
   ]
  },
  {
   "cell_type": "code",
   "execution_count": 10,
   "id": "334176b5",
   "metadata": {},
   "outputs": [
    {
     "data": {
      "text/plain": [
       "{'customer id': 0,\n",
       " 'first name': 'John',\n",
       " 'last name': 'Ogden',\n",
       " 'address': '301 Arbor Rd.'}"
      ]
     },
     "execution_count": 10,
     "metadata": {},
     "output_type": "execute_result"
    }
   ],
   "source": [
    "customers[0]"
   ]
  },
  {
   "cell_type": "code",
   "execution_count": 11,
   "id": "1fb69f3e",
   "metadata": {},
   "outputs": [
    {
     "data": {
      "text/plain": [
       "{'customer id': 2,\n",
       " 'first name': 'Jill',\n",
       " 'last name': 'Somers',\n",
       " 'address': '3 Main St.'}"
      ]
     },
     "execution_count": 11,
     "metadata": {},
     "output_type": "execute_result"
    }
   ],
   "source": [
    "customers[1]"
   ]
  },
  {
   "cell_type": "code",
   "execution_count": 12,
   "id": "a3875151",
   "metadata": {},
   "outputs": [
    {
     "ename": "KeyError",
     "evalue": "0",
     "output_type": "error",
     "traceback": [
      "\u001b[1;31m---------------------------------------------------------------------------\u001b[0m",
      "\u001b[1;31mKeyError\u001b[0m                                  Traceback (most recent call last)",
      "Cell \u001b[1;32mIn [12], line 1\u001b[0m\n\u001b[1;32m----> 1\u001b[0m \u001b[43mcustomers\u001b[49m\u001b[43m[\u001b[49m\u001b[38;5;241;43m1\u001b[39;49m\u001b[43m]\u001b[49m\u001b[43m[\u001b[49m\u001b[38;5;241;43m0\u001b[39;49m\u001b[43m]\u001b[49m\n",
      "\u001b[1;31mKeyError\u001b[0m: 0"
     ]
    }
   ],
   "source": [
    "customers[1][0]"
   ]
  },
  {
   "cell_type": "code",
   "execution_count": 13,
   "id": "0a43d0e2",
   "metadata": {},
   "outputs": [
    {
     "data": {
      "text/plain": [
       "2"
      ]
     },
     "execution_count": 13,
     "metadata": {},
     "output_type": "execute_result"
    }
   ],
   "source": [
    "customers[1]['customer id']"
   ]
  },
  {
   "cell_type": "code",
   "execution_count": 14,
   "id": "b71fdc60",
   "metadata": {},
   "outputs": [],
   "source": [
    "new_custoemr = {\n",
    "    \"customer id\": 1,\n",
    "    \"first name\":\"Ann\",\n",
    "    \"last name\": \"Sattermyer\",\n",
    "    \"address\": \"PO Box 1145\",\n",
    "}"
   ]
  },
  {
   "cell_type": "code",
   "execution_count": 16,
   "id": "a24b77a4",
   "metadata": {},
   "outputs": [],
   "source": [
    "customers.append(new_custoemr)"
   ]
  },
  {
   "cell_type": "code",
   "execution_count": 17,
   "id": "e64e7f3b",
   "metadata": {},
   "outputs": [
    {
     "data": {
      "text/plain": [
       "[{'customer id': 0,\n",
       "  'first name': 'John',\n",
       "  'last name': 'Ogden',\n",
       "  'address': '301 Arbor Rd.'},\n",
       " {'customer id': 2,\n",
       "  'first name': 'Jill',\n",
       "  'last name': 'Somers',\n",
       "  'address': '3 Main St.'},\n",
       " {'customer id': 1,\n",
       "  'first name': 'Ann',\n",
       "  'last name': 'Sattermyer',\n",
       "  'address': 'PO Box 1145'}]"
      ]
     },
     "execution_count": 17,
     "metadata": {},
     "output_type": "execute_result"
    }
   ],
   "source": [
    "customers"
   ]
  },
  {
   "cell_type": "code",
   "execution_count": 19,
   "id": "fad20ca3",
   "metadata": {},
   "outputs": [],
   "source": [
    "customer_index = customers[0]"
   ]
  },
  {
   "cell_type": "code",
   "execution_count": 20,
   "id": "832e574e",
   "metadata": {},
   "outputs": [
    {
     "data": {
      "text/plain": [
       "'301 Arbor Rd.'"
      ]
     },
     "execution_count": 20,
     "metadata": {},
     "output_type": "execute_result"
    }
   ],
   "source": [
    "customer_index['address']"
   ]
  },
  {
   "cell_type": "markdown",
   "id": "4fc2ba48",
   "metadata": {},
   "source": [
    "### Creating a dictionary that contains lists"
   ]
  },
  {
   "cell_type": "code",
   "execution_count": 24,
   "id": "c0da7876",
   "metadata": {},
   "outputs": [],
   "source": [
    "customers = [\n",
    "    {\"customer id\": 0,\n",
    "     \"first name\":\"John\",\n",
    "     \"last name\": \"Ogden\",\n",
    "     \"address\": \"301 Arbor Rd.\",\n",
    "     \"discounts\": [\"standard\", \"volume\", \"loyalty\"],\n",
    "    },\n",
    "    {\"customer id\": 2,\n",
    "     \"first name\":\"Jill\",\n",
    "     \"last name\": \"Somers\",\n",
    "     \"address\": \"3 Main St.\",\n",
    "     \"discounts\":[]\n",
    "    },\n",
    "    {\n",
    "    \"customer id\": 1,\n",
    "    \"first name\":\"Ann\",\n",
    "    \"last name\": \"Sattermyer\",\n",
    "    \"address\": \"PO Box 1145\",\n",
    "    \"discounts\": [\"standard\"]\n",
    "}\n",
    "]"
   ]
  },
  {
   "cell_type": "code",
   "execution_count": 23,
   "id": "2385896a",
   "metadata": {},
   "outputs": [
    {
     "data": {
      "text/plain": [
       "['standard', 'volume', 'loyalty']"
      ]
     },
     "execution_count": 23,
     "metadata": {},
     "output_type": "execute_result"
    }
   ],
   "source": [
    "customers[0]['discounts']"
   ]
  },
  {
   "cell_type": "code",
   "execution_count": 25,
   "id": "41e5d575",
   "metadata": {},
   "outputs": [
    {
     "data": {
      "text/plain": [
       "3"
      ]
     },
     "execution_count": 25,
     "metadata": {},
     "output_type": "execute_result"
    }
   ],
   "source": [
    "len(customers)"
   ]
  },
  {
   "cell_type": "code",
   "execution_count": 32,
   "id": "eefeb726",
   "metadata": {},
   "outputs": [
    {
     "name": "stdout",
     "output_type": "stream",
     "text": [
      "customer at index 0 have discount = 3\n",
      "customer at index 1 have discount = 0\n",
      "customer at index 2 have discount = 1\n"
     ]
    }
   ],
   "source": [
    "for iterator in range(len(customers)):\n",
    "    print(f\"customer at index {iterator} have discount = {len(customers[iterator]['discounts'])}\")"
   ]
  },
  {
   "cell_type": "code",
   "execution_count": 50,
   "id": "4bc199a6",
   "metadata": {},
   "outputs": [
    {
     "name": "stdout",
     "output_type": "stream",
     "text": [
      "[5, 10, 15]\n",
      "=====\n",
      "[]\n",
      "=====\n",
      "[5]\n",
      "=====\n"
     ]
    },
    {
     "data": {
      "text/plain": [
       "[{'customer id': 0,\n",
       "  'first name': 'John',\n",
       "  'last name': 'Ogden',\n",
       "  'address': '301 Arbor Rd.',\n",
       "  'discounts': ['standard', 'volume', 'loyalty'],\n",
       "  'discounted_percents': [5, 10, 15]},\n",
       " {'customer id': 2,\n",
       "  'first name': 'Jill',\n",
       "  'last name': 'Somers',\n",
       "  'address': '3 Main St.',\n",
       "  'discounts': [],\n",
       "  'discounted_percents': []},\n",
       " {'customer id': 1,\n",
       "  'first name': 'Ann',\n",
       "  'last name': 'Sattermyer',\n",
       "  'address': 'PO Box 1145',\n",
       "  'discounts': ['standard'],\n",
       "  'discounted_percents': [5]}]"
      ]
     },
     "execution_count": 50,
     "metadata": {},
     "output_type": "execute_result"
    }
   ],
   "source": [
    "for customer in customers:\n",
    "    discounted_percents = []\n",
    "    if len(customer['discounts']) >= 1:\n",
    "        for discount in customer['discounts']:\n",
    "            if discount == 'standard':\n",
    "                discounted_percent = 5\n",
    "            elif discount == 'volume':\n",
    "                discounted_percent = 10\n",
    "            elif discount == 'loyalty':\n",
    "                discounted_percent = 15\n",
    "            else:\n",
    "                discounted_percent = 'ERROR'\n",
    "            discounted_percents.append(discounted_percent)\n",
    "    print(discounted_percents)\n",
    "    customer.update({'discounted_percents': discounted_percents})\n",
    "    print('=====')\n",
    "\n",
    "customers"
   ]
  },
  {
   "cell_type": "code",
   "execution_count": null,
   "id": "70b03d4e",
   "metadata": {},
   "outputs": [],
   "source": [
    "\n",
    "for customer in customers:\n",
    "    print(customer['discounts'])\n",
    "    if len(customer['discounts']) >= 1:\n",
    "        for discount in customer['discounts']:\n",
    "            if discount == 'standard':\n",
    "                discounted_percent = 5\n",
    "            elif discount == 'volume':\n",
    "                discounted_percent = 10\n",
    "            elif discount == 'loyalty':\n",
    "                discounted_percent = 15\n",
    "            else:\n",
    "                discounted_percent = 'ERROR'\n",
    "            discounted_percents.append(discounted_percent)\n",
    "    print(discounted_percents)\n",
    "\n",
    "\n",
    "\n",
    "\n",
    "        \n",
    "    \n",
    "    "
   ]
  },
  {
   "cell_type": "code",
   "execution_count": null,
   "id": "cea07b91",
   "metadata": {},
   "outputs": [],
   "source": []
  }
 ],
 "metadata": {
  "kernelspec": {
   "display_name": "Python 3 (ipykernel)",
   "language": "python",
   "name": "python3"
  },
  "language_info": {
   "codemirror_mode": {
    "name": "ipython",
    "version": 3
   },
   "file_extension": ".py",
   "mimetype": "text/x-python",
   "name": "python",
   "nbconvert_exporter": "python",
   "pygments_lexer": "ipython3",
   "version": "3.11.4"
  },
  "toc": {
   "base_numbering": 1,
   "nav_menu": {},
   "number_sections": true,
   "sideBar": true,
   "skip_h1_title": false,
   "title_cell": "Table of Contents",
   "title_sidebar": "Contents",
   "toc_cell": false,
   "toc_position": {},
   "toc_section_display": true,
   "toc_window_display": false
  }
 },
 "nbformat": 4,
 "nbformat_minor": 5
}
