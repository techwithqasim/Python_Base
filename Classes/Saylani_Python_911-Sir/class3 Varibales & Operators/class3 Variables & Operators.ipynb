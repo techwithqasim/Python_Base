{
 "cells": [
  {
   "cell_type": "markdown",
   "id": "02726145",
   "metadata": {},
   "source": [
    "# Variables for Strings"
   ]
  },
  {
   "cell_type": "markdown",
   "id": "748186bd",
   "metadata": {},
   "source": [
    "## abc"
   ]
  },
  {
   "cell_type": "code",
   "execution_count": 1,
   "id": "362fa624",
   "metadata": {},
   "outputs": [],
   "source": [
    "name = \"Qasim\""
   ]
  },
  {
   "cell_type": "code",
   "execution_count": 2,
   "id": "5e17c958",
   "metadata": {},
   "outputs": [
    {
     "name": "stdout",
     "output_type": "stream",
     "text": [
      "Qasim\n"
     ]
    }
   ],
   "source": [
    "print(name)"
   ]
  },
  {
   "cell_type": "code",
   "execution_count": 3,
   "id": "a0b3f80c",
   "metadata": {},
   "outputs": [],
   "source": [
    "name = \"Hassan\""
   ]
  },
  {
   "cell_type": "code",
   "execution_count": 4,
   "id": "55c01541",
   "metadata": {},
   "outputs": [
    {
     "name": "stdout",
     "output_type": "stream",
     "text": [
      "Hassan\n"
     ]
    }
   ],
   "source": [
    "print(name)"
   ]
  },
  {
   "cell_type": "code",
   "execution_count": 11,
   "id": "e6d9326c",
   "metadata": {},
   "outputs": [],
   "source": [
    "first_name = \"Qasim\"\n",
    "\n",
    "facebook = \"Qasim\""
   ]
  },
  {
   "cell_type": "code",
   "execution_count": 6,
   "id": "20d984c8",
   "metadata": {},
   "outputs": [
    {
     "name": "stdout",
     "output_type": "stream",
     "text": [
      "Qasim\n"
     ]
    }
   ],
   "source": [
    "print(facebook)"
   ]
  },
  {
   "cell_type": "markdown",
   "id": "2d044ab3",
   "metadata": {},
   "source": [
    "## def"
   ]
  },
  {
   "cell_type": "code",
   "execution_count": 7,
   "id": "f726d0b6",
   "metadata": {},
   "outputs": [],
   "source": [
    "my_first_name_is = \"Qasim\""
   ]
  },
  {
   "cell_type": "code",
   "execution_count": 9,
   "id": "bddcc632",
   "metadata": {},
   "outputs": [
    {
     "name": "stdout",
     "output_type": "stream",
     "text": [
      "Hassan\n"
     ]
    }
   ],
   "source": [
    "print(name)"
   ]
  },
  {
   "cell_type": "code",
   "execution_count": 12,
   "id": "a58b31be",
   "metadata": {},
   "outputs": [
    {
     "name": "stdout",
     "output_type": "stream",
     "text": [
      "Qasim\n"
     ]
    }
   ],
   "source": [
    "print(first_name)"
   ]
  },
  {
   "cell_type": "code",
   "execution_count": 13,
   "id": "f134a6d7",
   "metadata": {},
   "outputs": [],
   "source": [
    "last_name = \"Hassan\"\n",
    "city_of_origin = \"New Orleans\"\n",
    "aussie_greeting = \"g'Day\""
   ]
  },
  {
   "cell_type": "code",
   "execution_count": 14,
   "id": "b4f229c9",
   "metadata": {},
   "outputs": [
    {
     "name": "stdout",
     "output_type": "stream",
     "text": [
      "g'Day\n"
     ]
    }
   ],
   "source": [
    "print(aussie_greeting)"
   ]
  },
  {
   "cell_type": "code",
   "execution_count": 15,
   "id": "2a1d9445",
   "metadata": {},
   "outputs": [
    {
     "ename": "SyntaxError",
     "evalue": "unterminated string literal (detected at line 1) (584074547.py, line 1)",
     "output_type": "error",
     "traceback": [
      "\u001b[1;36m  Cell \u001b[1;32mIn [15], line 1\u001b[1;36m\u001b[0m\n\u001b[1;33m    greetings = \"g\"day\"\u001b[0m\n\u001b[1;37m                      ^\u001b[0m\n\u001b[1;31mSyntaxError\u001b[0m\u001b[1;31m:\u001b[0m unterminated string literal (detected at line 1)\n"
     ]
    }
   ],
   "source": [
    "greetings = \"g\"day\""
   ]
  },
  {
   "cell_type": "code",
   "execution_count": 18,
   "id": "38eaf1e5",
   "metadata": {},
   "outputs": [],
   "source": [
    "greetings_double = \"g\\\"day\""
   ]
  },
  {
   "cell_type": "code",
   "execution_count": 19,
   "id": "9ccfb7a0",
   "metadata": {},
   "outputs": [
    {
     "name": "stdout",
     "output_type": "stream",
     "text": [
      "g\"day\n"
     ]
    }
   ],
   "source": [
    "print(greetings_double)"
   ]
  },
  {
   "cell_type": "code",
   "execution_count": 16,
   "id": "fdeb95a0",
   "metadata": {},
   "outputs": [],
   "source": [
    "greetings = 'g\"day'"
   ]
  },
  {
   "cell_type": "code",
   "execution_count": 17,
   "id": "e4d429f6",
   "metadata": {},
   "outputs": [
    {
     "name": "stdout",
     "output_type": "stream",
     "text": [
      "g\"day\n"
     ]
    }
   ],
   "source": [
    "print(greetings)"
   ]
  },
  {
   "cell_type": "code",
   "execution_count": 25,
   "id": "8308d375",
   "metadata": {},
   "outputs": [
    {
     "data": {
      "text/plain": [
       "'Qasim1'"
      ]
     },
     "execution_count": 25,
     "metadata": {},
     "output_type": "execute_result"
    }
   ],
   "source": [
    "first_name + \"1\""
   ]
  },
  {
   "cell_type": "code",
   "execution_count": 26,
   "id": "ba34b863",
   "metadata": {},
   "outputs": [
    {
     "ename": "TypeError",
     "evalue": "can only concatenate str (not \"int\") to str",
     "output_type": "error",
     "traceback": [
      "\u001b[1;31m---------------------------------------------------------------------------\u001b[0m",
      "\u001b[1;31mTypeError\u001b[0m                                 Traceback (most recent call last)",
      "Cell \u001b[1;32mIn [26], line 1\u001b[0m\n\u001b[1;32m----> 1\u001b[0m \u001b[43mfirst_name\u001b[49m\u001b[43m \u001b[49m\u001b[38;5;241;43m+\u001b[39;49m\u001b[43m \u001b[49m\u001b[38;5;241;43m1\u001b[39;49m\n",
      "\u001b[1;31mTypeError\u001b[0m: can only concatenate str (not \"int\") to str"
     ]
    }
   ],
   "source": [
    "first_name + 1"
   ]
  },
  {
   "cell_type": "code",
   "execution_count": 27,
   "id": "706686a0",
   "metadata": {},
   "outputs": [
    {
     "ename": "NameError",
     "evalue": "name 'one' is not defined",
     "output_type": "error",
     "traceback": [
      "\u001b[1;31m---------------------------------------------------------------------------\u001b[0m",
      "\u001b[1;31mNameError\u001b[0m                                 Traceback (most recent call last)",
      "Cell \u001b[1;32mIn [27], line 1\u001b[0m\n\u001b[1;32m----> 1\u001b[0m first_name \u001b[38;5;241m+\u001b[39m \u001b[43mone\u001b[49m\n",
      "\u001b[1;31mNameError\u001b[0m: name 'one' is not defined"
     ]
    }
   ],
   "source": [
    "first_name + one"
   ]
  },
  {
   "cell_type": "code",
   "execution_count": 28,
   "id": "19d80707",
   "metadata": {},
   "outputs": [
    {
     "data": {
      "text/plain": [
       "'Qasimone'"
      ]
     },
     "execution_count": 28,
     "metadata": {},
     "output_type": "execute_result"
    }
   ],
   "source": [
    "first_name + \"one\""
   ]
  },
  {
   "cell_type": "markdown",
   "id": "6b0071f2",
   "metadata": {},
   "source": [
    "### shortcut commands\n",
    "\n",
    "- CTRL + ENTER = run cell while staying at same cell\n",
    "- SHIFT + ENTER = run cell while movingto the next/new cell\n",
    "\n",
    "- ESC + H => All shortcut commands\n",
    "- ESC + A => cell created above\n",
    "- ESC + B => cell created below\n",
    "- ESC + M => cell convert markdown\n",
    "- ESC + DD => to delete the cell in which we are rightnow\n",
    "- ESC + 1 => cell will create level 1 heading (2-5)"
   ]
  },
  {
   "cell_type": "markdown",
   "id": "8d4b1620",
   "metadata": {},
   "source": [
    "# Variables for Numbers"
   ]
  },
  {
   "cell_type": "code",
   "execution_count": 20,
   "id": "ba8af74f",
   "metadata": {},
   "outputs": [],
   "source": [
    "age = 18 "
   ]
  },
  {
   "cell_type": "code",
   "execution_count": 21,
   "id": "f45572d1",
   "metadata": {},
   "outputs": [
    {
     "name": "stdout",
     "output_type": "stream",
     "text": [
      "18\n"
     ]
    }
   ],
   "source": [
    "print(age)"
   ]
  },
  {
   "cell_type": "code",
   "execution_count": 22,
   "id": "d983a921",
   "metadata": {},
   "outputs": [
    {
     "data": {
      "text/plain": [
       "19"
      ]
     },
     "execution_count": 22,
     "metadata": {},
     "output_type": "execute_result"
    }
   ],
   "source": [
    "print(age + 1)"
   ]
  },
  {
   "cell_type": "code",
   "execution_count": 29,
   "id": "d24a8ee2",
   "metadata": {},
   "outputs": [],
   "source": [
    "new_age = age + 2"
   ]
  },
  {
   "cell_type": "code",
   "execution_count": 30,
   "id": "7fc589bf",
   "metadata": {},
   "outputs": [
    {
     "name": "stdout",
     "output_type": "stream",
     "text": [
      "20\n"
     ]
    }
   ],
   "source": [
    "print(new_age)"
   ]
  },
  {
   "cell_type": "code",
   "execution_count": 31,
   "id": "4b3bdbd4",
   "metadata": {},
   "outputs": [
    {
     "data": {
      "text/plain": [
       "18"
      ]
     },
     "execution_count": 31,
     "metadata": {},
     "output_type": "execute_result"
    }
   ],
   "source": [
    "age"
   ]
  },
  {
   "cell_type": "code",
   "execution_count": 32,
   "id": "bd5ac86b",
   "metadata": {},
   "outputs": [],
   "source": [
    "age+=1"
   ]
  },
  {
   "cell_type": "code",
   "execution_count": 33,
   "id": "3eb15d49",
   "metadata": {},
   "outputs": [
    {
     "data": {
      "text/plain": [
       "19"
      ]
     },
     "execution_count": 33,
     "metadata": {},
     "output_type": "execute_result"
    }
   ],
   "source": [
    "age"
   ]
  },
  {
   "cell_type": "code",
   "execution_count": 2,
   "id": "fb15d189",
   "metadata": {},
   "outputs": [],
   "source": [
    "weight = 150"
   ]
  },
  {
   "cell_type": "code",
   "execution_count": 35,
   "id": "abf1238b",
   "metadata": {},
   "outputs": [
    {
     "name": "stdout",
     "output_type": "stream",
     "text": [
      "150\n"
     ]
    }
   ],
   "source": [
    "print(weight)"
   ]
  },
  {
   "cell_type": "code",
   "execution_count": 52,
   "id": "59e93bf9",
   "metadata": {},
   "outputs": [
    {
     "name": "stdout",
     "output_type": "stream",
     "text": [
      "164\n"
     ]
    }
   ],
   "source": [
    "print(weight + 1)"
   ]
  },
  {
   "cell_type": "code",
   "execution_count": 56,
   "id": "0aeb4abc",
   "metadata": {},
   "outputs": [
    {
     "name": "stdout",
     "output_type": "stream",
     "text": [
      "163\n"
     ]
    }
   ],
   "source": [
    "print(weight)"
   ]
  },
  {
   "cell_type": "code",
   "execution_count": 30,
   "id": "6d5cdae9",
   "metadata": {},
   "outputs": [
    {
     "ename": "TypeError",
     "evalue": "'weight' is an invalid keyword argument for print()",
     "output_type": "error",
     "traceback": [
      "\u001b[1;31m---------------------------------------------------------------------------\u001b[0m",
      "\u001b[1;31mTypeError\u001b[0m                                 Traceback (most recent call last)",
      "Cell \u001b[1;32mIn[30], line 1\u001b[0m\n\u001b[1;32m----> 1\u001b[0m \u001b[38;5;28mprint\u001b[39m(weight \u001b[38;5;241m=\u001b[39m weight \u001b[38;5;241m+\u001b[39m \u001b[38;5;241m1\u001b[39m)\n",
      "\u001b[1;31mTypeError\u001b[0m: 'weight' is an invalid keyword argument for print()"
     ]
    }
   ],
   "source": [
    "print(weight = weight + 1)"
   ]
  },
  {
   "cell_type": "code",
   "execution_count": 42,
   "id": "b61a8dbb",
   "metadata": {},
   "outputs": [
    {
     "name": "stdout",
     "output_type": "stream",
     "text": [
      "163\n"
     ]
    }
   ],
   "source": [
    "print(weight := weight + 1)"
   ]
  },
  {
   "cell_type": "code",
   "execution_count": 5,
   "id": "e979b8a0",
   "metadata": {},
   "outputs": [],
   "source": [
    "weight = weight + 1"
   ]
  },
  {
   "cell_type": "code",
   "execution_count": 23,
   "id": "886e123e",
   "metadata": {},
   "outputs": [
    {
     "name": "stdout",
     "output_type": "stream",
     "text": [
      "162\n"
     ]
    }
   ],
   "source": [
    "print(weight)"
   ]
  },
  {
   "cell_type": "code",
   "execution_count": 57,
   "id": "de6d0cf4",
   "metadata": {},
   "outputs": [],
   "source": [
    "weight+=1"
   ]
  },
  {
   "cell_type": "code",
   "execution_count": 61,
   "id": "f13d2143",
   "metadata": {},
   "outputs": [
    {
     "name": "stdout",
     "output_type": "stream",
     "text": [
      "164\n"
     ]
    }
   ],
   "source": [
    "print(weight)"
   ]
  },
  {
   "cell_type": "code",
   "execution_count": 62,
   "id": "a45b8962",
   "metadata": {},
   "outputs": [
    {
     "data": {
      "text/plain": [
       "164.0"
      ]
     },
     "execution_count": 62,
     "metadata": {},
     "output_type": "execute_result"
    }
   ],
   "source": [
    "float(weight)"
   ]
  },
  {
   "cell_type": "code",
   "execution_count": 44,
   "id": "6dc43a30",
   "metadata": {},
   "outputs": [
    {
     "data": {
      "text/plain": [
       "19"
      ]
     },
     "execution_count": 44,
     "metadata": {},
     "output_type": "execute_result"
    }
   ],
   "source": [
    "age"
   ]
  },
  {
   "cell_type": "code",
   "execution_count": 45,
   "id": "c859b8e3",
   "metadata": {},
   "outputs": [
    {
     "data": {
      "text/plain": [
       "153"
      ]
     },
     "execution_count": 45,
     "metadata": {},
     "output_type": "execute_result"
    }
   ],
   "source": [
    "weight"
   ]
  },
  {
   "cell_type": "code",
   "execution_count": 46,
   "id": "641cdc30",
   "metadata": {},
   "outputs": [],
   "source": [
    "age_plus_weight = age + weight"
   ]
  },
  {
   "cell_type": "code",
   "execution_count": 47,
   "id": "d646c65e",
   "metadata": {},
   "outputs": [
    {
     "data": {
      "text/plain": [
       "172"
      ]
     },
     "execution_count": 47,
     "metadata": {},
     "output_type": "execute_result"
    }
   ],
   "source": [
    "age_plus_weight"
   ]
  },
  {
   "cell_type": "code",
   "execution_count": 66,
   "id": "fce028d3",
   "metadata": {},
   "outputs": [
    {
     "data": {
      "text/plain": [
       "'164kg'"
      ]
     },
     "execution_count": 66,
     "metadata": {},
     "output_type": "execute_result"
    }
   ],
   "source": [
    "str(weight) + \"kg\""
   ]
  },
  {
   "cell_type": "code",
   "execution_count": 49,
   "id": "bddcb97c",
   "metadata": {},
   "outputs": [
    {
     "data": {
      "text/plain": [
       "'153kg'"
      ]
     },
     "execution_count": 49,
     "metadata": {},
     "output_type": "execute_result"
    }
   ],
   "source": [
    "str(weight) + \"kg\""
   ]
  },
  {
   "cell_type": "markdown",
   "id": "cd836df0",
   "metadata": {},
   "source": [
    "## Math expressions: Familiar operator"
   ]
  },
  {
   "cell_type": "code",
   "execution_count": 50,
   "id": "20437a55",
   "metadata": {},
   "outputs": [
    {
     "data": {
      "text/plain": [
       "5"
      ]
     },
     "execution_count": 50,
     "metadata": {},
     "output_type": "execute_result"
    }
   ],
   "source": [
    "2+3"
   ]
  },
  {
   "cell_type": "code",
   "execution_count": 51,
   "id": "b8cf4046",
   "metadata": {},
   "outputs": [
    {
     "data": {
      "text/plain": [
       "3"
      ]
     },
     "execution_count": 51,
     "metadata": {},
     "output_type": "execute_result"
    }
   ],
   "source": [
    "5-2"
   ]
  },
  {
   "cell_type": "code",
   "execution_count": 52,
   "id": "7bce0aab",
   "metadata": {},
   "outputs": [
    {
     "data": {
      "text/plain": [
       "15"
      ]
     },
     "execution_count": 52,
     "metadata": {},
     "output_type": "execute_result"
    }
   ],
   "source": [
    "5*3"
   ]
  },
  {
   "cell_type": "code",
   "execution_count": 53,
   "id": "4b8491b5",
   "metadata": {},
   "outputs": [
    {
     "data": {
      "text/plain": [
       "3.0"
      ]
     },
     "execution_count": 53,
     "metadata": {},
     "output_type": "execute_result"
    }
   ],
   "source": [
    "6/2"
   ]
  },
  {
   "cell_type": "code",
   "execution_count": 54,
   "id": "a9d2dad0",
   "metadata": {},
   "outputs": [
    {
     "data": {
      "text/plain": [
       "3.25"
      ]
     },
     "execution_count": 54,
     "metadata": {},
     "output_type": "execute_result"
    }
   ],
   "source": [
    "6.5/2 # simply divde"
   ]
  },
  {
   "cell_type": "code",
   "execution_count": 69,
   "id": "acd7fb2b",
   "metadata": {},
   "outputs": [
    {
     "data": {
      "text/plain": [
       "3.0"
      ]
     },
     "execution_count": 69,
     "metadata": {},
     "output_type": "execute_result"
    }
   ],
   "source": [
    "6.5//2"
   ]
  },
  {
   "cell_type": "code",
   "execution_count": null,
   "id": "f76a74fb",
   "metadata": {},
   "outputs": [],
   "source": [
    "SDDVSDF\n",
    "a"
   ]
  },
  {
   "cell_type": "code",
   "execution_count": null,
   "id": "e3284425",
   "metadata": {},
   "outputs": [],
   "source": []
  },
  {
   "cell_type": "code",
   "execution_count": 83,
   "id": "43642b9a",
   "metadata": {},
   "outputs": [
    {
     "ename": "NameError",
     "evalue": "name 'sd' is not defined",
     "output_type": "error",
     "traceback": [
      "\u001b[1;31m---------------------------------------------------------------------------\u001b[0m",
      "\u001b[1;31mNameError\u001b[0m                                 Traceback (most recent call last)",
      "Cell \u001b[1;32mIn[83], line 1\u001b[0m\n\u001b[1;32m----> 1\u001b[0m sd\n\u001b[0;32m      4\u001b[0m gdbf\n",
      "\u001b[1;31mNameError\u001b[0m: name 'sd' is not defined"
     ]
    }
   ],
   "source": [
    "sd\n",
    "\n",
    "\n",
    "\n",
    "\n",
    "\n",
    "\n",
    "\n",
    "\n",
    "gdbf"
   ]
  },
  {
   "cell_type": "code",
   "execution_count": null,
   "id": "9b18fd66",
   "metadata": {},
   "outputs": [],
   "source": []
  },
  {
   "cell_type": "code",
   "execution_count": 61,
   "id": "fe4a3229",
   "metadata": {},
   "outputs": [
    {
     "data": {
      "text/plain": [
       "3"
      ]
     },
     "execution_count": 61,
     "metadata": {},
     "output_type": "execute_result"
    }
   ],
   "source": [
    "int(7.2/2)"
   ]
  },
  {
   "cell_type": "code",
   "execution_count": 75,
   "id": "0638b43b",
   "metadata": {},
   "outputs": [
    {
     "data": {
      "text/plain": [
       "4.0"
      ]
     },
     "execution_count": 75,
     "metadata": {},
     "output_type": "execute_result"
    }
   ],
   "source": [
    "-(-7.2//2)"
   ]
  },
  {
   "cell_type": "code",
   "execution_count": 98,
   "id": "4a1c4c9d",
   "metadata": {},
   "outputs": [
    {
     "data": {
      "text/plain": [
       "9333354408883457947513272241025936754228135500152568258326643789004775038083033132250882486558005959725670125142591868653979246936534029572258946469705730224931881843840615602137208189153411192614738264835480442504472648175890063469516982336409270297344109148960859690874908526305013345556810365239660075846594374564498929022873586044087974748361696400260149553975970559485362322838455555951276831949015622460561180134506813702982851563416645795031276857140930168671032051242054378742895411388542831972718910204208437471289366749360385260066303895342674392596136352993324850415613552704121971104604130472523603267559940246730296502039129326132787874072273082241612911657373557545108328685802028454487277213942752640522810066843748476904333842764539527409375604954669558827472077019489888135741465628327623369303185418871930378056322422818489682400143344033058706113404426924699518015407590027069294718631618628792325151969312300445711111707053289103365246329160542498210041350271265159543309682382756756345743444885518680352855825336970957649005403366425268515775846944028479158194988682761173143732756329232192139903338203924289294097054536994391900030732397256314846599695563332995588903630812086420733141730628113120282536956543639795586909446644579810448076630686986090333731991668910441991781061817293234105700912976809614088808065315247221337224447519730012439015659644715652934840275659091336833030859943485363390277692744004185343921343490864936894199153173187399886401790618011797876876424795840417625789174180371917700652295768462871227144922842343828772041070198840760004288733574151946493447364402903296319152963667471735316590171557792652507691424950661982191917646419676896746269946002896268201085845672370199327993457138160244822199883741940593119861196021690294261893432922923587073057460577454288275813094002298439183436539321387311777168414831576095125485916024526101124547843505405734166629667574505675484133352065101697349710656608380392784235393092817297516526678444050741431587223566067985745619207804981798616430046367978711560150295849513446075080061671806693907753816367345040998034721233769145324306810089568798277776090943952086287738688742919635332052225179559918144506818914517119525500103017957733192515502719925575527020467734338982140752623855643805333432040144589664222112360611786044763835543837851992517318194317694801939950833403540285469055763878359804634310413119007780223507783625871518776269289020590452619222404252400060258950133469829221481528478901926131420540949939171358186920284831709908172072654415602812242989550205432317949848068341722257724438042127494851302741311412732394224067671620181416358500793718438896931326772337426062855462638987823384223168842151955940532120489088226082592094026384270323610436516577277994166857457840195867286500018746532682783482918986014018151456547011261067415125622714033264137154106442695542394036772998933343422693078913737073655750687206397530147447871955915987565977746970801570476882984435994804024366817403479666009345178571507981409186418364072426579563184852668925854977762584872119347007303233683833984671947989158002933040250993989928046637496262401482674493441484911428019329240660660867133476919729907479470336757070205205648317262190173885534833105685386482948228815577370220917647976104715653709414706932575466522392869495262227248492818032294622502013815558467538706831553494933240273975059076401790509855979569449716457254783681448974819669788159556333930406619214036328748264717467745627680571330484494433013338108933422427491658206378464930845541648248795594696005779950229355974836299195578259779199574636896057667654953111782154876076400828913800816536237945409867487217231844536281020622654555323914446956450282379740750045366352218085908164305934921910607609524395515023173928639623846412851616306314178041760001"
      ]
     },
     "execution_count": 98,
     "metadata": {},
     "output_type": "execute_result"
    }
   ],
   "source": [
    "9**4000"
   ]
  },
  {
   "cell_type": "markdown",
   "id": "859de558",
   "metadata": {},
   "source": [
    "## Variable Names Legal and Illegal"
   ]
  },
  {
   "cell_type": "code",
   "execution_count": 62,
   "id": "8af993cd",
   "metadata": {},
   "outputs": [],
   "source": [
    "yes = True"
   ]
  },
  {
   "cell_type": "code",
   "execution_count": 63,
   "id": "43a51351",
   "metadata": {},
   "outputs": [
    {
     "data": {
      "text/plain": [
       "True"
      ]
     },
     "execution_count": 63,
     "metadata": {},
     "output_type": "execute_result"
    }
   ],
   "source": [
    "yes"
   ]
  },
  {
   "cell_type": "code",
   "execution_count": 64,
   "id": "21d7a077",
   "metadata": {},
   "outputs": [
    {
     "ename": "SyntaxError",
     "evalue": "cannot assign to True (3517257450.py, line 1)",
     "output_type": "error",
     "traceback": [
      "\u001b[1;36m  Cell \u001b[1;32mIn [64], line 1\u001b[1;36m\u001b[0m\n\u001b[1;33m    True = \"yes\"\u001b[0m\n\u001b[1;37m    ^\u001b[0m\n\u001b[1;31mSyntaxError\u001b[0m\u001b[1;31m:\u001b[0m cannot assign to True\n"
     ]
    }
   ],
   "source": [
    "True = \"yes\""
   ]
  },
  {
   "cell_type": "markdown",
   "id": "b7be4b91",
   "metadata": {},
   "source": [
    "## Math expressions: Unfamiliar operators"
   ]
  },
  {
   "cell_type": "code",
   "execution_count": 65,
   "id": "8d5027e0",
   "metadata": {},
   "outputs": [
    {
     "data": {
      "text/plain": [
       "1"
      ]
     },
     "execution_count": 65,
     "metadata": {},
     "output_type": "execute_result"
    }
   ],
   "source": [
    "10 % 3"
   ]
  },
  {
   "cell_type": "code",
   "execution_count": 66,
   "id": "2aa50a68",
   "metadata": {},
   "outputs": [
    {
     "data": {
      "text/plain": [
       "19"
      ]
     },
     "execution_count": 66,
     "metadata": {},
     "output_type": "execute_result"
    }
   ],
   "source": [
    "age"
   ]
  },
  {
   "cell_type": "code",
   "execution_count": 67,
   "id": "eff4609d",
   "metadata": {},
   "outputs": [],
   "source": [
    "age = age + 1"
   ]
  },
  {
   "cell_type": "code",
   "execution_count": 68,
   "id": "7ec33e1b",
   "metadata": {},
   "outputs": [
    {
     "data": {
      "text/plain": [
       "20"
      ]
     },
     "execution_count": 68,
     "metadata": {},
     "output_type": "execute_result"
    }
   ],
   "source": [
    "age"
   ]
  },
  {
   "cell_type": "code",
   "execution_count": 69,
   "id": "b7c49e96",
   "metadata": {},
   "outputs": [],
   "source": [
    "age +=3"
   ]
  },
  {
   "cell_type": "code",
   "execution_count": 70,
   "id": "3f5c761d",
   "metadata": {},
   "outputs": [
    {
     "data": {
      "text/plain": [
       "23"
      ]
     },
     "execution_count": 70,
     "metadata": {},
     "output_type": "execute_result"
    }
   ],
   "source": [
    "age"
   ]
  },
  {
   "cell_type": "code",
   "execution_count": 71,
   "id": "61694da8",
   "metadata": {},
   "outputs": [],
   "source": [
    "age -=2"
   ]
  },
  {
   "cell_type": "code",
   "execution_count": 72,
   "id": "61ac678a",
   "metadata": {},
   "outputs": [
    {
     "data": {
      "text/plain": [
       "21"
      ]
     },
     "execution_count": 72,
     "metadata": {},
     "output_type": "execute_result"
    }
   ],
   "source": [
    "age"
   ]
  },
  {
   "cell_type": "code",
   "execution_count": 73,
   "id": "3822b849",
   "metadata": {},
   "outputs": [],
   "source": [
    "age *= 3"
   ]
  },
  {
   "cell_type": "code",
   "execution_count": 74,
   "id": "035f5bb7",
   "metadata": {},
   "outputs": [
    {
     "data": {
      "text/plain": [
       "63"
      ]
     },
     "execution_count": 74,
     "metadata": {},
     "output_type": "execute_result"
    }
   ],
   "source": [
    "age"
   ]
  },
  {
   "cell_type": "markdown",
   "id": "1d9259a0",
   "metadata": {},
   "source": [
    "## Math expressions: Eliminating ambiguity\n",
    "\n",
    "- BODMAS"
   ]
  },
  {
   "cell_type": "code",
   "execution_count": 79,
   "id": "864d8212",
   "metadata": {},
   "outputs": [
    {
     "data": {
      "text/plain": [
       "5"
      ]
     },
     "execution_count": 79,
     "metadata": {},
     "output_type": "execute_result"
    }
   ],
   "source": [
    "1 +2 +2"
   ]
  },
  {
   "cell_type": "code",
   "execution_count": 80,
   "id": "05acbd0a",
   "metadata": {},
   "outputs": [
    {
     "data": {
      "text/plain": [
       "5"
      ]
     },
     "execution_count": 80,
     "metadata": {},
     "output_type": "execute_result"
    }
   ],
   "source": [
    "1 +2 *2"
   ]
  },
  {
   "cell_type": "code",
   "execution_count": 81,
   "id": "ef33ad83",
   "metadata": {},
   "outputs": [
    {
     "data": {
      "text/plain": [
       "0"
      ]
     },
     "execution_count": 81,
     "metadata": {},
     "output_type": "execute_result"
    }
   ],
   "source": [
    "1 + (3 - 4)"
   ]
  },
  {
   "cell_type": "markdown",
   "id": "2a9bd1c9",
   "metadata": {},
   "source": [
    "= ((2 * 4) * 4) + 2\n",
    "\n",
    "=2*4 ==>8\n",
    "\n",
    "=8*4==>32\n",
    "\n",
    "=32+2==>34"
   ]
  },
  {
   "cell_type": "code",
   "execution_count": 76,
   "id": "1ce7f153",
   "metadata": {},
   "outputs": [
    {
     "data": {
      "text/plain": [
       "34"
      ]
     },
     "execution_count": 76,
     "metadata": {},
     "output_type": "execute_result"
    }
   ],
   "source": [
    "((2 * 4) * 4) + 2"
   ]
  },
  {
   "cell_type": "markdown",
   "id": "b49375c2",
   "metadata": {},
   "source": [
    "2*4 ==> 8\n",
    "4+2 ==> 6\n",
    "8*6 ===> 48"
   ]
  },
  {
   "cell_type": "code",
   "execution_count": 77,
   "id": "fc787f9a",
   "metadata": {},
   "outputs": [
    {
     "data": {
      "text/plain": [
       "48"
      ]
     },
     "execution_count": 77,
     "metadata": {},
     "output_type": "execute_result"
    }
   ],
   "source": [
    "(2 * 4) * (4 + 2)"
   ]
  },
  {
   "cell_type": "code",
   "execution_count": null,
   "id": "18afd358",
   "metadata": {},
   "outputs": [],
   "source": []
  }
 ],
 "metadata": {
  "kernelspec": {
   "display_name": "Python 3 (ipykernel)",
   "language": "python",
   "name": "python3"
  },
  "language_info": {
   "codemirror_mode": {
    "name": "ipython",
    "version": 3
   },
   "file_extension": ".py",
   "mimetype": "text/x-python",
   "name": "python",
   "nbconvert_exporter": "python",
   "pygments_lexer": "ipython3",
   "version": "3.11.5"
  },
  "toc": {
   "base_numbering": 1,
   "nav_menu": {},
   "number_sections": true,
   "sideBar": true,
   "skip_h1_title": false,
   "title_cell": "Table of Contents",
   "title_sidebar": "Contents",
   "toc_cell": false,
   "toc_position": {},
   "toc_section_display": true,
   "toc_window_display": false
  }
 },
 "nbformat": 4,
 "nbformat_minor": 5
}
