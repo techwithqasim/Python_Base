{
 "cells": [
  {
   "cell_type": "code",
   "execution_count": 11,
   "id": "06dd133a",
   "metadata": {},
   "outputs": [],
   "source": [
    "list1 = ['Cat', 'Banana', 'Dog', 'Apple']"
   ]
  },
  {
   "cell_type": "code",
   "execution_count": 5,
   "id": "e38fa959",
   "metadata": {},
   "outputs": [],
   "source": [
    "list1.sort()"
   ]
  },
  {
   "cell_type": "code",
   "execution_count": 6,
   "id": "3c2efb50",
   "metadata": {},
   "outputs": [
    {
     "data": {
      "text/plain": [
       "['A', 'Banana', 'Cat', 'D']"
      ]
     },
     "execution_count": 6,
     "metadata": {},
     "output_type": "execute_result"
    }
   ],
   "source": [
    "list1"
   ]
  },
  {
   "cell_type": "code",
   "execution_count": 7,
   "id": "cf918b09",
   "metadata": {},
   "outputs": [],
   "source": [
    "list2 = list1.copy()"
   ]
  },
  {
   "cell_type": "code",
   "execution_count": 12,
   "id": "a5d1188f",
   "metadata": {},
   "outputs": [
    {
     "data": {
      "text/plain": [
       "['A', 'Banana', 'Cat', 'D']"
      ]
     },
     "execution_count": 12,
     "metadata": {},
     "output_type": "execute_result"
    }
   ],
   "source": [
    "list2"
   ]
  },
  {
   "cell_type": "code",
   "execution_count": 13,
   "id": "d2d26c03",
   "metadata": {},
   "outputs": [
    {
     "data": {
      "text/plain": [
       "2400885711744"
      ]
     },
     "execution_count": 13,
     "metadata": {},
     "output_type": "execute_result"
    }
   ],
   "source": [
    "id(list1)"
   ]
  },
  {
   "cell_type": "code",
   "execution_count": 14,
   "id": "4b2e39b4",
   "metadata": {},
   "outputs": [
    {
     "data": {
      "text/plain": [
       "2400885664256"
      ]
     },
     "execution_count": 14,
     "metadata": {},
     "output_type": "execute_result"
    }
   ],
   "source": [
    "id(list2)"
   ]
  },
  {
   "cell_type": "markdown",
   "id": "a802f352",
   "metadata": {},
   "source": [
    "### Loops"
   ]
  },
  {
   "cell_type": "code",
   "execution_count": 16,
   "id": "e4932e77",
   "metadata": {},
   "outputs": [
    {
     "name": "stdout",
     "output_type": "stream",
     "text": [
      "Not Found\n",
      "Not Found\n",
      "Found DOG in list\n"
     ]
    }
   ],
   "source": [
    "for temp_var in list1:\n",
    "    if temp_var == 'Dog':\n",
    "        print(\"Found DOG in list\")\n",
    "        break\n",
    "    else:\n",
    "        print(\"Not Found\")"
   ]
  },
  {
   "cell_type": "code",
   "execution_count": 17,
   "id": "3f28010f",
   "metadata": {},
   "outputs": [
    {
     "name": "stdout",
     "output_type": "stream",
     "text": [
      "Not Found\n",
      "Not Found\n",
      "Found DOG in list\n",
      "Not Found\n"
     ]
    }
   ],
   "source": [
    "for temp_var in list1:\n",
    "    if temp_var == 'Dog':\n",
    "        print(\"Found DOG in list\")\n",
    "    else:\n",
    "        print(\"Not Found\")"
   ]
  },
  {
   "cell_type": "code",
   "execution_count": 18,
   "id": "d6578230",
   "metadata": {},
   "outputs": [
    {
     "name": "stdout",
     "output_type": "stream",
     "text": [
      "Not Found\n",
      "Not Found\n",
      "Not Found\n"
     ]
    }
   ],
   "source": [
    "for temp_var in list1:\n",
    "    if temp_var == 'Dog':\n",
    "        continue\n",
    "        print(\"Found DOG in list\")\n",
    "    else:\n",
    "        print(\"Not Found\")"
   ]
  },
  {
   "cell_type": "code",
   "execution_count": 19,
   "id": "b69aad0a",
   "metadata": {},
   "outputs": [
    {
     "name": "stdout",
     "output_type": "stream",
     "text": [
      "0\n",
      "1\n",
      "2\n",
      "3\n",
      "4\n",
      "5\n",
      "6\n",
      "7\n",
      "8\n",
      "9\n"
     ]
    }
   ],
   "source": [
    "for temp in range(10):\n",
    "    print(temp)"
   ]
  },
  {
   "cell_type": "code",
   "execution_count": 21,
   "id": "24d467ed",
   "metadata": {},
   "outputs": [
    {
     "name": "stdout",
     "output_type": "stream",
     "text": [
      "1\n",
      "2\n",
      "3\n",
      "4\n",
      "5\n",
      "6\n",
      "7\n",
      "8\n",
      "9\n",
      "10\n"
     ]
    }
   ],
   "source": [
    "for temp in range(1, 11):\n",
    "    print(temp)"
   ]
  },
  {
   "cell_type": "code",
   "execution_count": 22,
   "id": "e5c1fddf",
   "metadata": {},
   "outputs": [
    {
     "name": "stdout",
     "output_type": "stream",
     "text": [
      "2 x 1 = 2\n",
      "2 x 2 = 4\n",
      "2 x 3 = 6\n",
      "2 x 4 = 8\n",
      "2 x 5 = 10\n",
      "2 x 6 = 12\n",
      "2 x 7 = 14\n",
      "2 x 8 = 16\n",
      "2 x 9 = 18\n",
      "2 x 10 = 20\n"
     ]
    }
   ],
   "source": [
    "for temp in range(1, 11):\n",
    "    print(f\"2 x {temp} = {temp * 2}\")"
   ]
  },
  {
   "cell_type": "code",
   "execution_count": 23,
   "id": "862e4359",
   "metadata": {},
   "outputs": [
    {
     "data": {
      "text/plain": [
       "'2 x 1 = 2'"
      ]
     },
     "execution_count": 23,
     "metadata": {},
     "output_type": "execute_result"
    }
   ],
   "source": [
    "f\"2 x {1} = {1 * 2}\""
   ]
  },
  {
   "cell_type": "code",
   "execution_count": 25,
   "id": "afc1ca6a",
   "metadata": {},
   "outputs": [
    {
     "data": {
      "text/plain": [
       "'2 x 1 = '"
      ]
     },
     "execution_count": 25,
     "metadata": {},
     "output_type": "execute_result"
    }
   ],
   "source": [
    "\"2 x \"+ str(1) + \" = \""
   ]
  },
  {
   "cell_type": "code",
   "execution_count": 26,
   "id": "436d6d7b",
   "metadata": {},
   "outputs": [
    {
     "name": "stdout",
     "output_type": "stream",
     "text": [
      "2 x 1 = 2\n",
      "3 x 1 = 3\n",
      "4 x 1 = 4\n",
      "5 x 1 = 5\n",
      "2 x 2 = 4\n",
      "3 x 2 = 6\n",
      "4 x 2 = 8\n",
      "5 x 2 = 10\n",
      "2 x 3 = 6\n",
      "3 x 3 = 9\n",
      "4 x 3 = 12\n",
      "5 x 3 = 15\n",
      "2 x 4 = 8\n",
      "3 x 4 = 12\n",
      "4 x 4 = 16\n",
      "5 x 4 = 20\n",
      "2 x 5 = 10\n",
      "3 x 5 = 15\n",
      "4 x 5 = 20\n",
      "5 x 5 = 25\n",
      "2 x 6 = 12\n",
      "3 x 6 = 18\n",
      "4 x 6 = 24\n",
      "5 x 6 = 30\n",
      "2 x 7 = 14\n",
      "3 x 7 = 21\n",
      "4 x 7 = 28\n",
      "5 x 7 = 35\n",
      "2 x 8 = 16\n",
      "3 x 8 = 24\n",
      "4 x 8 = 32\n",
      "5 x 8 = 40\n",
      "2 x 9 = 18\n",
      "3 x 9 = 27\n",
      "4 x 9 = 36\n",
      "5 x 9 = 45\n",
      "2 x 10 = 20\n",
      "3 x 10 = 30\n",
      "4 x 10 = 40\n",
      "5 x 10 = 50\n"
     ]
    }
   ],
   "source": [
    "for temp in range(1, 11):\n",
    "    print(f\"2 x {temp} = {temp * 2}\")\n",
    "    print(f\"3 x {temp} = {temp * 3}\")\n",
    "    print(f\"4 x {temp} = {temp * 4}\")\n",
    "    print(f\"5 x {temp} = {temp * 5}\")"
   ]
  },
  {
   "cell_type": "code",
   "execution_count": 27,
   "id": "d90d3005",
   "metadata": {},
   "outputs": [
    {
     "name": "stdout",
     "output_type": "stream",
     "text": [
      "2 x 1 = 2\n",
      "2 x 2 = 4\n",
      "2 x 3 = 6\n",
      "2 x 4 = 8\n",
      "2 x 5 = 10\n",
      "2 x 6 = 12\n",
      "2 x 7 = 14\n",
      "2 x 8 = 16\n",
      "2 x 9 = 18\n",
      "2 x 10 = 20\n",
      "3 x 1 = 3\n",
      "3 x 2 = 6\n",
      "3 x 3 = 9\n",
      "3 x 4 = 12\n",
      "3 x 5 = 15\n",
      "3 x 6 = 18\n",
      "3 x 7 = 21\n",
      "3 x 8 = 24\n",
      "3 x 9 = 27\n",
      "3 x 10 = 30\n",
      "4 x 1 = 4\n",
      "4 x 2 = 8\n",
      "4 x 3 = 12\n",
      "4 x 4 = 16\n",
      "4 x 5 = 20\n",
      "4 x 6 = 24\n",
      "4 x 7 = 28\n",
      "4 x 8 = 32\n",
      "4 x 9 = 36\n",
      "4 x 10 = 40\n",
      "5 x 1 = 5\n",
      "5 x 2 = 10\n",
      "5 x 3 = 15\n",
      "5 x 4 = 20\n",
      "5 x 5 = 25\n",
      "5 x 6 = 30\n",
      "5 x 7 = 35\n",
      "5 x 8 = 40\n",
      "5 x 9 = 45\n",
      "5 x 10 = 50\n"
     ]
    }
   ],
   "source": [
    "for temp in range(1, 11):\n",
    "    print(f\"2 x {temp} = {temp * 2}\")\n",
    "    for temp in range(1, 11):\n",
    "        print(f\"3 x {temp} = {temp * 3}\")\n",
    "    for temp in range(1, 11):\n",
    "    print(f\"4 x {temp} = {temp * 4}\")\n",
    "for temp in range(1, 11):\n",
    "    print(f\"5 x {temp} = {temp * 5}\")"
   ]
  },
  {
   "cell_type": "code",
   "execution_count": 28,
   "id": "c4edabb4",
   "metadata": {},
   "outputs": [
    {
     "name": "stdout",
     "output_type": "stream",
     "text": [
      "table of 2\n",
      "2 * 1 = 2\n",
      "2 * 2 = 4\n",
      "2 * 3 = 6\n",
      "2 * 4 = 8\n",
      "2 * 5 = 10\n",
      "2 * 6 = 12\n",
      "2 * 7 = 14\n",
      "2 * 8 = 16\n",
      "2 * 9 = 18\n",
      "2 * 10 = 20\n",
      "table of 3\n",
      "3 * 1 = 3\n",
      "3 * 2 = 6\n",
      "3 * 3 = 9\n",
      "3 * 4 = 12\n",
      "3 * 5 = 15\n",
      "3 * 6 = 18\n",
      "3 * 7 = 21\n",
      "3 * 8 = 24\n",
      "3 * 9 = 27\n",
      "3 * 10 = 30\n",
      "table of 4\n",
      "4 * 1 = 4\n",
      "4 * 2 = 8\n",
      "4 * 3 = 12\n",
      "4 * 4 = 16\n",
      "4 * 5 = 20\n",
      "4 * 6 = 24\n",
      "4 * 7 = 28\n",
      "4 * 8 = 32\n",
      "4 * 9 = 36\n",
      "4 * 10 = 40\n",
      "table of 5\n",
      "5 * 1 = 5\n",
      "5 * 2 = 10\n",
      "5 * 3 = 15\n",
      "5 * 4 = 20\n",
      "5 * 5 = 25\n",
      "5 * 6 = 30\n",
      "5 * 7 = 35\n",
      "5 * 8 = 40\n",
      "5 * 9 = 45\n",
      "5 * 10 = 50\n"
     ]
    }
   ],
   "source": [
    "for temp in range(2, 6):\n",
    "    print(f\"table of {temp}\")\n",
    "    for temp_2 in range(1, 11):\n",
    "        print(f\"{temp} * {temp_2} = {temp * temp_2}\")"
   ]
  },
  {
   "cell_type": "code",
   "execution_count": 30,
   "id": "e17f9f90",
   "metadata": {},
   "outputs": [
    {
     "data": {
      "text/plain": [
       "'CAT'"
      ]
     },
     "execution_count": 30,
     "metadata": {},
     "output_type": "execute_result"
    }
   ],
   "source": [
    "\"cat\".upper()"
   ]
  },
  {
   "cell_type": "code",
   "execution_count": 29,
   "id": "36a27d5d",
   "metadata": {},
   "outputs": [
    {
     "data": {
      "text/plain": [
       "['Cat', 'Banana', 'Dog', 'Apple']"
      ]
     },
     "execution_count": 29,
     "metadata": {},
     "output_type": "execute_result"
    }
   ],
   "source": [
    "list1"
   ]
  },
  {
   "cell_type": "code",
   "execution_count": 32,
   "id": "ff2faef6",
   "metadata": {},
   "outputs": [],
   "source": [
    "list_upper= []\n",
    "for temp in list1:\n",
    "    list_upper.append(temp.upper())"
   ]
  },
  {
   "cell_type": "code",
   "execution_count": 33,
   "id": "4e2d7f94",
   "metadata": {},
   "outputs": [
    {
     "data": {
      "text/plain": [
       "['CAT', 'BANANA', 'DOG', 'APPLE']"
      ]
     },
     "execution_count": 33,
     "metadata": {},
     "output_type": "execute_result"
    }
   ],
   "source": [
    "list_upper"
   ]
  },
  {
   "cell_type": "code",
   "execution_count": 34,
   "id": "0fe11f75",
   "metadata": {},
   "outputs": [],
   "source": [
    "list_lower= []\n",
    "for temp in list1:\n",
    "    list_lower.append(temp.lower())"
   ]
  },
  {
   "cell_type": "code",
   "execution_count": 35,
   "id": "07e39ead",
   "metadata": {},
   "outputs": [
    {
     "data": {
      "text/plain": [
       "['cat', 'banana', 'dog', 'apple']"
      ]
     },
     "execution_count": 35,
     "metadata": {},
     "output_type": "execute_result"
    }
   ],
   "source": [
    "list_lower"
   ]
  },
  {
   "cell_type": "code",
   "execution_count": 36,
   "id": "183c99ed",
   "metadata": {},
   "outputs": [
    {
     "data": {
      "text/plain": [
       "'Cat'"
      ]
     },
     "execution_count": 36,
     "metadata": {},
     "output_type": "execute_result"
    }
   ],
   "source": [
    "\"cat\".title()"
   ]
  },
  {
   "cell_type": "code",
   "execution_count": 37,
   "id": "836f37a2",
   "metadata": {},
   "outputs": [],
   "source": [
    "first_names = [\"BlueRay \", \"Upchuck \", \"Lojack \",\"Gizmo \", \"Do-Rag \"]\n",
    "last_names = [\"Zzz\", \"Burp\", \"Dogbone\", \"Droop\"]\n",
    "full_names = []\n",
    "for a_first_name in first_names:\n",
    "    for a_last_name in last_names:\n",
    "        full_names.append(a_first_name + \" \" +a_last_name)"
   ]
  },
  {
   "cell_type": "code",
   "execution_count": 38,
   "id": "af423e7c",
   "metadata": {},
   "outputs": [
    {
     "data": {
      "text/plain": [
       "['BlueRay  Zzz',\n",
       " 'BlueRay  Burp',\n",
       " 'BlueRay  Dogbone',\n",
       " 'BlueRay  Droop',\n",
       " 'Upchuck  Zzz',\n",
       " 'Upchuck  Burp',\n",
       " 'Upchuck  Dogbone',\n",
       " 'Upchuck  Droop',\n",
       " 'Lojack  Zzz',\n",
       " 'Lojack  Burp',\n",
       " 'Lojack  Dogbone',\n",
       " 'Lojack  Droop',\n",
       " 'Gizmo  Zzz',\n",
       " 'Gizmo  Burp',\n",
       " 'Gizmo  Dogbone',\n",
       " 'Gizmo  Droop',\n",
       " 'Do-Rag  Zzz',\n",
       " 'Do-Rag  Burp',\n",
       " 'Do-Rag  Dogbone',\n",
       " 'Do-Rag  Droop']"
      ]
     },
     "execution_count": 38,
     "metadata": {},
     "output_type": "execute_result"
    }
   ],
   "source": [
    "full_names"
   ]
  },
  {
   "cell_type": "code",
   "execution_count": 40,
   "id": "81ea140f",
   "metadata": {},
   "outputs": [
    {
     "name": "stdout",
     "output_type": "stream",
     "text": [
      "Want to print Table from: 2\n",
      "Want to print Table till: 7\n",
      "How many time you want to print: 5\n",
      "table of 2\n",
      "2 * 1 = 2\n",
      "2 * 2 = 4\n",
      "2 * 3 = 6\n",
      "2 * 4 = 8\n",
      "2 * 5 = 10\n",
      "table of 3\n",
      "3 * 1 = 3\n",
      "3 * 2 = 6\n",
      "3 * 3 = 9\n",
      "3 * 4 = 12\n",
      "3 * 5 = 15\n",
      "table of 4\n",
      "4 * 1 = 4\n",
      "4 * 2 = 8\n",
      "4 * 3 = 12\n",
      "4 * 4 = 16\n",
      "4 * 5 = 20\n",
      "table of 5\n",
      "5 * 1 = 5\n",
      "5 * 2 = 10\n",
      "5 * 3 = 15\n",
      "5 * 4 = 20\n",
      "5 * 5 = 25\n",
      "table of 6\n",
      "6 * 1 = 6\n",
      "6 * 2 = 12\n",
      "6 * 3 = 18\n",
      "6 * 4 = 24\n",
      "6 * 5 = 30\n"
     ]
    }
   ],
   "source": [
    "table_start = int(input(\"Want to print Table from: \"))\n",
    "table_end = int(input(\"Want to print Table till: \"))\n",
    "table_length = int(input(\"How many time you want to print: \"))\n",
    "\n",
    "for temp in range(table_start, table_end):\n",
    "    print(f\"table of {temp}\")\n",
    "    for temp_2 in range(1, table_length+1):\n",
    "        print(f\"{temp} * {temp_2} = {temp * temp_2}\")"
   ]
  },
  {
   "cell_type": "code",
   "execution_count": 43,
   "id": "f22107b1",
   "metadata": {},
   "outputs": [
    {
     "name": "stdout",
     "output_type": "stream",
     "text": [
      "Enter your name: QASIM\n",
      "Enter your Father name: HASSAN\n",
      "Enter your CNIC number: 1234567890\n",
      "In which course you're enrolled: 9 to 11\n",
      "**********SAYLANI (SMIT)***********\n",
      "NAME: QASIM\n",
      "FATHER NAME: HASSAN\n",
      " CNIC: 1234567890\n",
      " COURSE: 9 to 11\n",
      "************************************\n"
     ]
    }
   ],
   "source": [
    "name = input(\"Enter your name: \")\n",
    "father_name = input(\"Enter your Father name: \")\n",
    "cnic = int(input(\"Enter your CNIC number: \"))\n",
    "course = input(\"In which course you're enrolled: \")\n",
    "\n",
    "print(\"**********SAYLANI (SMIT)***********\")\n",
    "print(f\"NAME: {name}\")\n",
    "print(f\"FATHER NAME: {father_name}\")\n",
    "print(f\"CNIC: {cnic}\")\n",
    "print(f\"COURSE: {course}\")\n",
    "print(\"************************************\")"
   ]
  },
  {
   "cell_type": "code",
   "execution_count": 48,
   "id": "30ada7e6",
   "metadata": {},
   "outputs": [
    {
     "name": "stdout",
     "output_type": "stream",
     "text": [
      "Enter your name: QASIM\n",
      "Enter your Father name: HASSAN\n",
      "Enter your CNIC number: 1234567890\n",
      "In which course you're enrolled: 9 to 11\n",
      "**********SAYLANI (SMIT)***********\n",
      "NAME: QASIM HASSAN\n",
      "FATHER NAME: HASSAN\n",
      "CNIC: 1234567890\n",
      "COURSE: 9 to 11\n",
      "************************************\n"
     ]
    }
   ],
   "source": [
    "name = input(\"Enter your name: \")\n",
    "father_name = input(\"Enter your Father name: \")\n",
    "cnic = int(input(\"Enter your CNIC number: \"))\n",
    "course = input(\"In which course you're enrolled: \")\n",
    "\n",
    "print(\"**********SAYLANI (SMIT)***********\")\n",
    "print(\"NAME: {0} {1}\".format(name, father_name))\n",
    "print(\"FATHER NAME: {0}\".format(father_name))\n",
    "print(\"CNIC: {0}\".format(cnic))\n",
    "print(\"COURSE: {0}\".format(course))\n",
    "print(\"************************************\")"
   ]
  },
  {
   "cell_type": "code",
   "execution_count": 54,
   "id": "14bde51f",
   "metadata": {},
   "outputs": [
    {
     "name": "stdout",
     "output_type": "stream",
     "text": [
      "Enter your name: qasim\n",
      "Enter your Father name: hassan\n",
      "Enter your CNIC number: 12345678\n",
      "In which course you're enrolled:  9 to 11\n",
      "**********SAYLANI (SMIT)***********\n",
      " NAME : qasim \n",
      " FATHER NAME : hassan \n",
      " ID : 12345678 \n",
      " COURSE :  9 to 11 \n",
      "***********************************\n"
     ]
    }
   ],
   "source": [
    "# single print is used\n",
    "# \\n for next line\n",
    "# \\ for line continue\n",
    "\n",
    "name = input(\"Enter your name: \")\n",
    "father_name = input(\"Enter your Father name: \")\n",
    "cnic = int(input(\"Enter your CNIC number: \"))\n",
    "course = input(\"In which course you're enrolled: \")\n",
    "print(f\"**********SAYLANI (SMIT)***********\\n NAME : {name} \\n FATHER NAME : \\\n",
    "{father_name} \\n ID : {cnic} \\n COURSE : {course} \\\n",
    "\\n***********************************\" )"
   ]
  },
  {
   "cell_type": "code",
   "execution_count": 55,
   "id": "2ad9ee4f",
   "metadata": {},
   "outputs": [
    {
     "name": "stdout",
     "output_type": "stream",
     "text": [
      "Enter your name: QASIM\n",
      "Enter your Father name: HASSAN\n",
      "Enter your CNIC number: 1234567890\n",
      "In which course you're enrolled: Python Programming\n",
      "**********SAYLANI (SMIT)***********\n",
      " NAME : QASIM \n",
      " FATHER NAME : HASSAN \n",
      " ID : 1234567890 \n",
      " COURSE : Python Programming \n",
      "***********************************\n"
     ]
    }
   ],
   "source": [
    "# single print is used\n",
    "# \\n for next line\n",
    "# \\ for line continue\n",
    "\n",
    "name = input(\"Enter your name: \")\n",
    "father_name = input(\"Enter your Father name: \")\n",
    "cnic = int(input(\"Enter your CNIC number: \"))\n",
    "course = input(\"In which course you're enrolled: \")\n",
    "print(\"**********SAYLANI (SMIT)***********\\n NAME : {0} \\n FATHER NAME : \\\n",
    "{1} \\n ID : {2} \\n COURSE : {3} \\\n",
    "\\n***********************************\".format(name, father_name, cnic, course))"
   ]
  },
  {
   "cell_type": "code",
   "execution_count": null,
   "id": "4cf3b78e",
   "metadata": {},
   "outputs": [],
   "source": [
    "[\"Qasim\", \"Hassan\", 72, 19]"
   ]
  },
  {
   "cell_type": "code",
   "execution_count": null,
   "id": "34b76638",
   "metadata": {},
   "outputs": [],
   "source": [
    "key --> value\n",
    "name --> Qasim\n",
    "fath_name --> Hassan\n",
    "weight ---> 72\n",
    "age --> 19"
   ]
  },
  {
   "cell_type": "code",
   "execution_count": null,
   "id": "bec9ff37",
   "metadata": {},
   "outputs": [],
   "source": [
    "{}"
   ]
  }
 ],
 "metadata": {
  "kernelspec": {
   "display_name": "Python 3 (ipykernel)",
   "language": "python",
   "name": "python3"
  },
  "language_info": {
   "codemirror_mode": {
    "name": "ipython",
    "version": 3
   },
   "file_extension": ".py",
   "mimetype": "text/x-python",
   "name": "python",
   "nbconvert_exporter": "python",
   "pygments_lexer": "ipython3",
   "version": "3.11.5"
  },
  "toc": {
   "base_numbering": 1,
   "nav_menu": {},
   "number_sections": true,
   "sideBar": true,
   "skip_h1_title": false,
   "title_cell": "Table of Contents",
   "title_sidebar": "Contents",
   "toc_cell": false,
   "toc_position": {},
   "toc_section_display": true,
   "toc_window_display": false
  }
 },
 "nbformat": 4,
 "nbformat_minor": 5
}
