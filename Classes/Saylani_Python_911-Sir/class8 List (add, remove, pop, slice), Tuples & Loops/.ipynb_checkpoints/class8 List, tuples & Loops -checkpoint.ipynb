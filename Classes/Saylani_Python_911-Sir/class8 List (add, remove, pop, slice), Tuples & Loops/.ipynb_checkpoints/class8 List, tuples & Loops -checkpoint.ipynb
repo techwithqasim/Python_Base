{
 "cells": [
  {
   "cell_type": "code",
   "execution_count": 26,
   "id": "0b3e6b57",
   "metadata": {},
   "outputs": [],
   "source": [
    "countries = [\"Atlanta\", \"Baltimore\", \"Chicago\", \"Denver\"]"
   ]
  },
  {
   "cell_type": "code",
   "execution_count": 2,
   "id": "bd317c8c",
   "metadata": {},
   "outputs": [
    {
     "data": {
      "text/plain": [
       "['Atlanta', 'Baltimore', 'Chicago', 'Denver']"
      ]
     },
     "execution_count": 2,
     "metadata": {},
     "output_type": "execute_result"
    }
   ],
   "source": [
    "countries"
   ]
  },
  {
   "cell_type": "code",
   "execution_count": 3,
   "id": "a035cd6f",
   "metadata": {},
   "outputs": [],
   "source": [
    "bio_data = [\"Qasim\", \"Hassan\", 18, 40.5, False, \"4321-234567-0\"]"
   ]
  },
  {
   "cell_type": "markdown",
   "id": "f279bb53",
   "metadata": {},
   "source": [
    "## Appending values in List"
   ]
  },
  {
   "cell_type": "code",
   "execution_count": 27,
   "id": "1ac127dd",
   "metadata": {},
   "outputs": [],
   "source": [
    "countries = countries + [\"seattle\", \"Los Angles\"]"
   ]
  },
  {
   "cell_type": "code",
   "execution_count": 5,
   "id": "a0aa41dc",
   "metadata": {},
   "outputs": [
    {
     "data": {
      "text/plain": [
       "['Atlanta', 'Baltimore', 'Chicago', 'Denver', 'seattle', 'Los Angles']"
      ]
     },
     "execution_count": 5,
     "metadata": {},
     "output_type": "execute_result"
    }
   ],
   "source": [
    "countries"
   ]
  },
  {
   "cell_type": "code",
   "execution_count": 28,
   "id": "96904b6b",
   "metadata": {},
   "outputs": [],
   "source": [
    "larger_countries_list = countries + ['New York']"
   ]
  },
  {
   "cell_type": "raw",
   "id": "1d49e43d",
   "metadata": {},
   "source": [
    "larger_countries_list = countries + ['New York']\n",
    "  NAME                  old_list  +  new_list"
   ]
  },
  {
   "cell_type": "code",
   "execution_count": 52,
   "id": "6f6132e1",
   "metadata": {},
   "outputs": [
    {
     "data": {
      "text/plain": [
       "['Atlanta',\n",
       " 'Baltimore',\n",
       " 'Chicago',\n",
       " 'Denver',\n",
       " 'seattle',\n",
       " 'Los Angles',\n",
       " 'New York']"
      ]
     },
     "execution_count": 52,
     "metadata": {},
     "output_type": "execute_result"
    }
   ],
   "source": [
    "larger_countries_list"
   ]
  },
  {
   "cell_type": "code",
   "execution_count": 30,
   "id": "aedaabbe",
   "metadata": {},
   "outputs": [
    {
     "data": {
      "text/plain": [
       "list"
      ]
     },
     "execution_count": 30,
     "metadata": {},
     "output_type": "execute_result"
    }
   ],
   "source": [
    "type(larger_countries_list)"
   ]
  },
  {
   "cell_type": "code",
   "execution_count": 53,
   "id": "1277df14",
   "metadata": {},
   "outputs": [
    {
     "data": {
      "text/plain": [
       "['Pakistan',\n",
       " 'Dallas',\n",
       " 'Atlanta',\n",
       " 'Baltimore',\n",
       " 'Chicago',\n",
       " 'Denver',\n",
       " 'seattle',\n",
       " 'Los Angles',\n",
       " 'New York']"
      ]
     },
     "execution_count": 53,
     "metadata": {},
     "output_type": "execute_result"
    }
   ],
   "source": [
    "countries"
   ]
  },
  {
   "cell_type": "code",
   "execution_count": 62,
   "id": "9457adac",
   "metadata": {},
   "outputs": [],
   "source": [
    "countries.append('New York')"
   ]
  },
  {
   "cell_type": "code",
   "execution_count": 63,
   "id": "4abb423e",
   "metadata": {},
   "outputs": [
    {
     "data": {
      "text/plain": [
       "['Pakistan',\n",
       " 'Dallas',\n",
       " 'Atlanta',\n",
       " 'Baltimore',\n",
       " 'Chicago',\n",
       " 'Denver',\n",
       " 'seattle',\n",
       " 'Los Angles',\n",
       " 'New York',\n",
       " 'New York']"
      ]
     },
     "execution_count": 63,
     "metadata": {},
     "output_type": "execute_result"
    }
   ],
   "source": [
    "countries"
   ]
  },
  {
   "cell_type": "code",
   "execution_count": null,
   "id": "8a9e9ceb",
   "metadata": {},
   "outputs": [],
   "source": [
    "countries.append()"
   ]
  },
  {
   "cell_type": "code",
   "execution_count": null,
   "id": "ec091d63",
   "metadata": {},
   "outputs": [],
   "source": [
    "countries.clear()"
   ]
  },
  {
   "cell_type": "code",
   "execution_count": null,
   "id": "76b3dc2c",
   "metadata": {
    "collapsed": true
   },
   "outputs": [],
   "source": [
    "countries.copy()"
   ]
  },
  {
   "cell_type": "code",
   "execution_count": null,
   "id": "7d01807a",
   "metadata": {
    "collapsed": true
   },
   "outputs": [],
   "source": [
    "countries.count()"
   ]
  },
  {
   "cell_type": "raw",
   "id": "ab9cc346",
   "metadata": {},
   "source": []
  },
  {
   "cell_type": "code",
   "execution_count": 65,
   "id": "843b7dcd",
   "metadata": {},
   "outputs": [],
   "source": [
    "countries.remove('New York')"
   ]
  },
  {
   "cell_type": "code",
   "execution_count": 34,
   "id": "d6d2ef65",
   "metadata": {},
   "outputs": [],
   "source": [
    "countries.insert(0, 'Pakistan')"
   ]
  },
  {
   "cell_type": "code",
   "execution_count": 57,
   "id": "acf57503",
   "metadata": {},
   "outputs": [
    {
     "data": {
      "text/plain": [
       "['Pakistan',\n",
       " 'Dallas',\n",
       " 'Atlanta',\n",
       " 'Baltimore',\n",
       " 'Chicago',\n",
       " 'Denver',\n",
       " 'seattle',\n",
       " 'Los Angles',\n",
       " 'New York']"
      ]
     },
     "execution_count": 57,
     "metadata": {},
     "output_type": "execute_result"
    }
   ],
   "source": [
    "countries.copy()"
   ]
  },
  {
   "cell_type": "code",
   "execution_count": 66,
   "id": "2a389bb3",
   "metadata": {},
   "outputs": [
    {
     "data": {
      "text/plain": [
       "1"
      ]
     },
     "execution_count": 66,
     "metadata": {},
     "output_type": "execute_result"
    }
   ],
   "source": [
    "countries.count('New York')"
   ]
  },
  {
   "cell_type": "code",
   "execution_count": null,
   "id": "170233ad",
   "metadata": {},
   "outputs": [],
   "source": []
  },
  {
   "cell_type": "code",
   "execution_count": 37,
   "id": "d10d929e",
   "metadata": {},
   "outputs": [
    {
     "data": {
      "text/plain": [
       "['Pakistan',\n",
       " 'Dallas',\n",
       " 'Atlanta',\n",
       " 'Baltimore',\n",
       " 'Chicago',\n",
       " 'Denver',\n",
       " 'seattle',\n",
       " 'Los Angles',\n",
       " 'New York']"
      ]
     },
     "execution_count": 37,
     "metadata": {},
     "output_type": "execute_result"
    }
   ],
   "source": [
    "countries"
   ]
  },
  {
   "cell_type": "markdown",
   "id": "0df2696f",
   "metadata": {},
   "source": [
    "### Slicing"
   ]
  },
  {
   "cell_type": "code",
   "execution_count": 16,
   "id": "127aa97d",
   "metadata": {},
   "outputs": [
    {
     "data": {
      "text/plain": [
       "['Pakistan',\n",
       " 'Atlanta',\n",
       " 'Baltimore',\n",
       " 'Chicago',\n",
       " 'Denver',\n",
       " 'seattle',\n",
       " 'Los Angles',\n",
       " 'New York']"
      ]
     },
     "execution_count": 16,
     "metadata": {},
     "output_type": "execute_result"
    }
   ],
   "source": [
    "countries"
   ]
  },
  {
   "cell_type": "code",
   "execution_count": 17,
   "id": "386572bf",
   "metadata": {},
   "outputs": [],
   "source": [
    "# 1 2 3 4 -> 1(include), 4(exclude)\n",
    "# index starts from 0 \n",
    "slicedlist = countries[1:4]"
   ]
  },
  {
   "cell_type": "code",
   "execution_count": 18,
   "id": "8ef67431",
   "metadata": {},
   "outputs": [
    {
     "data": {
      "text/plain": [
       "['Atlanta', 'Baltimore', 'Chicago']"
      ]
     },
     "execution_count": 18,
     "metadata": {},
     "output_type": "execute_result"
    }
   ],
   "source": [
    "slicedlist"
   ]
  },
  {
   "cell_type": "code",
   "execution_count": 19,
   "id": "5f88562c",
   "metadata": {},
   "outputs": [],
   "source": [
    "slicedlist = countries[:4]"
   ]
  },
  {
   "cell_type": "code",
   "execution_count": 20,
   "id": "b1a3c8fa",
   "metadata": {},
   "outputs": [
    {
     "data": {
      "text/plain": [
       "['Pakistan', 'Atlanta', 'Baltimore', 'Chicago']"
      ]
     },
     "execution_count": 20,
     "metadata": {},
     "output_type": "execute_result"
    }
   ],
   "source": [
    "slicedlist"
   ]
  },
  {
   "cell_type": "code",
   "execution_count": 21,
   "id": "354d18fe",
   "metadata": {},
   "outputs": [],
   "source": [
    "slicedlist = countries[1:]"
   ]
  },
  {
   "cell_type": "code",
   "execution_count": 22,
   "id": "573b4c0a",
   "metadata": {},
   "outputs": [
    {
     "data": {
      "text/plain": [
       "['Atlanta',\n",
       " 'Baltimore',\n",
       " 'Chicago',\n",
       " 'Denver',\n",
       " 'seattle',\n",
       " 'Los Angles',\n",
       " 'New York']"
      ]
     },
     "execution_count": 22,
     "metadata": {},
     "output_type": "execute_result"
    }
   ],
   "source": [
    "slicedlist"
   ]
  },
  {
   "cell_type": "code",
   "execution_count": 23,
   "id": "7df8a8b7",
   "metadata": {},
   "outputs": [],
   "source": [
    "slicedlist = countries[:]"
   ]
  },
  {
   "cell_type": "code",
   "execution_count": 24,
   "id": "7f4387d7",
   "metadata": {},
   "outputs": [
    {
     "data": {
      "text/plain": [
       "['Pakistan',\n",
       " 'Atlanta',\n",
       " 'Baltimore',\n",
       " 'Chicago',\n",
       " 'Denver',\n",
       " 'seattle',\n",
       " 'Los Angles',\n",
       " 'New York']"
      ]
     },
     "execution_count": 24,
     "metadata": {},
     "output_type": "execute_result"
    }
   ],
   "source": [
    "slicedlist"
   ]
  },
  {
   "cell_type": "code",
   "execution_count": 26,
   "id": "ef95b586",
   "metadata": {},
   "outputs": [],
   "source": [
    "# -1, -2, -3, \n",
    "slicedlist = countries[-3:]"
   ]
  },
  {
   "cell_type": "code",
   "execution_count": 27,
   "id": "0747412c",
   "metadata": {},
   "outputs": [
    {
     "data": {
      "text/plain": [
       "['seattle', 'Los Angles', 'New York']"
      ]
     },
     "execution_count": 27,
     "metadata": {},
     "output_type": "execute_result"
    }
   ],
   "source": [
    "slicedlist"
   ]
  },
  {
   "cell_type": "markdown",
   "id": "25c6291b",
   "metadata": {},
   "source": [
    "### Deleting Values from List"
   ]
  },
  {
   "cell_type": "code",
   "execution_count": 29,
   "id": "31e6bb7f",
   "metadata": {},
   "outputs": [
    {
     "data": {
      "text/plain": [
       "['Pakistan',\n",
       " 'Atlanta',\n",
       " 'Baltimore',\n",
       " 'Chicago',\n",
       " 'Denver',\n",
       " 'seattle',\n",
       " 'Los Angles',\n",
       " 'New York']"
      ]
     },
     "execution_count": 29,
     "metadata": {},
     "output_type": "execute_result"
    }
   ],
   "source": [
    "countries"
   ]
  },
  {
   "cell_type": "code",
   "execution_count": 30,
   "id": "e9137bd6",
   "metadata": {},
   "outputs": [
    {
     "data": {
      "text/plain": [
       "['Qasim', 'Hassan', 18, 40.5, False, '4321-234567-0']"
      ]
     },
     "execution_count": 30,
     "metadata": {},
     "output_type": "execute_result"
    }
   ],
   "source": [
    "bio_data"
   ]
  },
  {
   "cell_type": "code",
   "execution_count": 31,
   "id": "f0b1fac4",
   "metadata": {},
   "outputs": [],
   "source": [
    "del bio_data[5]"
   ]
  },
  {
   "cell_type": "code",
   "execution_count": 32,
   "id": "1741f8d9",
   "metadata": {},
   "outputs": [
    {
     "data": {
      "text/plain": [
       "['Qasim', 'Hassan', 18, 40.5, False]"
      ]
     },
     "execution_count": 32,
     "metadata": {},
     "output_type": "execute_result"
    }
   ],
   "source": [
    "bio_data"
   ]
  },
  {
   "cell_type": "code",
   "execution_count": 33,
   "id": "ba08898b",
   "metadata": {},
   "outputs": [],
   "source": [
    "bio_data.remove('Hassan')"
   ]
  },
  {
   "cell_type": "code",
   "execution_count": 34,
   "id": "11f91c6e",
   "metadata": {},
   "outputs": [
    {
     "data": {
      "text/plain": [
       "['Qasim', 18, 40.5, False]"
      ]
     },
     "execution_count": 34,
     "metadata": {},
     "output_type": "execute_result"
    }
   ],
   "source": [
    "bio_data"
   ]
  },
  {
   "cell_type": "code",
   "execution_count": 35,
   "id": "c2c5969f",
   "metadata": {},
   "outputs": [
    {
     "ename": "ValueError",
     "evalue": "list.remove(x): x not in list",
     "output_type": "error",
     "traceback": [
      "\u001b[1;31m---------------------------------------------------------------------------\u001b[0m",
      "\u001b[1;31mValueError\u001b[0m                                Traceback (most recent call last)",
      "Cell \u001b[1;32mIn [35], line 1\u001b[0m\n\u001b[1;32m----> 1\u001b[0m \u001b[43mbio_data\u001b[49m\u001b[38;5;241;43m.\u001b[39;49m\u001b[43mremove\u001b[49m\u001b[43m(\u001b[49m\u001b[38;5;124;43m'\u001b[39;49m\u001b[38;5;124;43mAli\u001b[39;49m\u001b[38;5;124;43m'\u001b[39;49m\u001b[43m)\u001b[49m\n",
      "\u001b[1;31mValueError\u001b[0m: list.remove(x): x not in list"
     ]
    }
   ],
   "source": [
    "bio_data.remove('Ali')"
   ]
  },
  {
   "cell_type": "markdown",
   "id": "64baad02",
   "metadata": {},
   "source": [
    "#### Popping Elements from List"
   ]
  },
  {
   "cell_type": "code",
   "execution_count": 45,
   "id": "c917204b",
   "metadata": {},
   "outputs": [],
   "source": [
    "daily_task = [\"email Frank\", \"call Sarah\", \"meet with Zach\"]"
   ]
  },
  {
   "cell_type": "code",
   "execution_count": 46,
   "id": "6d967b1c",
   "metadata": {},
   "outputs": [
    {
     "data": {
      "text/plain": [
       "'call Sarah'"
      ]
     },
     "execution_count": 46,
     "metadata": {},
     "output_type": "execute_result"
    }
   ],
   "source": [
    "daily_task.pop(1)"
   ]
  },
  {
   "cell_type": "code",
   "execution_count": 48,
   "id": "24c5c952",
   "metadata": {},
   "outputs": [
    {
     "data": {
      "text/plain": [
       "['email Frank', 'meet with Zach']"
      ]
     },
     "execution_count": 48,
     "metadata": {},
     "output_type": "execute_result"
    }
   ],
   "source": [
    "daily_task"
   ]
  },
  {
   "cell_type": "code",
   "execution_count": 49,
   "id": "78e91c1c",
   "metadata": {},
   "outputs": [],
   "source": [
    "task_completed = []"
   ]
  },
  {
   "cell_type": "code",
   "execution_count": 50,
   "id": "35c6e9f9",
   "metadata": {},
   "outputs": [],
   "source": [
    "task_completed =  task_completed + list(daily_task.pop(1))"
   ]
  },
  {
   "cell_type": "code",
   "execution_count": 51,
   "id": "3753fc07",
   "metadata": {},
   "outputs": [
    {
     "data": {
      "text/plain": [
       "['m', 'e', 'e', 't', ' ', 'w', 'i', 't', 'h', ' ', 'Z', 'a', 'c', 'h']"
      ]
     },
     "execution_count": 51,
     "metadata": {},
     "output_type": "execute_result"
    }
   ],
   "source": [
    "task_completed"
   ]
  },
  {
   "cell_type": "code",
   "execution_count": 56,
   "id": "01358c95",
   "metadata": {},
   "outputs": [],
   "source": [
    "daily_task = [\"email Qasim\", \"call Ali\", \"meet with Hassan\"]"
   ]
  },
  {
   "cell_type": "code",
   "execution_count": 57,
   "id": "a9081a92",
   "metadata": {},
   "outputs": [],
   "source": [
    "task_completed = []"
   ]
  },
  {
   "cell_type": "code",
   "execution_count": 60,
   "id": "58e58ff6",
   "metadata": {},
   "outputs": [
    {
     "data": {
      "text/plain": [
       "['email Qasim', 'call Ali', 'meet with Hassan']"
      ]
     },
     "execution_count": 60,
     "metadata": {},
     "output_type": "execute_result"
    }
   ],
   "source": [
    "daily_task"
   ]
  },
  {
   "cell_type": "code",
   "execution_count": 61,
   "id": "64ece4ff",
   "metadata": {},
   "outputs": [
    {
     "data": {
      "text/plain": [
       "[]"
      ]
     },
     "execution_count": 61,
     "metadata": {},
     "output_type": "execute_result"
    }
   ],
   "source": [
    "task_completed"
   ]
  },
  {
   "cell_type": "code",
   "execution_count": 62,
   "id": "98b6a897",
   "metadata": {},
   "outputs": [],
   "source": [
    "task_completed.insert(0, daily_task.pop(1))"
   ]
  },
  {
   "cell_type": "code",
   "execution_count": 63,
   "id": "35a882c7",
   "metadata": {},
   "outputs": [
    {
     "data": {
      "text/plain": [
       "['call Ali']"
      ]
     },
     "execution_count": 63,
     "metadata": {},
     "output_type": "execute_result"
    }
   ],
   "source": [
    "task_completed"
   ]
  },
  {
   "cell_type": "code",
   "execution_count": 64,
   "id": "d120beec",
   "metadata": {},
   "outputs": [],
   "source": [
    "first_name = \"Qasim\""
   ]
  },
  {
   "cell_type": "code",
   "execution_count": 65,
   "id": "690cb4f7",
   "metadata": {},
   "outputs": [],
   "source": [
    "first_name = \"Ali\""
   ]
  },
  {
   "cell_type": "code",
   "execution_count": 66,
   "id": "0b059d09",
   "metadata": {},
   "outputs": [
    {
     "data": {
      "text/plain": [
       "'Ali'"
      ]
     },
     "execution_count": 66,
     "metadata": {},
     "output_type": "execute_result"
    }
   ],
   "source": [
    "first_name"
   ]
  },
  {
   "cell_type": "code",
   "execution_count": 67,
   "id": "c8d9f4d4",
   "metadata": {},
   "outputs": [
    {
     "data": {
      "text/plain": [
       "['Pakistan',\n",
       " 'Atlanta',\n",
       " 'Baltimore',\n",
       " 'Chicago',\n",
       " 'Denver',\n",
       " 'seattle',\n",
       " 'Los Angles',\n",
       " 'New York']"
      ]
     },
     "execution_count": 67,
     "metadata": {},
     "output_type": "execute_result"
    }
   ],
   "source": [
    "countries"
   ]
  },
  {
   "cell_type": "code",
   "execution_count": 68,
   "id": "261a9b03",
   "metadata": {},
   "outputs": [],
   "source": [
    "countries[1] = \"something new\""
   ]
  },
  {
   "cell_type": "code",
   "execution_count": 69,
   "id": "9db37156",
   "metadata": {},
   "outputs": [
    {
     "data": {
      "text/plain": [
       "['Pakistan',\n",
       " 'something new',\n",
       " 'Baltimore',\n",
       " 'Chicago',\n",
       " 'Denver',\n",
       " 'seattle',\n",
       " 'Los Angles',\n",
       " 'New York']"
      ]
     },
     "execution_count": 69,
     "metadata": {},
     "output_type": "execute_result"
    }
   ],
   "source": [
    "countries"
   ]
  },
  {
   "cell_type": "markdown",
   "id": "b689b7be",
   "metadata": {},
   "source": [
    "### Tuples"
   ]
  },
  {
   "cell_type": "code",
   "execution_count": 70,
   "id": "0c852aca",
   "metadata": {},
   "outputs": [],
   "source": [
    "tuple_bio_data = (\"Qasim\", \"Hassan\", 18, 40.5, False, \"4321-234567-0\")"
   ]
  },
  {
   "cell_type": "code",
   "execution_count": 71,
   "id": "ffe41b96",
   "metadata": {},
   "outputs": [
    {
     "data": {
      "text/plain": [
       "('Qasim', 'Hassan', 18, 40.5, False, '4321-234567-0')"
      ]
     },
     "execution_count": 71,
     "metadata": {},
     "output_type": "execute_result"
    }
   ],
   "source": [
    "tuple_bio_data"
   ]
  },
  {
   "cell_type": "code",
   "execution_count": 72,
   "id": "8a3aaf0f",
   "metadata": {},
   "outputs": [
    {
     "data": {
      "text/plain": [
       "tuple"
      ]
     },
     "execution_count": 72,
     "metadata": {},
     "output_type": "execute_result"
    }
   ],
   "source": [
    "type(tuple_bio_data)"
   ]
  },
  {
   "cell_type": "code",
   "execution_count": 73,
   "id": "d1e6f556",
   "metadata": {},
   "outputs": [
    {
     "data": {
      "text/plain": [
       "'Hassan'"
      ]
     },
     "execution_count": 73,
     "metadata": {},
     "output_type": "execute_result"
    }
   ],
   "source": [
    "tuple_bio_data[1]"
   ]
  },
  {
   "cell_type": "code",
   "execution_count": 74,
   "id": "7068fc63",
   "metadata": {},
   "outputs": [
    {
     "data": {
      "text/plain": [
       "('Hassan', 18, 40.5, False, '4321-234567-0')"
      ]
     },
     "execution_count": 74,
     "metadata": {},
     "output_type": "execute_result"
    }
   ],
   "source": [
    "tuple_bio_data[1:]"
   ]
  },
  {
   "cell_type": "code",
   "execution_count": 75,
   "id": "3b1a2792",
   "metadata": {},
   "outputs": [
    {
     "data": {
      "text/plain": [
       "('Qasim', 'Hassan', 18, 40.5, False, '4321-234567-0')"
      ]
     },
     "execution_count": 75,
     "metadata": {},
     "output_type": "execute_result"
    }
   ],
   "source": [
    "tuple_bio_data"
   ]
  },
  {
   "cell_type": "code",
   "execution_count": 76,
   "id": "8c6f7245",
   "metadata": {},
   "outputs": [
    {
     "ename": "TypeError",
     "evalue": "'tuple' object does not support item assignment",
     "output_type": "error",
     "traceback": [
      "\u001b[1;31m---------------------------------------------------------------------------\u001b[0m",
      "\u001b[1;31mTypeError\u001b[0m                                 Traceback (most recent call last)",
      "Cell \u001b[1;32mIn [76], line 1\u001b[0m\n\u001b[1;32m----> 1\u001b[0m \u001b[43mtuple_bio_data\u001b[49m\u001b[43m[\u001b[49m\u001b[38;5;241;43m1\u001b[39;49m\u001b[43m]\u001b[49m \u001b[38;5;241m=\u001b[39m \u001b[38;5;124m\"\u001b[39m\u001b[38;5;124mMehmood\u001b[39m\u001b[38;5;124m\"\u001b[39m\n",
      "\u001b[1;31mTypeError\u001b[0m: 'tuple' object does not support item assignment"
     ]
    }
   ],
   "source": [
    "tuple_bio_data[1] = \"Mehmood\""
   ]
  },
  {
   "cell_type": "code",
   "execution_count": 78,
   "id": "acd944aa",
   "metadata": {},
   "outputs": [
    {
     "data": {
      "text/plain": [
       "1"
      ]
     },
     "execution_count": 78,
     "metadata": {},
     "output_type": "execute_result"
    }
   ],
   "source": [
    "tuple_bio_data.count('Qasim')"
   ]
  },
  {
   "cell_type": "code",
   "execution_count": 80,
   "id": "7413c7d5",
   "metadata": {},
   "outputs": [
    {
     "data": {
      "text/plain": [
       "1"
      ]
     },
     "execution_count": 80,
     "metadata": {},
     "output_type": "execute_result"
    }
   ],
   "source": [
    "tuple_bio_data.index('Hassan')"
   ]
  },
  {
   "cell_type": "markdown",
   "id": "3d96a213",
   "metadata": {},
   "source": [
    "## for loops"
   ]
  },
  {
   "cell_type": "code",
   "execution_count": 81,
   "id": "0207e0ad",
   "metadata": {},
   "outputs": [
    {
     "data": {
      "text/plain": [
       "['Pakistan',\n",
       " 'something new',\n",
       " 'Baltimore',\n",
       " 'Chicago',\n",
       " 'Denver',\n",
       " 'seattle',\n",
       " 'Los Angles',\n",
       " 'New York']"
      ]
     },
     "execution_count": 81,
     "metadata": {},
     "output_type": "execute_result"
    }
   ],
   "source": [
    "countries"
   ]
  },
  {
   "cell_type": "raw",
   "id": "6cb46cf3",
   "metadata": {},
   "source": [
    "searching_country = \"Pakistan\"\n",
    "\n",
    "if searching_country == countries[0]:\n",
    "    print(\"yes, Pakistan is available\")\n",
    "elif searching_country == countries[1]:\n",
    "    print(\"yes, Pakistan is available\")"
   ]
  },
  {
   "cell_type": "code",
   "execution_count": 88,
   "id": "a4931a13",
   "metadata": {},
   "outputs": [
    {
     "name": "stdout",
     "output_type": "stream",
     "text": [
      "Pakistan Zindabad\n",
      "Not availbale\n",
      "Not availbale\n",
      "Not availbale\n",
      "Not availbale\n",
      "Not availbale\n",
      "Not availbale\n",
      "Not availbale\n"
     ]
    }
   ],
   "source": [
    "for temp in countries:\n",
    "    if temp == \"Pakistan\":\n",
    "        print(\"Pakistan Zindabad\")\n",
    "    else:\n",
    "        print('Not availbale')"
   ]
  },
  {
   "cell_type": "code",
   "execution_count": 84,
   "id": "3e35b25e",
   "metadata": {},
   "outputs": [
    {
     "name": "stdout",
     "output_type": "stream",
     "text": [
      "Enter a Year: 1700\n",
      "1700 is a leap year\n"
     ]
    }
   ],
   "source": [
    "year = int(input(\"Enter a Year: \"))\n",
    "\n",
    "if (year % 4 ==0) and (year % 100 ==0) or (year % 400 ==0):\n",
    "    print(f\"{year} is a leap year\")\n",
    "else:\n",
    "    print(f\"{year} is not leap year\")"
   ]
  },
  {
   "cell_type": "code",
   "execution_count": 86,
   "id": "8502fd65",
   "metadata": {},
   "outputs": [
    {
     "name": "stdout",
     "output_type": "stream",
     "text": [
      "1600\n",
      "loop cycle end\n",
      "1700\n",
      "loop cycle end\n",
      "1800\n",
      "loop cycle end\n",
      "1900\n",
      "loop cycle end\n",
      "2000\n",
      "loop cycle end\n"
     ]
    }
   ],
   "source": [
    "for temp in [1600, 1700, 1800, 1900, 2000]:\n",
    "    print(temp)\n",
    "    print('loop cycle end')"
   ]
  },
  {
   "cell_type": "code",
   "execution_count": 87,
   "id": "9a06c4c4",
   "metadata": {},
   "outputs": [
    {
     "name": "stdout",
     "output_type": "stream",
     "text": [
      "1600 is a leap year\n",
      "1700 is a leap year\n",
      "1800 is a leap year\n",
      "1900 is a leap year\n",
      "2000 is a leap year\n"
     ]
    }
   ],
   "source": [
    "for year in [1600, 1700, 1800, 1900, 2000]:\n",
    "    \n",
    "    if (year % 4 ==0) and (year % 100 ==0) or (year % 400 ==0):\n",
    "        print(f\"{year} is a leap year\")\n",
    "    else:\n",
    "        print(f\"{year} is not leap year\")"
   ]
  },
  {
   "cell_type": "code",
   "execution_count": null,
   "id": "f6d33fdc",
   "metadata": {},
   "outputs": [],
   "source": [
    "# Generator Function\n",
    "\n",
    "range(10): 1-9, 3\n",
    "    \n",
    "1, 2, 3"
   ]
  },
  {
   "cell_type": "code",
   "execution_count": 93,
   "id": "ed6aa5e8",
   "metadata": {},
   "outputs": [
    {
     "data": {
      "text/plain": [
       "range(0, 10)"
      ]
     },
     "execution_count": 93,
     "metadata": {},
     "output_type": "execute_result"
    }
   ],
   "source": [
    "range(10)"
   ]
  },
  {
   "cell_type": "code",
   "execution_count": 105,
   "id": "ad367d8f",
   "metadata": {},
   "outputs": [
    {
     "name": "stdout",
     "output_type": "stream",
     "text": [
      "0\n",
      "1\n",
      "2\n",
      "3\n",
      "4\n",
      "5\n",
      "6\n",
      "7\n",
      "8\n",
      "9\n"
     ]
    }
   ],
   "source": [
    "for i in range(0, 10):\n",
    "    print(i)\n",
    "    "
   ]
  },
  {
   "cell_type": "code",
   "execution_count": 94,
   "id": "f39c7b9b",
   "metadata": {},
   "outputs": [
    {
     "name": "stdout",
     "output_type": "stream",
     "text": [
      "10\n",
      "11\n",
      "12\n",
      "13\n",
      "14\n"
     ]
    }
   ],
   "source": [
    "# range(start, end)\n",
    "for i in range(10, 15):\n",
    "    print(i)"
   ]
  },
  {
   "cell_type": "code",
   "execution_count": 95,
   "id": "6b633663",
   "metadata": {},
   "outputs": [
    {
     "name": "stdout",
     "output_type": "stream",
     "text": [
      "10\n",
      "12\n",
      "14\n",
      "16\n",
      "18\n"
     ]
    }
   ],
   "source": [
    "# range(start, end, step)\n",
    "for i in range(10, 20, 2):\n",
    "    print(i)"
   ]
  },
  {
   "cell_type": "code",
   "execution_count": 97,
   "id": "043ccaa5",
   "metadata": {},
   "outputs": [],
   "source": [
    "cleanest_cities = [\"Cheyenne\",\n",
    "                   \"Santa Fe\",\n",
    "                   \"Tucson\",\n",
    "                   \"Great Falls\",\n",
    "                   \"Honolulu\"]"
   ]
  },
  {
   "cell_type": "code",
   "execution_count": 103,
   "id": "b15584e4",
   "metadata": {},
   "outputs": [
    {
     "name": "stdout",
     "output_type": "stream",
     "text": [
      "It's one of the cleanest cities\n"
     ]
    }
   ],
   "source": [
    "city_to_check = \"Santa Fe\"\n",
    "\n",
    "if city_to_check == cleanest_cities[0]:\n",
    "    print(\"It's one of the cleanest cities\")\n",
    "elif city_to_check == cleanest_cities[1]:\n",
    "    print(\"It's one of the cleanest cities\")\n",
    "elif city_to_check == cleanest_cities[2]:\n",
    "    print(\"It's one of the cleanest cities\")\n",
    "elif city_to_check == cleanest_cities[3]:\n",
    "    print(\"It's one of the cleanest cities\")\n",
    "elif city_to_check == cleanest_cities[4]:\n",
    "    print(\"It's one of the cleanest cities\")\n",
    "else:\n",
    "    print(\"Not Available\")"
   ]
  },
  {
   "cell_type": "code",
   "execution_count": 104,
   "id": "ceab5d6b",
   "metadata": {},
   "outputs": [
    {
     "name": "stdout",
     "output_type": "stream",
     "text": [
      "It's one of the cleanest cities\n"
     ]
    }
   ],
   "source": [
    "for a_clean_city in cleanest_cities:\n",
    "    if city_to_check == a_clean_city:\n",
    "        print(\"It's one of the cleanest cities\")"
   ]
  },
  {
   "cell_type": "code",
   "execution_count": null,
   "id": "956465ca",
   "metadata": {},
   "outputs": [],
   "source": []
  }
 ],
 "metadata": {
  "kernelspec": {
   "display_name": "Python 3 (ipykernel)",
   "language": "python",
   "name": "python3"
  },
  "language_info": {
   "codemirror_mode": {
    "name": "ipython",
    "version": 3
   },
   "file_extension": ".py",
   "mimetype": "text/x-python",
   "name": "python",
   "nbconvert_exporter": "python",
   "pygments_lexer": "ipython3",
   "version": "3.11.5"
  },
  "toc": {
   "base_numbering": 1,
   "nav_menu": {},
   "number_sections": true,
   "sideBar": true,
   "skip_h1_title": false,
   "title_cell": "Table of Contents",
   "title_sidebar": "Contents",
   "toc_cell": false,
   "toc_position": {},
   "toc_section_display": true,
   "toc_window_display": false
  }
 },
 "nbformat": 4,
 "nbformat_minor": 5
}
